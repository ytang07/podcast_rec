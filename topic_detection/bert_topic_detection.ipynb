{
 "cells": [
  {
   "cell_type": "code",
   "execution_count": 1,
   "metadata": {},
   "outputs": [
    {
     "name": "stderr",
     "output_type": "stream",
     "text": [
      "/Users/yujian/Documents/personal-workspace/level-1-python/level1_py310/lib/python3.10/site-packages/tqdm/auto.py:22: TqdmWarning: IProgress not found. Please update jupyter and ipywidgets. See https://ipywidgets.readthedocs.io/en/stable/user_install.html\n",
      "  from .autonotebook import tqdm as notebook_tqdm\n"
     ]
    }
   ],
   "source": [
    "from bertopic import BERTopic\n",
    "from sklearn.datasets import fetch_20newsgroups"
   ]
  },
  {
   "cell_type": "code",
   "execution_count": 2,
   "metadata": {},
   "outputs": [],
   "source": [
    "# fetch an example dataset from sklearn\n",
    "docs = fetch_20newsgroups(subset='all')['data']"
   ]
  },
  {
   "cell_type": "code",
   "execution_count": 3,
   "metadata": {},
   "outputs": [
    {
     "name": "stdout",
     "output_type": "stream",
     "text": [
      "18846\n"
     ]
    }
   ],
   "source": [
    "print(len(docs))"
   ]
  },
  {
   "cell_type": "code",
   "execution_count": 4,
   "metadata": {},
   "outputs": [
    {
     "name": "stdout",
     "output_type": "stream",
     "text": [
      "From: Mamatha Devineni Ratnam <mr47+@andrew.cmu.edu>\n",
      "Subject: Pens fans reactions\n",
      "Organization: Post Office, Carnegie Mellon, Pittsburgh, PA\n",
      "Lines: 12\n",
      "NNTP-Posting-Host: po4.andrew.cmu.edu\n",
      "\n",
      "\n",
      "\n",
      "I am sure some bashers of Pens fans are pretty confused about the lack\n",
      "of any kind of posts about the recent Pens massacre of the Devils. Actually,\n",
      "I am  bit puzzled too and a bit relieved. However, I am going to put an end\n",
      "to non-PIttsburghers' relief with a bit of praise for the Pens. Man, they\n",
      "are killing those Devils worse than I thought. Jagr just showed you why\n",
      "he is much better than his regular season stats. He is also a lot\n",
      "fo fun to watch in the playoffs. Bowman should let JAgr have a lot of\n",
      "fun in the next couple of games since the Pens are going to beat the pulp out of Jersey anyway. I was very disappointed not to see the Islanders lose the final\n",
      "regular season game.          PENS RULE!!!\n",
      "\n",
      "\n"
     ]
    }
   ],
   "source": [
    "print(docs[0])"
   ]
  },
  {
   "cell_type": "code",
   "execution_count": 5,
   "metadata": {},
   "outputs": [
    {
     "name": "stdout",
     "output_type": "stream",
     "text": [
      "From: gritter@cs.purdue.edu (Carl Gritter)\n",
      "Subject: NHL ALLTIME SCORING LEADERS\n",
      "Organization: Purdue University Department of Computer Sciences\n",
      "Lines: 235\n",
      "Distribution: world\n",
      "NNTP-Posting-Host: morgause.cs.purdue.edu\n",
      "\n",
      "\n",
      "Here are the NHL's alltime leaders in goals and points at the end of\n",
      "the 1992-3 season. Again, much thanks to Joseph Achkar.\n",
      "\n",
      "Carl\n",
      "\n",
      "Notes: An active player is a player that has scored at least one\n",
      "point the past season.  The points leaders follow the goal leaders.\n",
      "If you find any mistakes, please send me email.\n",
      "-------------------------------------------------------------------\n",
      "\n",
      "All time NHL leading goal scorers (* denotes active player):\n",
      "\n",
      "  1.  Gordie Howe          Det-Hfd                            801\n",
      "  2. *Wayne Gretzky        Edm-LA                             765\n",
      "  3.  Marcel Dionne        Det-LA-NYR                         731\n",
      "  4.  Phil Esposito        Chi-Bos-NYR                        717\n",
      "  5.  Bobby Hull           Chi-Wpg-Hfd                        610\n",
      "  6. *Mike Gartner         Wsh-Min-NYR                        583\n",
      "  7.  Mike Bossy           NYI                                573\n",
      "  8.  Guy Lafleur          Mtl-NYR-Que                        560\n",
      "  9.  Johnny Bucyk         Det-Bos                            556\n",
      " 10.  Maurice Richard      Mtl                                544\n",
      " 11.  Stan Mikita          Chi                                541\n",
      " 12.  Frank Mahovlich      Tor-Det-Mtl                        533\n",
      " 13. *Michel Goulet        Que-Chi                            532\n",
      " 14. *Jari Kurri           Edm-LA                             524\n",
      " 15.  Bryan Trottier       NYI-Pit                            520\n",
      " 16.  Gilbert Perreault    Buf                                512\n",
      " 17.  Jean Beliveau        Mtl                                507\n",
      " 18.  Lanny McDonald       Tor-Col-Cgy                        500\n",
      " 19.  Jean Ratelle         NYR-Bos                            491\n",
      " 20.  Norm Ullman          Det-Tor                            490\n",
      " 21. *Dino Ciccarelli      Min-Wsh-Det                        485\n",
      " 22.  Darryl Sittler       Tor-Phi-Det                        484\n",
      " 23. *Mario Lemieux        Pit                                477\n",
      " 24. *Glenn Anderson       Edm-Tor                            459\n",
      " 25.  Alex Delvecchio      Det                                456\n",
      " 26. *Mark Messier         Edm-NYR                            452\n",
      " 27. *Dale Hawerchuk       Wpg-Buf                            449\n",
      " 28.  Rick Middleton       NYR-Bos                            448\n",
      " 29. *Steve Yzerman        Det                                445\n",
      " 30. *Peter Stastny        Que-NJ                             444\n",
      " 31.  Rick Vaive           Van-Tor-Chi-Buf                    441\n",
      " 32. *Joe Mullen           StL-Cgy-Pit                        433\n",
      " 33.  Yvan Cournoyer       Mtl                                428\n",
      " 34. *Dave Taylor          LA                                 427\n",
      " 35.  Steve Shutt          Mtl-LA                             424\n",
      " 36. *Denis Savard         Chi-Mtl                            423\n",
      " 37.  Bill Barber          Phi                                420\n",
      " 38. *Brian Propp          Phi-Bos-Min                        413\n",
      " 39.  Gary Unger           Tor-Det-StL-Atl-LA-Edm             413\n",
      " 40.  Rod Gilbert          NYR                                406\n",
      " 41. *Steve Larmer         Chi                                406\n",
      " 42. *John Ogrodnick       Det-Que-NYR                        402\n",
      "-----------------------------------------------------------------\n",
      "\n",
      "Other active players:\n",
      "     *Bernie Nicholls      LA-NYR-Edm-NJ                      397\n",
      "     *Pat LaFontaine       NYI-Buf                            386\n",
      "     *Brian Bellows        Min-Mtl                            382\n",
      "     *Dave Andreychuk      Buf-Tor                            373\n",
      "     *Tim Kerr             Phi-NYR-Hfd                        370\n",
      "     *Bobby Smith          Min-Mtl                            357\n",
      "     *Brett Hull           Cgy-StL                            356\n",
      "     *Luc Robitaille       LA                                 353\n",
      "     *Mike Foligno         Det-Buf-Tor                        351\n",
      "     *Dave Christian       Wpg-Wsh-Bos-StL-Chi                340\n",
      "     *Paul Coffey          Edm-Pit-LA-Det                     330\n",
      "     *Brent Sutter         NYI-Chi                            325\n",
      "     *Pat Verbeek          NJ-Hfd                             318\n",
      "     *Ron Francis          Hfd-Pit                            311\n",
      "     *Cam Neely            Van-Bos                            292\n",
      "     *Ray Bourque          Bos                                291\n",
      "     *Bob Carpenter        Wsh-NYR-LA-Bos-Tor                 285\n",
      "     *Brent Ashton         Van-Col-NJ-Min-Que-Det-Wpg-Bos-Cgy 284\n",
      "     *Doug Gilmour         Stl-Cgy-Tor                        277\n",
      "     *Rick Tocchet         Phi-Pit                            277\n",
      "     *Kevin Dineen         Hfd-Phi                            275\n",
      "     *Tomas Sandstrom      NYR-LA                             273\n",
      "     *Dale Hunter          Que-Wsh                            269\n",
      "     *Ryan Walter          Wsh-Mtl-Van                        264\n",
      "     *Brian Mullen         Wpg-NYR-SJ-NYI                     260\n",
      "     *Ed Olczyk            Chi-Tor-Wpg-NYR                    260\n",
      "     *Kirk Muller          NJ-Mtl                             258\n",
      "     *Joe Nieuwendyk       Cgy                                257\n",
      "     *Jimmy Carson         LA-Edm-Det                         254\n",
      "\n",
      "------------------------------------------------------------------------------\n",
      "\n",
      "All time NHL scoring leaders (* denotes active player):\n",
      "\n",
      "  1. *Wayne Gretzky        Edm-LA                             765 1563 2328\n",
      "  2.  Gordie Howe          Det-Hfd                            801 1049 1850\n",
      "  3.  Marcel Dionne        Det-LA-NYR                         731 1040 1771\n",
      "  4.  Phil Esposito        Chi-Bos-NYR                        717  873 1590\n",
      "  5.  Stan Mikita          Chi                                541  926 1467\n",
      "  6.  Bryan Trottier       NYI-Pit                            520  890 1410\n",
      "  7.  Johnny Bucyk         Det-Bos                            556  813 1369\n",
      "  8.  Guy Lafleur          Mtl-NYR-Que                        560  793 1353\n",
      "  9.  Gilbert Perreault    Buf                                512  814 1326\n",
      " 10.  Alex Delvecchio      Det                                456  825 1281\n",
      " 11.  Jean Ratelle         NYR-Bos                            491  776 1267\n",
      " 12. *Mark Messier         Edm-NYR                            452  780 1232\n",
      " 13.  Norm Ullman          Det-Tor                            490  739 1229\n",
      " 14. *Peter Stastny        Que-NJ                             444  777 1221\n",
      " 15.  Jean Beliveau        Mtl                                507  712 1219\n",
      " 16. *Dale Hawerchuk       Wpg-Buf                            449  763 1212\n",
      " 17.  Bobby Clarke         Phi                                358  852 1210\n",
      " 18. *Paul Coffey          Edm-Pit-LA-Det                     330  871 1201\n",
      " 19. *Denis Savard         Chi-Mtl                            423  769 1192\n",
      " 20. *Jari Kurri           Edm-LA                             524  666 1190\n",
      " 21. *Mario Lemieux        Pit                                477  697 1174\n",
      " 22.  Bobby Hull           Chi-Wpg-Hfd                        610  560 1170\n",
      " 23.  Bernie Federko       StL                                369  761 1130\n",
      " 24.  Mike Bossy           NYI                                573  553 1126\n",
      " 25. *Michel Goulet        Que-Chi                            532  590 1122\n",
      " 26.  Darryl Sittler       Tor-Phi-Det                        484  637 1121\n",
      " 27. *Mike Gartner         Wsh-Min-NYR                        583  524 1107\n",
      " 28.  Frank Mahovlich      Tor-Det-Mtl                        533  570 1103\n",
      " 29. *Ray Bourque          Bos                                291  806 1099\n",
      " 30. *Dave Taylor          LA                                 427  635 1062\n",
      " 31.  Denis Potvin         NYI                                310  742 1052\n",
      " 32.  Henri Richard        Mtl                                358  688 1046\n",
      " 33. *Steve Yzerman        Det                                445  595 1040\n",
      " 34. *Bobby Smith          Min-Mtl                            357  679 1036\n",
      " 35.  Rod Gilbert          NYR                                406  615 1021\n",
      " 36. *Glenn Anderson       Edm-Tor                            459  559 1018\n",
      " 37.  Lanny McDonald       Tor-Col-Cgy                        500  506 1006\n",
      " 38.  Rick Middleton       NYR-Bos                            448  540  988\n",
      " 39.  Dave Keon            Tor-Hfd                            396  590  986\n",
      " 40. *Ron Francis          Hfd-Pit                            311  675  986\n",
      " 41. *Bernie Nicholls      LA-NYR-Edm-NJ                      397  580  977\n",
      " 42. *Brian Propp          Phi-Bos-Min                        413  561  974\n",
      " 43.  Andy Bathgate        NYR-Tor-Det-Pit                    349  624  973\n",
      " 44.  Maurice Richard      Mtl                                544  421  965\n",
      " 45.  Larry Robinson       Mtl-LA                             208  750  958\n",
      " 46. *Dino Ciccarelli      Min-Wsh-Det                        485  472  957\n",
      " 47. *Steve Larmer         Chi                                406  517  923\n",
      " 48. *Joe Mullen           StL-Cgy-Pit                        433  486  919\n",
      " 49.  Bobby Orr            Bos-Chi                            270  645  915\n",
      " 50.  Brad Park            NYR-Bos-Det                        213  683  896\n",
      " 51.  Butch Goring         LA-NYI-Bos                         375  513  888\n",
      " 52.  Bill Barber          Phi                                420  463  883\n",
      " 53.  Dennis Maruk         Cal-Cle-Wsh-Min                    356  521  877\n",
      " 54.  Ivan Boldirev        Bos-Cal-Chi-Atl-Van-Det            361  505  866\n",
      " 55.  Yvan Cournoyer       Mtl                                428  435  863\n",
      " 56.  Dean Prentice        NYR-Bos-Det-Pit-Min                391  469  860\n",
      " 57.  Ted Lindsay          Det-Chi                            379  472  851\n",
      " 58.  Tom Lysiak           Atl-Chi                            292  551  843\n",
      " 59. *Dale Hunter          Que-Wsh                            269  570  839\n",
      " 60.  John Tonelli         NYI-Cgy-LA-Chi-Que                 325  511  836\n",
      " 61.  Jacques Lemaire      Mtl                                366  469  835\n",
      " 62. *Larry Murphy         LA-Wsh-Min-Pit                     203  631  834\n",
      " 63. *John Ogrodnick       Det-Que-NYR                        402  425  827\n",
      " 64. *Doug Wilson          Chi-SJ                             237  590  827\n",
      " 65. *Doug Gilmour         Stl-Cgy-Tor                        277  548  825\n",
      " 66.  Red Kelly            Det-Tor                            281  542  823\n",
      " 67.  Pierre Larouche      Pit-Mtl-Hfd-NYR                    395  427  822\n",
      " 68.  Bernie Geoffrion     Mtl-NYR                            393  429  822\n",
      " 69.  Steve Shutt          Mtl-LA                             424  393  817\n",
      " 70. *Phil Housley         Buf-Wpg                            242  575  817\n",
      " 71.  Wilf Paiment         KC-Col-Tor-Que-NYR-Buf-Pit         356  458  814\n",
      " 72.  Peter McNab          Buf-Bos-Van-NJ                     363  450  813\n",
      " 73. *Brian Bellows        Min-Mtl                            382  428  810\n",
      " 74. *Dave Andreychuk      Buf-Tor                            373  436  809\n",
      " 75.  Pit Martin           Det-Bos-Chi-Van                    324  485  809\n",
      " 76. *Pat LaFontaine       NYI-Buf                            386  421  807\n",
      " 77.  Ken Linesman         Phi-Edm-Bos                        256  551  807\n",
      " 78.  Gary Unger           Tor-Det-StL-Atl-LA-Edm             413  391  804\n",
      " 79.  Ken Hodge,Sr         Chi-Bos-NYR                        328  472  800\n",
      " 80. *Neal Broten          Min                                249  547  796\n",
      " 81.  Wayne Cashman        Bos                                277  516  793\n",
      " 82.  Rick Vaive           Van-Tor-Chi-Buf                    441  347  788\n",
      " 83.  Borje Salming        Tor-Det                            150  637  787\n",
      " 84.  Jean Pronovost       Pit-Atl-Wsh                        391  383  774\n",
      " 85.  Peter Mahovlich      Det-Mtl-Pit                        288  485  773\n",
      " 86. *Dave Christian       Wpg-Wsh-Bos-StL-Chi                340  430  770\n",
      " 87.  Rick Kehoe           Tor-Pit                            371  396  767\n",
      " 88.  Rick MacLeish        Phi-Hfd-Pit-Det                    349  410  759\n",
      " 89. *Thomas Steen         Wpg                                240  511  751\n",
      "---------------------------------------------------------------------------\n",
      "\n",
      "Other active players:\n",
      "     *Al MacInnis          Cgy                                185  555  740\n",
      "     *Luc Robitaille       LA                                 353  371  724\n",
      "     *Mike Foligno         Det-Buf-Tor                        351  367  718\n",
      "     *Brent Sutter         NYI-Chi                            325  389  714\n",
      "     *Mark Howe            Hfd-Phi-Det                        192  520  712\n",
      "     *Kirk Muller          NJ-Mtl                             258  433  691\n",
      "     *Tim Kerr             Phi-NYR-Hfd                        370  304  674\n",
      "     *Adam Oates           Det-StL-Bos                        167  490  657\n",
      "     *Randy Carlyle        Tor-Pit-Wpg                        148  499  647\n",
      "     *Ryan Walter          Wsh-Mtl-Van                        264  382  646\n",
      "     *Pat Verbeek          NJ-Hfd                             318  313  631\n",
      "     *Brent Ashton         Van-Col-NJ-Min-Que-Det-Wpg-Bos-Cgy 284  345  629\n",
      "     *Bob Carpenter        Wsh-NYR-LA-Bos-Tor                 285  337  622\n",
      "     *Brian Mullen         Wpg-NYR-SJ-NYI                     260  362  622\n",
      "     *Ed Olczyk            Chi-Tor-Wpg-NYR                    260  358  618\n",
      "     *Kelly Kisio          Det-NYR-SJ                         215  402  617\n",
      "     *Brett Hull           Cgy-StL                            356  247  603\n",
      "     *Rick Tocchet         Phi-Pit                            277  324  601\n",
      "     *Dan Quinn            Cgy-Pit-Van-StL-Phi-Min            232  367  599\n",
      "     *Scott Stevens        Wsh-StL-NJ                         132  462  594\n",
      "     *Tomas Sandstrom      NYR-LA                             273  320  593\n",
      "     *Tom Fergus           Bos-Tor-Van                        235  346  581\n",
      "     *Dave Babych          Wpg-Hfd-Van                        120  460  580\n",
      "     *Mike Ridley          NYR-Wsh                            230  348  578\n",
      "     *Laurie Boschman      Tor-Edm-Wpg-NJ-Ott                 225  350  575\n",
      "     *Keith Acton          Mtl-Min-Edm-Phi                    224  350  574\n",
      "     *Murray Craven        Det-Phi-Hfd                        205  365  570\n",
      "     *Kevin Dineen         Hfd-Phi                            275  290  565\n",
      "     *Rob Ramage           Col-StL-Cgy-Tor-Min-TB             139  423  562\n",
      "     *Mike Krushelnyski    Bos-Edm-LA-Tor                     234  319  553\n",
      "     *Gary Suter           Cgy                                124  428  552\n",
      "     *Pierre Turgeon       Buf-NYI                            218  324  542\n",
      "     *Troy Murray          Chi-Wpg                            217  324  541\n",
      "     *Cam Neely            Van-Bos                            292  241  533\n",
      "     *Geoff Courtnall      Bos-Edm-Wsh-StL-Van                246  274  520\n",
      "     *Vincent Damphousse   Tor-Edm-Mtl                        195  320  515\n",
      "     *Jimmy Carson         LA-Edm-Det                         254  259  513\n",
      "     *Peter Zezel          Phi-StL-Wsh-Tor                    182  328  510\n",
      "     *Guy Carbonneau       Mtl                                207  302  509\n",
      "     *Mark Osborne         Det-NYR-Tor-Wpg                    202  301  503\n",
      "     *Chris Chelios        Mtl-Chi                            108  394  502\n",
      "     *Dave Poulin          Phi-Bos                            195  301  496\n",
      "     *Ray Ferraro          Hfd-NYI                            230  263  493\n",
      "     *Russ Courtnall       Tor-Mtl-Min                        208  284  492\n",
      "     *Joe Nieuwendyk       Cgy                                257  234  491\n",
      "     *John MacLean         NJ                                 241  248  489\n",
      "-- \n",
      "\n",
      "\n",
      "\n",
      "\n",
      "\n"
     ]
    }
   ],
   "source": [
    "print(docs[44])"
   ]
  },
  {
   "cell_type": "code",
   "execution_count": 4,
   "metadata": {},
   "outputs": [
    {
     "name": "stdout",
     "output_type": "stream",
     "text": [
      "huggingface/tokenizers: The current process just got forked, after parallelism has already been used. Disabling parallelism to avoid deadlocks...\n",
      "To disable this warning, you can either:\n",
      "\t- Avoid using `tokenizers` before the fork if possible\n",
      "\t- Explicitly set the environment variable TOKENIZERS_PARALLELISM=(true | false)\n",
      "huggingface/tokenizers: The current process just got forked, after parallelism has already been used. Disabling parallelism to avoid deadlocks...\n",
      "To disable this warning, you can either:\n",
      "\t- Avoid using `tokenizers` before the fork if possible\n",
      "\t- Explicitly set the environment variable TOKENIZERS_PARALLELISM=(true | false)\n",
      "huggingface/tokenizers: The current process just got forked, after parallelism has already been used. Disabling parallelism to avoid deadlocks...\n",
      "To disable this warning, you can either:\n",
      "\t- Avoid using `tokenizers` before the fork if possible\n",
      "\t- Explicitly set the environment variable TOKENIZERS_PARALLELISM=(true | false)\n",
      "huggingface/tokenizers: The current process just got forked, after parallelism has already been used. Disabling parallelism to avoid deadlocks...\n",
      "To disable this warning, you can either:\n",
      "\t- Avoid using `tokenizers` before the fork if possible\n",
      "\t- Explicitly set the environment variable TOKENIZERS_PARALLELISM=(true | false)\n",
      "huggingface/tokenizers: The current process just got forked, after parallelism has already been used. Disabling parallelism to avoid deadlocks...\n",
      "To disable this warning, you can either:\n",
      "\t- Avoid using `tokenizers` before the fork if possible\n",
      "\t- Explicitly set the environment variable TOKENIZERS_PARALLELISM=(true | false)\n"
     ]
    }
   ],
   "source": [
    "model = BERTopic()\n",
    "topics, probs = model.fit_transform(docs)"
   ]
  },
  {
   "cell_type": "code",
   "execution_count": 5,
   "metadata": {},
   "outputs": [
    {
     "data": {
      "text/html": [
       "<div>\n",
       "<style scoped>\n",
       "    .dataframe tbody tr th:only-of-type {\n",
       "        vertical-align: middle;\n",
       "    }\n",
       "\n",
       "    .dataframe tbody tr th {\n",
       "        vertical-align: top;\n",
       "    }\n",
       "\n",
       "    .dataframe thead th {\n",
       "        text-align: right;\n",
       "    }\n",
       "</style>\n",
       "<table border=\"1\" class=\"dataframe\">\n",
       "  <thead>\n",
       "    <tr style=\"text-align: right;\">\n",
       "      <th></th>\n",
       "      <th>Topic</th>\n",
       "      <th>Count</th>\n",
       "    </tr>\n",
       "  </thead>\n",
       "  <tbody>\n",
       "    <tr>\n",
       "      <th>0</th>\n",
       "      <td>-1</td>\n",
       "      <td>6593</td>\n",
       "    </tr>\n",
       "    <tr>\n",
       "      <th>1</th>\n",
       "      <td>0</td>\n",
       "      <td>431</td>\n",
       "    </tr>\n",
       "    <tr>\n",
       "      <th>2</th>\n",
       "      <td>1</td>\n",
       "      <td>232</td>\n",
       "    </tr>\n",
       "    <tr>\n",
       "      <th>3</th>\n",
       "      <td>2</td>\n",
       "      <td>181</td>\n",
       "    </tr>\n",
       "    <tr>\n",
       "      <th>4</th>\n",
       "      <td>3</td>\n",
       "      <td>167</td>\n",
       "    </tr>\n",
       "    <tr>\n",
       "      <th>...</th>\n",
       "      <td>...</td>\n",
       "      <td>...</td>\n",
       "    </tr>\n",
       "    <tr>\n",
       "      <th>348</th>\n",
       "      <td>355</td>\n",
       "      <td>11</td>\n",
       "    </tr>\n",
       "    <tr>\n",
       "      <th>347</th>\n",
       "      <td>351</td>\n",
       "      <td>11</td>\n",
       "    </tr>\n",
       "    <tr>\n",
       "      <th>357</th>\n",
       "      <td>356</td>\n",
       "      <td>10</td>\n",
       "    </tr>\n",
       "    <tr>\n",
       "      <th>358</th>\n",
       "      <td>357</td>\n",
       "      <td>10</td>\n",
       "    </tr>\n",
       "    <tr>\n",
       "      <th>359</th>\n",
       "      <td>358</td>\n",
       "      <td>10</td>\n",
       "    </tr>\n",
       "  </tbody>\n",
       "</table>\n",
       "<p>360 rows × 2 columns</p>\n",
       "</div>"
      ],
      "text/plain": [
       "     Topic  Count\n",
       "0       -1   6593\n",
       "1        0    431\n",
       "2        1    232\n",
       "3        2    181\n",
       "4        3    167\n",
       "..     ...    ...\n",
       "348    355     11\n",
       "347    351     11\n",
       "357    356     10\n",
       "358    357     10\n",
       "359    358     10\n",
       "\n",
       "[360 rows x 2 columns]"
      ]
     },
     "execution_count": 5,
     "metadata": {},
     "output_type": "execute_result"
    }
   ],
   "source": [
    "model.get_topic_freq()"
   ]
  },
  {
   "cell_type": "code",
   "execution_count": 11,
   "metadata": {},
   "outputs": [
    {
     "data": {
      "text/html": [
       "<div>\n",
       "<style scoped>\n",
       "    .dataframe tbody tr th:only-of-type {\n",
       "        vertical-align: middle;\n",
       "    }\n",
       "\n",
       "    .dataframe tbody tr th {\n",
       "        vertical-align: top;\n",
       "    }\n",
       "\n",
       "    .dataframe thead th {\n",
       "        text-align: right;\n",
       "    }\n",
       "</style>\n",
       "<table border=\"1\" class=\"dataframe\">\n",
       "  <thead>\n",
       "    <tr style=\"text-align: right;\">\n",
       "      <th></th>\n",
       "      <th>Topic</th>\n",
       "      <th>Count</th>\n",
       "      <th>Name</th>\n",
       "    </tr>\n",
       "  </thead>\n",
       "  <tbody>\n",
       "    <tr>\n",
       "      <th>0</th>\n",
       "      <td>-1</td>\n",
       "      <td>6593</td>\n",
       "      <td>-1_the_to_and_of</td>\n",
       "    </tr>\n",
       "    <tr>\n",
       "      <th>1</th>\n",
       "      <td>0</td>\n",
       "      <td>431</td>\n",
       "      <td>0_gun_guns_firearms_weapons</td>\n",
       "    </tr>\n",
       "    <tr>\n",
       "      <th>2</th>\n",
       "      <td>1</td>\n",
       "      <td>232</td>\n",
       "      <td>1_address_mailing_email_list</td>\n",
       "    </tr>\n",
       "    <tr>\n",
       "      <th>3</th>\n",
       "      <td>2</td>\n",
       "      <td>181</td>\n",
       "      <td>2_jesus_bible_scripture_judas</td>\n",
       "    </tr>\n",
       "    <tr>\n",
       "      <th>4</th>\n",
       "      <td>3</td>\n",
       "      <td>167</td>\n",
       "      <td>3_atheists_atheism_god_atheist</td>\n",
       "    </tr>\n",
       "    <tr>\n",
       "      <th>...</th>\n",
       "      <td>...</td>\n",
       "      <td>...</td>\n",
       "      <td>...</td>\n",
       "    </tr>\n",
       "    <tr>\n",
       "      <th>355</th>\n",
       "      <td>354</td>\n",
       "      <td>11</td>\n",
       "      <td>354_visualization_graphics_seminar_lipman</td>\n",
       "    </tr>\n",
       "    <tr>\n",
       "      <th>356</th>\n",
       "      <td>355</td>\n",
       "      <td>11</td>\n",
       "      <td>355_mattingly_don_drm6640teslanjitedu_baseman</td>\n",
       "    </tr>\n",
       "    <tr>\n",
       "      <th>357</th>\n",
       "      <td>356</td>\n",
       "      <td>10</td>\n",
       "      <td>356_mining_ssf_funds_miners</td>\n",
       "    </tr>\n",
       "    <tr>\n",
       "      <th>358</th>\n",
       "      <td>357</td>\n",
       "      <td>10</td>\n",
       "      <td>357_voltage_current_output_supply</td>\n",
       "    </tr>\n",
       "    <tr>\n",
       "      <th>359</th>\n",
       "      <td>358</td>\n",
       "      <td>10</td>\n",
       "      <td>358_gopher_phigs_search_database</td>\n",
       "    </tr>\n",
       "  </tbody>\n",
       "</table>\n",
       "<p>360 rows × 3 columns</p>\n",
       "</div>"
      ],
      "text/plain": [
       "     Topic  Count                                           Name\n",
       "0       -1   6593                               -1_the_to_and_of\n",
       "1        0    431                    0_gun_guns_firearms_weapons\n",
       "2        1    232                   1_address_mailing_email_list\n",
       "3        2    181                  2_jesus_bible_scripture_judas\n",
       "4        3    167                 3_atheists_atheism_god_atheist\n",
       "..     ...    ...                                            ...\n",
       "355    354     11      354_visualization_graphics_seminar_lipman\n",
       "356    355     11  355_mattingly_don_drm6640teslanjitedu_baseman\n",
       "357    356     10                    356_mining_ssf_funds_miners\n",
       "358    357     10              357_voltage_current_output_supply\n",
       "359    358     10               358_gopher_phigs_search_database\n",
       "\n",
       "[360 rows x 3 columns]"
      ]
     },
     "execution_count": 11,
     "metadata": {},
     "output_type": "execute_result"
    }
   ],
   "source": [
    "model.get_topic_info()"
   ]
  },
  {
   "cell_type": "code",
   "execution_count": 6,
   "metadata": {},
   "outputs": [
    {
     "data": {
      "application/vnd.plotly.v1+json": {
       "config": {
        "plotlyServerURL": "https://plot.ly"
       },
       "data": [
        {
         "hoverinfo": "text",
         "marker": {
          "color": "rgb(0,116,217)"
         },
         "mode": "lines",
         "type": "scatter",
         "x": [
          0,
          1.0540521227431385,
          1.0540521227431385,
          0
         ],
         "xaxis": "x",
         "y": [
          -5,
          -5,
          -15,
          -15
         ],
         "yaxis": "y"
        },
        {
         "hoverinfo": "text",
         "marker": {
          "color": "rgb(0,116,217)"
         },
         "mode": "lines",
         "type": "scatter",
         "x": [
          0,
          1.1209315212705349,
          1.1209315212705349,
          0
         ],
         "xaxis": "x",
         "y": [
          -25,
          -25,
          -35,
          -35
         ],
         "yaxis": "y"
        },
        {
         "hoverinfo": "text",
         "marker": {
          "color": "rgb(0,116,217)"
         },
         "mode": "lines",
         "type": "scatter",
         "x": [
          0,
          1.017633860241197,
          1.017633860241197,
          0
         ],
         "xaxis": "x",
         "y": [
          -55,
          -55,
          -65,
          -65
         ],
         "yaxis": "y"
        },
        {
         "hoverinfo": "text",
         "marker": {
          "color": "rgb(0,116,217)"
         },
         "mode": "lines",
         "type": "scatter",
         "x": [
          1.017633860241197,
          1.1333094562409636,
          1.1333094562409636,
          0
         ],
         "xaxis": "x",
         "y": [
          -60,
          -60,
          -75,
          -75
         ],
         "yaxis": "y"
        },
        {
         "hoverinfo": "text",
         "marker": {
          "color": "rgb(0,116,217)"
         },
         "mode": "lines",
         "type": "scatter",
         "x": [
          0,
          1.2042107036900145,
          1.2042107036900145,
          1.1333094562409636
         ],
         "xaxis": "x",
         "y": [
          -45,
          -45,
          -67.5,
          -67.5
         ],
         "yaxis": "y"
        },
        {
         "hoverinfo": "text",
         "marker": {
          "color": "rgb(0,116,217)"
         },
         "mode": "lines",
         "type": "scatter",
         "x": [
          1.2042107036900145,
          1.242124234074881,
          1.242124234074881,
          0
         ],
         "xaxis": "x",
         "y": [
          -56.25,
          -56.25,
          -85,
          -85
         ],
         "yaxis": "y"
        },
        {
         "hoverinfo": "text",
         "marker": {
          "color": "rgb(0,116,217)"
         },
         "mode": "lines",
         "type": "scatter",
         "x": [
          1.1209315212705349,
          1.2972726604620233,
          1.2972726604620233,
          1.242124234074881
         ],
         "xaxis": "x",
         "y": [
          -30,
          -30,
          -70.625,
          -70.625
         ],
         "yaxis": "y"
        },
        {
         "hoverinfo": "text",
         "marker": {
          "color": "rgb(0,116,217)"
         },
         "mode": "lines",
         "type": "scatter",
         "x": [
          1.0540521227431385,
          1.4748491523141019,
          1.4748491523141019,
          1.2972726604620233
         ],
         "xaxis": "x",
         "y": [
          -10,
          -10,
          -50.3125,
          -50.3125
         ],
         "yaxis": "y"
        },
        {
         "hoverinfo": "text",
         "marker": {
          "color": "rgb(61,153,112)"
         },
         "mode": "lines",
         "type": "scatter",
         "x": [
          0,
          0.9423605577065384,
          0.9423605577065384,
          0
         ],
         "xaxis": "x",
         "y": [
          -105,
          -105,
          -115,
          -115
         ],
         "yaxis": "y"
        },
        {
         "hoverinfo": "text",
         "marker": {
          "color": "rgb(0,116,217)"
         },
         "mode": "lines",
         "type": "scatter",
         "x": [
          0.9423605577065384,
          1.0616220161889376,
          1.0616220161889376,
          0
         ],
         "xaxis": "x",
         "y": [
          -110,
          -110,
          -125,
          -125
         ],
         "yaxis": "y"
        },
        {
         "hoverinfo": "text",
         "marker": {
          "color": "rgb(0,116,217)"
         },
         "mode": "lines",
         "type": "scatter",
         "x": [
          0,
          1.0964448536416445,
          1.0964448536416445,
          1.0616220161889376
         ],
         "xaxis": "x",
         "y": [
          -95,
          -95,
          -117.5,
          -117.5
         ],
         "yaxis": "y"
        },
        {
         "hoverinfo": "text",
         "marker": {
          "color": "rgb(255,65,54)"
         },
         "mode": "lines",
         "type": "scatter",
         "x": [
          0,
          0.8811486318637577,
          0.8811486318637577,
          0
         ],
         "xaxis": "x",
         "y": [
          -135,
          -135,
          -145,
          -145
         ],
         "yaxis": "y"
        },
        {
         "hoverinfo": "text",
         "marker": {
          "color": "rgb(0,116,217)"
         },
         "mode": "lines",
         "type": "scatter",
         "x": [
          1.0964448536416445,
          1.1480165554143489,
          1.1480165554143489,
          0.8811486318637577
         ],
         "xaxis": "x",
         "y": [
          -106.25,
          -106.25,
          -140,
          -140
         ],
         "yaxis": "y"
        },
        {
         "hoverinfo": "text",
         "marker": {
          "color": "rgb(0,116,217)"
         },
         "mode": "lines",
         "type": "scatter",
         "x": [
          0,
          1.0943995407774687,
          1.0943995407774687,
          0
         ],
         "xaxis": "x",
         "y": [
          -165,
          -165,
          -175,
          -175
         ],
         "yaxis": "y"
        },
        {
         "hoverinfo": "text",
         "marker": {
          "color": "rgb(0,116,217)"
         },
         "mode": "lines",
         "type": "scatter",
         "x": [
          0,
          1.1509290210412386,
          1.1509290210412386,
          1.0943995407774687
         ],
         "xaxis": "x",
         "y": [
          -155,
          -155,
          -170,
          -170
         ],
         "yaxis": "y"
        },
        {
         "hoverinfo": "text",
         "marker": {
          "color": "rgb(0,116,217)"
         },
         "mode": "lines",
         "type": "scatter",
         "x": [
          1.1509290210412386,
          1.2271962298960768,
          1.2271962298960768,
          0
         ],
         "xaxis": "x",
         "y": [
          -162.5,
          -162.5,
          -185,
          -185
         ],
         "yaxis": "y"
        },
        {
         "hoverinfo": "text",
         "marker": {
          "color": "rgb(0,116,217)"
         },
         "mode": "lines",
         "type": "scatter",
         "x": [
          1.1480165554143489,
          1.6821030414954672,
          1.6821030414954672,
          1.2271962298960768
         ],
         "xaxis": "x",
         "y": [
          -123.125,
          -123.125,
          -173.75,
          -173.75
         ],
         "yaxis": "y"
        },
        {
         "hoverinfo": "text",
         "marker": {
          "color": "rgb(0,116,217)"
         },
         "mode": "lines",
         "type": "scatter",
         "x": [
          1.4748491523141019,
          2.0619891974254285,
          2.0619891974254285,
          1.6821030414954672
         ],
         "xaxis": "x",
         "y": [
          -30.15625,
          -30.15625,
          -148.4375,
          -148.4375
         ],
         "yaxis": "y"
        },
        {
         "hoverinfo": "text",
         "marker": {
          "color": "rgb(35,205,205)"
         },
         "mode": "lines",
         "type": "scatter",
         "x": [
          0,
          0.8980064894070567,
          0.8980064894070567,
          0
         ],
         "xaxis": "x",
         "y": [
          -195,
          -195,
          -205,
          -205
         ],
         "yaxis": "y"
        },
        {
         "hoverinfo": "text",
         "marker": {
          "color": "rgb(133,20,75)"
         },
         "mode": "lines",
         "type": "scatter",
         "x": [
          0,
          0.8697817961257692,
          0.8697817961257692,
          0
         ],
         "xaxis": "x",
         "y": [
          -215,
          -215,
          -225,
          -225
         ],
         "yaxis": "y"
        },
        {
         "hoverinfo": "text",
         "marker": {
          "color": "rgb(133,20,75)"
         },
         "mode": "lines",
         "type": "scatter",
         "x": [
          0.8697817961257692,
          0.9501755706937935,
          0.9501755706937935,
          0
         ],
         "xaxis": "x",
         "y": [
          -220,
          -220,
          -235,
          -235
         ],
         "yaxis": "y"
        },
        {
         "hoverinfo": "text",
         "marker": {
          "color": "rgb(0,116,217)"
         },
         "mode": "lines",
         "type": "scatter",
         "x": [
          0.9501755706937935,
          1.058986058299444,
          1.058986058299444,
          0
         ],
         "xaxis": "x",
         "y": [
          -227.5,
          -227.5,
          -245,
          -245
         ],
         "yaxis": "y"
        },
        {
         "hoverinfo": "text",
         "marker": {
          "color": "rgb(0,116,217)"
         },
         "mode": "lines",
         "type": "scatter",
         "x": [
          0.8980064894070567,
          1.4396404320201128,
          1.4396404320201128,
          1.058986058299444
         ],
         "xaxis": "x",
         "y": [
          -200,
          -200,
          -236.25,
          -236.25
         ],
         "yaxis": "y"
        },
        {
         "hoverinfo": "text",
         "marker": {
          "color": "rgb(255,220,0)"
         },
         "mode": "lines",
         "type": "scatter",
         "x": [
          0,
          0.9601926578984764,
          0.9601926578984764,
          0
         ],
         "xaxis": "x",
         "y": [
          -255,
          -255,
          -265,
          -265
         ],
         "yaxis": "y"
        },
        {
         "hoverinfo": "text",
         "marker": {
          "color": "rgb(40,35,35)"
         },
         "mode": "lines",
         "type": "scatter",
         "x": [
          0,
          0.8422952326514768,
          0.8422952326514768,
          0
         ],
         "xaxis": "x",
         "y": [
          -275,
          -275,
          -285,
          -285
         ],
         "yaxis": "y"
        },
        {
         "hoverinfo": "text",
         "marker": {
          "color": "rgb(40,35,35)"
         },
         "mode": "lines",
         "type": "scatter",
         "x": [
          0.8422952326514768,
          0.947046324256205,
          0.947046324256205,
          0
         ],
         "xaxis": "x",
         "y": [
          -280,
          -280,
          -295,
          -295
         ],
         "yaxis": "y"
        },
        {
         "hoverinfo": "text",
         "marker": {
          "color": "rgb(0,116,217)"
         },
         "mode": "lines",
         "type": "scatter",
         "x": [
          0.9601926578984764,
          1.4506131606342547,
          1.4506131606342547,
          0.947046324256205
         ],
         "xaxis": "x",
         "y": [
          -260,
          -260,
          -287.5,
          -287.5
         ],
         "yaxis": "y"
        },
        {
         "hoverinfo": "text",
         "marker": {
          "color": "rgb(61,153,112)"
         },
         "mode": "lines",
         "type": "scatter",
         "x": [
          0,
          0.724342043249538,
          0.724342043249538,
          0
         ],
         "xaxis": "x",
         "y": [
          -315,
          -315,
          -325,
          -325
         ],
         "yaxis": "y"
        },
        {
         "hoverinfo": "text",
         "marker": {
          "color": "rgb(0,116,217)"
         },
         "mode": "lines",
         "type": "scatter",
         "x": [
          0,
          1.390432528429598,
          1.390432528429598,
          0.724342043249538
         ],
         "xaxis": "x",
         "y": [
          -305,
          -305,
          -320,
          -320
         ],
         "yaxis": "y"
        },
        {
         "hoverinfo": "text",
         "marker": {
          "color": "rgb(255,65,54)"
         },
         "mode": "lines",
         "type": "scatter",
         "x": [
          0,
          0.6811315951550159,
          0.6811315951550159,
          0
         ],
         "xaxis": "x",
         "y": [
          -345,
          -345,
          -355,
          -355
         ],
         "yaxis": "y"
        },
        {
         "hoverinfo": "text",
         "marker": {
          "color": "rgb(0,116,217)"
         },
         "mode": "lines",
         "type": "scatter",
         "x": [
          0,
          1.1670353237327349,
          1.1670353237327349,
          0.6811315951550159
         ],
         "xaxis": "x",
         "y": [
          -335,
          -335,
          -350,
          -350
         ],
         "yaxis": "y"
        },
        {
         "hoverinfo": "text",
         "marker": {
          "color": "rgb(0,116,217)"
         },
         "mode": "lines",
         "type": "scatter",
         "x": [
          0,
          1.0641966039032689,
          1.0641966039032689,
          0
         ],
         "xaxis": "x",
         "y": [
          -375,
          -375,
          -385,
          -385
         ],
         "yaxis": "y"
        },
        {
         "hoverinfo": "text",
         "marker": {
          "color": "rgb(0,116,217)"
         },
         "mode": "lines",
         "type": "scatter",
         "x": [
          0,
          1.1481701426737474,
          1.1481701426737474,
          1.0641966039032689
         ],
         "xaxis": "x",
         "y": [
          -365,
          -365,
          -380,
          -380
         ],
         "yaxis": "y"
        },
        {
         "hoverinfo": "text",
         "marker": {
          "color": "rgb(0,116,217)"
         },
         "mode": "lines",
         "type": "scatter",
         "x": [
          0,
          1.1397902855841016,
          1.1397902855841016,
          0
         ],
         "xaxis": "x",
         "y": [
          -395,
          -395,
          -405,
          -405
         ],
         "yaxis": "y"
        },
        {
         "hoverinfo": "text",
         "marker": {
          "color": "rgb(0,116,217)"
         },
         "mode": "lines",
         "type": "scatter",
         "x": [
          1.1481701426737474,
          1.2367370191058615,
          1.2367370191058615,
          1.1397902855841016
         ],
         "xaxis": "x",
         "y": [
          -372.5,
          -372.5,
          -400,
          -400
         ],
         "yaxis": "y"
        },
        {
         "hoverinfo": "text",
         "marker": {
          "color": "rgb(0,116,217)"
         },
         "mode": "lines",
         "type": "scatter",
         "x": [
          1.1670353237327349,
          1.4686954495042233,
          1.4686954495042233,
          1.2367370191058615
         ],
         "xaxis": "x",
         "y": [
          -342.5,
          -342.5,
          -386.25,
          -386.25
         ],
         "yaxis": "y"
        },
        {
         "hoverinfo": "text",
         "marker": {
          "color": "rgb(0,116,217)"
         },
         "mode": "lines",
         "type": "scatter",
         "x": [
          1.390432528429598,
          1.8993230558223086,
          1.8993230558223086,
          1.4686954495042233
         ],
         "xaxis": "x",
         "y": [
          -312.5,
          -312.5,
          -364.375,
          -364.375
         ],
         "yaxis": "y"
        },
        {
         "hoverinfo": "text",
         "marker": {
          "color": "rgb(0,116,217)"
         },
         "mode": "lines",
         "type": "scatter",
         "x": [
          0,
          1.0889771537619661,
          1.0889771537619661,
          0
         ],
         "xaxis": "x",
         "y": [
          -425,
          -425,
          -435,
          -435
         ],
         "yaxis": "y"
        },
        {
         "hoverinfo": "text",
         "marker": {
          "color": "rgb(0,116,217)"
         },
         "mode": "lines",
         "type": "scatter",
         "x": [
          0,
          1.221118599929771,
          1.221118599929771,
          1.0889771537619661
         ],
         "xaxis": "x",
         "y": [
          -415,
          -415,
          -430,
          -430
         ],
         "yaxis": "y"
        },
        {
         "hoverinfo": "text",
         "marker": {
          "color": "rgb(0,116,217)"
         },
         "mode": "lines",
         "type": "scatter",
         "x": [
          0,
          1.0176472256107965,
          1.0176472256107965,
          0
         ],
         "xaxis": "x",
         "y": [
          -445,
          -445,
          -455,
          -455
         ],
         "yaxis": "y"
        },
        {
         "hoverinfo": "text",
         "marker": {
          "color": "rgb(0,116,217)"
         },
         "mode": "lines",
         "type": "scatter",
         "x": [
          1.221118599929771,
          1.4364632861418356,
          1.4364632861418356,
          1.0176472256107965
         ],
         "xaxis": "x",
         "y": [
          -422.5,
          -422.5,
          -450,
          -450
         ],
         "yaxis": "y"
        },
        {
         "hoverinfo": "text",
         "marker": {
          "color": "rgb(0,116,217)"
         },
         "mode": "lines",
         "type": "scatter",
         "x": [
          0,
          1.1985670241885984,
          1.1985670241885984,
          0
         ],
         "xaxis": "x",
         "y": [
          -465,
          -465,
          -475,
          -475
         ],
         "yaxis": "y"
        },
        {
         "hoverinfo": "text",
         "marker": {
          "color": "rgb(0,116,217)"
         },
         "mode": "lines",
         "type": "scatter",
         "x": [
          0,
          1.0964883949307616,
          1.0964883949307616,
          0
         ],
         "xaxis": "x",
         "y": [
          -485,
          -485,
          -495,
          -495
         ],
         "yaxis": "y"
        },
        {
         "hoverinfo": "text",
         "marker": {
          "color": "rgb(0,116,217)"
         },
         "mode": "lines",
         "type": "scatter",
         "x": [
          0,
          1.0335541997189182,
          1.0335541997189182,
          0
         ],
         "xaxis": "x",
         "y": [
          -505,
          -505,
          -515,
          -515
         ],
         "yaxis": "y"
        },
        {
         "hoverinfo": "text",
         "marker": {
          "color": "rgb(0,116,217)"
         },
         "mode": "lines",
         "type": "scatter",
         "x": [
          1.0964883949307616,
          1.266209077939328,
          1.266209077939328,
          1.0335541997189182
         ],
         "xaxis": "x",
         "y": [
          -490,
          -490,
          -510,
          -510
         ],
         "yaxis": "y"
        },
        {
         "hoverinfo": "text",
         "marker": {
          "color": "rgb(0,116,217)"
         },
         "mode": "lines",
         "type": "scatter",
         "x": [
          1.1985670241885984,
          1.3934482361194895,
          1.3934482361194895,
          1.266209077939328
         ],
         "xaxis": "x",
         "y": [
          -470,
          -470,
          -500,
          -500
         ],
         "yaxis": "y"
        },
        {
         "hoverinfo": "text",
         "marker": {
          "color": "rgb(35,205,205)"
         },
         "mode": "lines",
         "type": "scatter",
         "x": [
          0,
          0.8274113606393327,
          0.8274113606393327,
          0
         ],
         "xaxis": "x",
         "y": [
          -525,
          -525,
          -535,
          -535
         ],
         "yaxis": "y"
        },
        {
         "hoverinfo": "text",
         "marker": {
          "color": "rgb(0,116,217)"
         },
         "mode": "lines",
         "type": "scatter",
         "x": [
          0.8274113606393327,
          1.1466544563078476,
          1.1466544563078476,
          0
         ],
         "xaxis": "x",
         "y": [
          -530,
          -530,
          -545,
          -545
         ],
         "yaxis": "y"
        },
        {
         "hoverinfo": "text",
         "marker": {
          "color": "rgb(0,116,217)"
         },
         "mode": "lines",
         "type": "scatter",
         "x": [
          1.3934482361194895,
          1.5910323547294434,
          1.5910323547294434,
          1.1466544563078476
         ],
         "xaxis": "x",
         "y": [
          -485,
          -485,
          -537.5,
          -537.5
         ],
         "yaxis": "y"
        },
        {
         "hoverinfo": "text",
         "marker": {
          "color": "rgb(0,116,217)"
         },
         "mode": "lines",
         "type": "scatter",
         "x": [
          0,
          1.1458312658758045,
          1.1458312658758045,
          0
         ],
         "xaxis": "x",
         "y": [
          -555,
          -555,
          -565,
          -565
         ],
         "yaxis": "y"
        },
        {
         "hoverinfo": "text",
         "marker": {
          "color": "rgb(0,116,217)"
         },
         "mode": "lines",
         "type": "scatter",
         "x": [
          1.5910323547294434,
          1.8969181586813155,
          1.8969181586813155,
          1.1458312658758045
         ],
         "xaxis": "x",
         "y": [
          -511.25,
          -511.25,
          -560,
          -560
         ],
         "yaxis": "y"
        },
        {
         "hoverinfo": "text",
         "marker": {
          "color": "rgb(0,116,217)"
         },
         "mode": "lines",
         "type": "scatter",
         "x": [
          1.4364632861418356,
          1.9543728766065203,
          1.9543728766065203,
          1.8969181586813155
         ],
         "xaxis": "x",
         "y": [
          -436.25,
          -436.25,
          -535.625,
          -535.625
         ],
         "yaxis": "y"
        },
        {
         "hoverinfo": "text",
         "marker": {
          "color": "rgb(0,116,217)"
         },
         "mode": "lines",
         "type": "scatter",
         "x": [
          1.8993230558223086,
          2.265339027343445,
          2.265339027343445,
          1.9543728766065203
         ],
         "xaxis": "x",
         "y": [
          -338.4375,
          -338.4375,
          -485.9375,
          -485.9375
         ],
         "yaxis": "y"
        },
        {
         "hoverinfo": "text",
         "marker": {
          "color": "rgb(0,116,217)"
         },
         "mode": "lines",
         "type": "scatter",
         "x": [
          1.4506131606342547,
          2.583716028433663,
          2.583716028433663,
          2.265339027343445
         ],
         "xaxis": "x",
         "y": [
          -273.75,
          -273.75,
          -412.1875,
          -412.1875
         ],
         "yaxis": "y"
        },
        {
         "hoverinfo": "text",
         "marker": {
          "color": "rgb(0,116,217)"
         },
         "mode": "lines",
         "type": "scatter",
         "x": [
          1.4396404320201128,
          2.789255786088322,
          2.789255786088322,
          2.583716028433663
         ],
         "xaxis": "x",
         "y": [
          -218.125,
          -218.125,
          -342.96875,
          -342.96875
         ],
         "yaxis": "y"
        },
        {
         "hoverinfo": "text",
         "marker": {
          "color": "rgb(61,153,112)"
         },
         "mode": "lines",
         "type": "scatter",
         "x": [
          0,
          0.8989287940835347,
          0.8989287940835347,
          0
         ],
         "xaxis": "x",
         "y": [
          -585,
          -585,
          -595,
          -595
         ],
         "yaxis": "y"
        },
        {
         "hoverinfo": "text",
         "marker": {
          "color": "rgb(61,153,112)"
         },
         "mode": "lines",
         "type": "scatter",
         "x": [
          0,
          0.9979504003844576,
          0.9979504003844576,
          0.8989287940835347
         ],
         "xaxis": "x",
         "y": [
          -575,
          -575,
          -590,
          -590
         ],
         "yaxis": "y"
        },
        {
         "hoverinfo": "text",
         "marker": {
          "color": "rgb(255,65,54)"
         },
         "mode": "lines",
         "type": "scatter",
         "x": [
          0,
          0.7399759984141316,
          0.7399759984141316,
          0
         ],
         "xaxis": "x",
         "y": [
          -605,
          -605,
          -615,
          -615
         ],
         "yaxis": "y"
        },
        {
         "hoverinfo": "text",
         "marker": {
          "color": "rgb(0,116,217)"
         },
         "mode": "lines",
         "type": "scatter",
         "x": [
          0.9979504003844576,
          1.4527511296797067,
          1.4527511296797067,
          0.7399759984141316
         ],
         "xaxis": "x",
         "y": [
          -582.5,
          -582.5,
          -610,
          -610
         ],
         "yaxis": "y"
        },
        {
         "hoverinfo": "text",
         "marker": {
          "color": "rgb(35,205,205)"
         },
         "mode": "lines",
         "type": "scatter",
         "x": [
          0,
          0.8840418488516926,
          0.8840418488516926,
          0
         ],
         "xaxis": "x",
         "y": [
          -625,
          -625,
          -635,
          -635
         ],
         "yaxis": "y"
        },
        {
         "hoverinfo": "text",
         "marker": {
          "color": "rgb(0,116,217)"
         },
         "mode": "lines",
         "type": "scatter",
         "x": [
          0.8840418488516926,
          1.1444682866616933,
          1.1444682866616933,
          0
         ],
         "xaxis": "x",
         "y": [
          -630,
          -630,
          -645,
          -645
         ],
         "yaxis": "y"
        },
        {
         "hoverinfo": "text",
         "marker": {
          "color": "rgb(0,116,217)"
         },
         "mode": "lines",
         "type": "scatter",
         "x": [
          1.4527511296797067,
          2.10527858041121,
          2.10527858041121,
          1.1444682866616933
         ],
         "xaxis": "x",
         "y": [
          -596.25,
          -596.25,
          -637.5,
          -637.5
         ],
         "yaxis": "y"
        },
        {
         "hoverinfo": "text",
         "marker": {
          "color": "rgb(0,116,217)"
         },
         "mode": "lines",
         "type": "scatter",
         "x": [
          2.789255786088322,
          3.8580103496267153,
          3.8580103496267153,
          2.10527858041121
         ],
         "xaxis": "x",
         "y": [
          -280.546875,
          -280.546875,
          -616.875,
          -616.875
         ],
         "yaxis": "y"
        },
        {
         "hoverinfo": "text",
         "marker": {
          "color": "rgb(133,20,75)"
         },
         "mode": "lines",
         "type": "scatter",
         "x": [
          0,
          0.7843855197555871,
          0.7843855197555871,
          0
         ],
         "xaxis": "x",
         "y": [
          -665,
          -665,
          -675,
          -675
         ],
         "yaxis": "y"
        },
        {
         "hoverinfo": "text",
         "marker": {
          "color": "rgb(0,116,217)"
         },
         "mode": "lines",
         "type": "scatter",
         "x": [
          0,
          1.0732604821045053,
          1.0732604821045053,
          0.7843855197555871
         ],
         "xaxis": "x",
         "y": [
          -655,
          -655,
          -670,
          -670
         ],
         "yaxis": "y"
        },
        {
         "hoverinfo": "text",
         "marker": {
          "color": "rgb(255,220,0)"
         },
         "mode": "lines",
         "type": "scatter",
         "x": [
          0,
          0.6817495924978564,
          0.6817495924978564,
          0
         ],
         "xaxis": "x",
         "y": [
          -685,
          -685,
          -695,
          -695
         ],
         "yaxis": "y"
        },
        {
         "hoverinfo": "text",
         "marker": {
          "color": "rgb(40,35,35)"
         },
         "mode": "lines",
         "type": "scatter",
         "x": [
          0,
          0.8643316387315297,
          0.8643316387315297,
          0
         ],
         "xaxis": "x",
         "y": [
          -705,
          -705,
          -715,
          -715
         ],
         "yaxis": "y"
        },
        {
         "hoverinfo": "text",
         "marker": {
          "color": "rgb(0,116,217)"
         },
         "mode": "lines",
         "type": "scatter",
         "x": [
          0.6817495924978564,
          1.0841877097854098,
          1.0841877097854098,
          0.8643316387315297
         ],
         "xaxis": "x",
         "y": [
          -690,
          -690,
          -710,
          -710
         ],
         "yaxis": "y"
        },
        {
         "hoverinfo": "text",
         "marker": {
          "color": "rgb(0,116,217)"
         },
         "mode": "lines",
         "type": "scatter",
         "x": [
          1.0732604821045053,
          1.328091080289798,
          1.328091080289798,
          1.0841877097854098
         ],
         "xaxis": "x",
         "y": [
          -662.5,
          -662.5,
          -700,
          -700
         ],
         "yaxis": "y"
        },
        {
         "hoverinfo": "text",
         "marker": {
          "color": "rgb(0,116,217)"
         },
         "mode": "lines",
         "type": "scatter",
         "x": [
          3.8580103496267153,
          4.053252617097142,
          4.053252617097142,
          1.328091080289798
         ],
         "xaxis": "x",
         "y": [
          -448.7109375,
          -448.7109375,
          -681.25,
          -681.25
         ],
         "yaxis": "y"
        },
        {
         "hoverinfo": "text",
         "marker": {
          "color": "rgb(0,116,217)"
         },
         "mode": "lines",
         "type": "scatter",
         "x": [
          2.0619891974254285,
          4.271331198479741,
          4.271331198479741,
          4.053252617097142
         ],
         "xaxis": "x",
         "y": [
          -89.296875,
          -89.296875,
          -564.98046875,
          -564.98046875
         ],
         "yaxis": "y"
        },
        {
         "hoverinfo": "text",
         "marker": {
          "color": "rgb(61,153,112)"
         },
         "mode": "lines",
         "type": "scatter",
         "x": [
          0,
          0.6803373192321059,
          0.6803373192321059,
          0
         ],
         "xaxis": "x",
         "y": [
          -725,
          -725,
          -735,
          -735
         ],
         "yaxis": "y"
        },
        {
         "hoverinfo": "text",
         "marker": {
          "color": "rgb(255,65,54)"
         },
         "mode": "lines",
         "type": "scatter",
         "x": [
          0,
          0.8678125203067952,
          0.8678125203067952,
          0
         ],
         "xaxis": "x",
         "y": [
          -745,
          -745,
          -755,
          -755
         ],
         "yaxis": "y"
        },
        {
         "hoverinfo": "text",
         "marker": {
          "color": "rgb(255,65,54)"
         },
         "mode": "lines",
         "type": "scatter",
         "x": [
          0.8678125203067952,
          0.9618567783273054,
          0.9618567783273054,
          0
         ],
         "xaxis": "x",
         "y": [
          -750,
          -750,
          -765,
          -765
         ],
         "yaxis": "y"
        },
        {
         "hoverinfo": "text",
         "marker": {
          "color": "rgb(0,116,217)"
         },
         "mode": "lines",
         "type": "scatter",
         "x": [
          0.6803373192321059,
          1.5310354365070853,
          1.5310354365070853,
          0.9618567783273054
         ],
         "xaxis": "x",
         "y": [
          -730,
          -730,
          -757.5,
          -757.5
         ],
         "yaxis": "y"
        },
        {
         "hoverinfo": "text",
         "marker": {
          "color": "rgb(0,116,217)"
         },
         "mode": "lines",
         "type": "scatter",
         "x": [
          0,
          1.11023139953334,
          1.11023139953334,
          0
         ],
         "xaxis": "x",
         "y": [
          -785,
          -785,
          -795,
          -795
         ],
         "yaxis": "y"
        },
        {
         "hoverinfo": "text",
         "marker": {
          "color": "rgb(0,116,217)"
         },
         "mode": "lines",
         "type": "scatter",
         "x": [
          0,
          1.216510361939643,
          1.216510361939643,
          1.11023139953334
         ],
         "xaxis": "x",
         "y": [
          -775,
          -775,
          -790,
          -790
         ],
         "yaxis": "y"
        },
        {
         "hoverinfo": "text",
         "marker": {
          "color": "rgb(0,116,217)"
         },
         "mode": "lines",
         "type": "scatter",
         "x": [
          0,
          1.0268316634797519,
          1.0268316634797519,
          0
         ],
         "xaxis": "x",
         "y": [
          -815,
          -815,
          -825,
          -825
         ],
         "yaxis": "y"
        },
        {
         "hoverinfo": "text",
         "marker": {
          "color": "rgb(0,116,217)"
         },
         "mode": "lines",
         "type": "scatter",
         "x": [
          0,
          1.1006191913720047,
          1.1006191913720047,
          1.0268316634797519
         ],
         "xaxis": "x",
         "y": [
          -805,
          -805,
          -820,
          -820
         ],
         "yaxis": "y"
        },
        {
         "hoverinfo": "text",
         "marker": {
          "color": "rgb(0,116,217)"
         },
         "mode": "lines",
         "type": "scatter",
         "x": [
          1.1006191913720047,
          1.2559152234406583,
          1.2559152234406583,
          0
         ],
         "xaxis": "x",
         "y": [
          -812.5,
          -812.5,
          -835,
          -835
         ],
         "yaxis": "y"
        },
        {
         "hoverinfo": "text",
         "marker": {
          "color": "rgb(0,116,217)"
         },
         "mode": "lines",
         "type": "scatter",
         "x": [
          1.216510361939643,
          1.6576336591471488,
          1.6576336591471488,
          1.2559152234406583
         ],
         "xaxis": "x",
         "y": [
          -782.5,
          -782.5,
          -823.75,
          -823.75
         ],
         "yaxis": "y"
        },
        {
         "hoverinfo": "text",
         "marker": {
          "color": "rgb(0,116,217)"
         },
         "mode": "lines",
         "type": "scatter",
         "x": [
          0,
          1.215092255270321,
          1.215092255270321,
          0
         ],
         "xaxis": "x",
         "y": [
          -845,
          -845,
          -855,
          -855
         ],
         "yaxis": "y"
        },
        {
         "hoverinfo": "text",
         "marker": {
          "color": "rgb(0,116,217)"
         },
         "mode": "lines",
         "type": "scatter",
         "x": [
          0,
          1.2121586659108015,
          1.2121586659108015,
          0
         ],
         "xaxis": "x",
         "y": [
          -875,
          -875,
          -885,
          -885
         ],
         "yaxis": "y"
        },
        {
         "hoverinfo": "text",
         "marker": {
          "color": "rgb(0,116,217)"
         },
         "mode": "lines",
         "type": "scatter",
         "x": [
          0,
          1.2396497998415539,
          1.2396497998415539,
          1.2121586659108015
         ],
         "xaxis": "x",
         "y": [
          -865,
          -865,
          -880,
          -880
         ],
         "yaxis": "y"
        },
        {
         "hoverinfo": "text",
         "marker": {
          "color": "rgb(0,116,217)"
         },
         "mode": "lines",
         "type": "scatter",
         "x": [
          1.2396497998415539,
          1.3394214441699384,
          1.3394214441699384,
          0
         ],
         "xaxis": "x",
         "y": [
          -872.5,
          -872.5,
          -895,
          -895
         ],
         "yaxis": "y"
        },
        {
         "hoverinfo": "text",
         "marker": {
          "color": "rgb(0,116,217)"
         },
         "mode": "lines",
         "type": "scatter",
         "x": [
          1.215092255270321,
          1.3843117310999997,
          1.3843117310999997,
          1.3394214441699384
         ],
         "xaxis": "x",
         "y": [
          -850,
          -850,
          -883.75,
          -883.75
         ],
         "yaxis": "y"
        },
        {
         "hoverinfo": "text",
         "marker": {
          "color": "rgb(0,116,217)"
         },
         "mode": "lines",
         "type": "scatter",
         "x": [
          0,
          1.118187580051264,
          1.118187580051264,
          0
         ],
         "xaxis": "x",
         "y": [
          -905,
          -905,
          -915,
          -915
         ],
         "yaxis": "y"
        },
        {
         "hoverinfo": "text",
         "marker": {
          "color": "rgb(0,116,217)"
         },
         "mode": "lines",
         "type": "scatter",
         "x": [
          1.3843117310999997,
          1.6128528906914081,
          1.6128528906914081,
          1.118187580051264
         ],
         "xaxis": "x",
         "y": [
          -866.875,
          -866.875,
          -910,
          -910
         ],
         "yaxis": "y"
        },
        {
         "hoverinfo": "text",
         "marker": {
          "color": "rgb(0,116,217)"
         },
         "mode": "lines",
         "type": "scatter",
         "x": [
          1.6576336591471488,
          1.847028854958334,
          1.847028854958334,
          1.6128528906914081
         ],
         "xaxis": "x",
         "y": [
          -803.125,
          -803.125,
          -888.4375,
          -888.4375
         ],
         "yaxis": "y"
        },
        {
         "hoverinfo": "text",
         "marker": {
          "color": "rgb(0,116,217)"
         },
         "mode": "lines",
         "type": "scatter",
         "x": [
          1.5310354365070853,
          2.1478841006530605,
          2.1478841006530605,
          1.847028854958334
         ],
         "xaxis": "x",
         "y": [
          -743.75,
          -743.75,
          -845.78125,
          -845.78125
         ],
         "yaxis": "y"
        },
        {
         "hoverinfo": "text",
         "marker": {
          "color": "rgb(0,116,217)"
         },
         "mode": "lines",
         "type": "scatter",
         "x": [
          0,
          1.1477159382396442,
          1.1477159382396442,
          0
         ],
         "xaxis": "x",
         "y": [
          -925,
          -925,
          -935,
          -935
         ],
         "yaxis": "y"
        },
        {
         "hoverinfo": "text",
         "marker": {
          "color": "rgb(0,116,217)"
         },
         "mode": "lines",
         "type": "scatter",
         "x": [
          0,
          1.224417125056996,
          1.224417125056996,
          0
         ],
         "xaxis": "x",
         "y": [
          -945,
          -945,
          -955,
          -955
         ],
         "yaxis": "y"
        },
        {
         "hoverinfo": "text",
         "marker": {
          "color": "rgb(0,116,217)"
         },
         "mode": "lines",
         "type": "scatter",
         "x": [
          1.224417125056996,
          1.3183729710604521,
          1.3183729710604521,
          0
         ],
         "xaxis": "x",
         "y": [
          -950,
          -950,
          -965,
          -965
         ],
         "yaxis": "y"
        },
        {
         "hoverinfo": "text",
         "marker": {
          "color": "rgb(0,116,217)"
         },
         "mode": "lines",
         "type": "scatter",
         "x": [
          1.1477159382396442,
          1.4722048612157335,
          1.4722048612157335,
          1.3183729710604521
         ],
         "xaxis": "x",
         "y": [
          -930,
          -930,
          -957.5,
          -957.5
         ],
         "yaxis": "y"
        },
        {
         "hoverinfo": "text",
         "marker": {
          "color": "rgb(0,116,217)"
         },
         "mode": "lines",
         "type": "scatter",
         "x": [
          0,
          1.1047172850402847,
          1.1047172850402847,
          0
         ],
         "xaxis": "x",
         "y": [
          -975,
          -975,
          -985,
          -985
         ],
         "yaxis": "y"
        },
        {
         "hoverinfo": "text",
         "marker": {
          "color": "rgb(0,116,217)"
         },
         "mode": "lines",
         "type": "scatter",
         "x": [
          0,
          1.0000226694741454,
          1.0000226694741454,
          0
         ],
         "xaxis": "x",
         "y": [
          -995,
          -995,
          -1005,
          -1005
         ],
         "yaxis": "y"
        },
        {
         "hoverinfo": "text",
         "marker": {
          "color": "rgb(0,116,217)"
         },
         "mode": "lines",
         "type": "scatter",
         "x": [
          1.0000226694741454,
          1.2787840704759503,
          1.2787840704759503,
          0
         ],
         "xaxis": "x",
         "y": [
          -1000,
          -1000,
          -1015,
          -1015
         ],
         "yaxis": "y"
        },
        {
         "hoverinfo": "text",
         "marker": {
          "color": "rgb(0,116,217)"
         },
         "mode": "lines",
         "type": "scatter",
         "x": [
          1.1047172850402847,
          1.397544481289699,
          1.397544481289699,
          1.2787840704759503
         ],
         "xaxis": "x",
         "y": [
          -980,
          -980,
          -1007.5,
          -1007.5
         ],
         "yaxis": "y"
        },
        {
         "hoverinfo": "text",
         "marker": {
          "color": "rgb(0,116,217)"
         },
         "mode": "lines",
         "type": "scatter",
         "x": [
          1.4722048612157335,
          1.7328982964357107,
          1.7328982964357107,
          1.397544481289699
         ],
         "xaxis": "x",
         "y": [
          -943.75,
          -943.75,
          -993.75,
          -993.75
         ],
         "yaxis": "y"
        },
        {
         "hoverinfo": "text",
         "marker": {
          "color": "rgb(35,205,205)"
         },
         "mode": "lines",
         "type": "scatter",
         "x": [
          0,
          0.7775379883550145,
          0.7775379883550145,
          0
         ],
         "xaxis": "x",
         "y": [
          -1025,
          -1025,
          -1035,
          -1035
         ],
         "yaxis": "y"
        },
        {
         "hoverinfo": "text",
         "marker": {
          "color": "rgb(61,153,112)"
         },
         "mode": "lines",
         "type": "scatter",
         "x": [
          0,
          0.8862053456794905,
          0.8862053456794905,
          0
         ],
         "xaxis": "x",
         "y": [
          -1045,
          -1045,
          -1055,
          -1055
         ],
         "yaxis": "y"
        },
        {
         "hoverinfo": "text",
         "marker": {
          "color": "rgb(0,116,217)"
         },
         "mode": "lines",
         "type": "scatter",
         "x": [
          0,
          1.194697895194651,
          1.194697895194651,
          0
         ],
         "xaxis": "x",
         "y": [
          -1065,
          -1065,
          -1075,
          -1075
         ],
         "yaxis": "y"
        },
        {
         "hoverinfo": "text",
         "marker": {
          "color": "rgb(0,116,217)"
         },
         "mode": "lines",
         "type": "scatter",
         "x": [
          0.8862053456794905,
          1.2616275076428407,
          1.2616275076428407,
          1.194697895194651
         ],
         "xaxis": "x",
         "y": [
          -1050,
          -1050,
          -1070,
          -1070
         ],
         "yaxis": "y"
        },
        {
         "hoverinfo": "text",
         "marker": {
          "color": "rgb(0,116,217)"
         },
         "mode": "lines",
         "type": "scatter",
         "x": [
          0.7775379883550145,
          1.7083979406851233,
          1.7083979406851233,
          1.2616275076428407
         ],
         "xaxis": "x",
         "y": [
          -1030,
          -1030,
          -1060,
          -1060
         ],
         "yaxis": "y"
        },
        {
         "hoverinfo": "text",
         "marker": {
          "color": "rgb(0,116,217)"
         },
         "mode": "lines",
         "type": "scatter",
         "x": [
          1.7328982964357107,
          1.9974726173656325,
          1.9974726173656325,
          1.7083979406851233
         ],
         "xaxis": "x",
         "y": [
          -968.75,
          -968.75,
          -1045,
          -1045
         ],
         "yaxis": "y"
        },
        {
         "hoverinfo": "text",
         "marker": {
          "color": "rgb(255,65,54)"
         },
         "mode": "lines",
         "type": "scatter",
         "x": [
          0,
          0.9056921527112081,
          0.9056921527112081,
          0
         ],
         "xaxis": "x",
         "y": [
          -1105,
          -1105,
          -1115,
          -1115
         ],
         "yaxis": "y"
        },
        {
         "hoverinfo": "text",
         "marker": {
          "color": "rgb(0,116,217)"
         },
         "mode": "lines",
         "type": "scatter",
         "x": [
          0,
          1.1242373178895926,
          1.1242373178895926,
          0.9056921527112081
         ],
         "xaxis": "x",
         "y": [
          -1095,
          -1095,
          -1110,
          -1110
         ],
         "yaxis": "y"
        },
        {
         "hoverinfo": "text",
         "marker": {
          "color": "rgb(0,116,217)"
         },
         "mode": "lines",
         "type": "scatter",
         "x": [
          0,
          1.2573857243194835,
          1.2573857243194835,
          1.1242373178895926
         ],
         "xaxis": "x",
         "y": [
          -1085,
          -1085,
          -1102.5,
          -1102.5
         ],
         "yaxis": "y"
        },
        {
         "hoverinfo": "text",
         "marker": {
          "color": "rgb(0,116,217)"
         },
         "mode": "lines",
         "type": "scatter",
         "x": [
          1.2573857243194835,
          1.3394169961193712,
          1.3394169961193712,
          0
         ],
         "xaxis": "x",
         "y": [
          -1093.75,
          -1093.75,
          -1125,
          -1125
         ],
         "yaxis": "y"
        },
        {
         "hoverinfo": "text",
         "marker": {
          "color": "rgb(0,116,217)"
         },
         "mode": "lines",
         "type": "scatter",
         "x": [
          1.9974726173656325,
          2.4206711118560826,
          2.4206711118560826,
          1.3394169961193712
         ],
         "xaxis": "x",
         "y": [
          -1006.875,
          -1006.875,
          -1109.375,
          -1109.375
         ],
         "yaxis": "y"
        },
        {
         "hoverinfo": "text",
         "marker": {
          "color": "rgb(0,116,217)"
         },
         "mode": "lines",
         "type": "scatter",
         "x": [
          2.1478841006530605,
          2.858426130946414,
          2.858426130946414,
          2.4206711118560826
         ],
         "xaxis": "x",
         "y": [
          -794.765625,
          -794.765625,
          -1058.125,
          -1058.125
         ],
         "yaxis": "y"
        },
        {
         "hoverinfo": "text",
         "marker": {
          "color": "rgb(0,116,217)"
         },
         "mode": "lines",
         "type": "scatter",
         "x": [
          0,
          1.133273828920955,
          1.133273828920955,
          0
         ],
         "xaxis": "x",
         "y": [
          -1145,
          -1145,
          -1155,
          -1155
         ],
         "yaxis": "y"
        },
        {
         "hoverinfo": "text",
         "marker": {
          "color": "rgb(0,116,217)"
         },
         "mode": "lines",
         "type": "scatter",
         "x": [
          0,
          1.184269793254922,
          1.184269793254922,
          1.133273828920955
         ],
         "xaxis": "x",
         "y": [
          -1135,
          -1135,
          -1150,
          -1150
         ],
         "yaxis": "y"
        },
        {
         "hoverinfo": "text",
         "marker": {
          "color": "rgb(0,116,217)"
         },
         "mode": "lines",
         "type": "scatter",
         "x": [
          1.184269793254922,
          1.2677999045329167,
          1.2677999045329167,
          0
         ],
         "xaxis": "x",
         "y": [
          -1142.5,
          -1142.5,
          -1165,
          -1165
         ],
         "yaxis": "y"
        },
        {
         "hoverinfo": "text",
         "marker": {
          "color": "rgb(0,116,217)"
         },
         "mode": "lines",
         "type": "scatter",
         "x": [
          0,
          1.1879171664556918,
          1.1879171664556918,
          0
         ],
         "xaxis": "x",
         "y": [
          -1175,
          -1175,
          -1185,
          -1185
         ],
         "yaxis": "y"
        },
        {
         "hoverinfo": "text",
         "marker": {
          "color": "rgb(0,116,217)"
         },
         "mode": "lines",
         "type": "scatter",
         "x": [
          0,
          1.0982326506706168,
          1.0982326506706168,
          0
         ],
         "xaxis": "x",
         "y": [
          -1205,
          -1205,
          -1215,
          -1215
         ],
         "yaxis": "y"
        },
        {
         "hoverinfo": "text",
         "marker": {
          "color": "rgb(0,116,217)"
         },
         "mode": "lines",
         "type": "scatter",
         "x": [
          0,
          1.1692045297384286,
          1.1692045297384286,
          1.0982326506706168
         ],
         "xaxis": "x",
         "y": [
          -1195,
          -1195,
          -1210,
          -1210
         ],
         "yaxis": "y"
        },
        {
         "hoverinfo": "text",
         "marker": {
          "color": "rgb(0,116,217)"
         },
         "mode": "lines",
         "type": "scatter",
         "x": [
          1.1692045297384286,
          1.2194996339429667,
          1.2194996339429667,
          0
         ],
         "xaxis": "x",
         "y": [
          -1202.5,
          -1202.5,
          -1225,
          -1225
         ],
         "yaxis": "y"
        },
        {
         "hoverinfo": "text",
         "marker": {
          "color": "rgb(0,116,217)"
         },
         "mode": "lines",
         "type": "scatter",
         "x": [
          1.1879171664556918,
          1.4106025507112223,
          1.4106025507112223,
          1.2194996339429667
         ],
         "xaxis": "x",
         "y": [
          -1180,
          -1180,
          -1213.75,
          -1213.75
         ],
         "yaxis": "y"
        },
        {
         "hoverinfo": "text",
         "marker": {
          "color": "rgb(0,116,217)"
         },
         "mode": "lines",
         "type": "scatter",
         "x": [
          1.2677999045329167,
          1.4887972185991993,
          1.4887972185991993,
          1.4106025507112223
         ],
         "xaxis": "x",
         "y": [
          -1153.75,
          -1153.75,
          -1196.875,
          -1196.875
         ],
         "yaxis": "y"
        },
        {
         "hoverinfo": "text",
         "marker": {
          "color": "rgb(0,116,217)"
         },
         "mode": "lines",
         "type": "scatter",
         "x": [
          0,
          1.142526760803363,
          1.142526760803363,
          0
         ],
         "xaxis": "x",
         "y": [
          -1235,
          -1235,
          -1245,
          -1245
         ],
         "yaxis": "y"
        },
        {
         "hoverinfo": "text",
         "marker": {
          "color": "rgb(0,116,217)"
         },
         "mode": "lines",
         "type": "scatter",
         "x": [
          1.142526760803363,
          1.2199994885345506,
          1.2199994885345506,
          0
         ],
         "xaxis": "x",
         "y": [
          -1240,
          -1240,
          -1255,
          -1255
         ],
         "yaxis": "y"
        },
        {
         "hoverinfo": "text",
         "marker": {
          "color": "rgb(0,116,217)"
         },
         "mode": "lines",
         "type": "scatter",
         "x": [
          0,
          1.0456252202413352,
          1.0456252202413352,
          0
         ],
         "xaxis": "x",
         "y": [
          -1275,
          -1275,
          -1285,
          -1285
         ],
         "yaxis": "y"
        },
        {
         "hoverinfo": "text",
         "marker": {
          "color": "rgb(0,116,217)"
         },
         "mode": "lines",
         "type": "scatter",
         "x": [
          0,
          1.1694342090645444,
          1.1694342090645444,
          1.0456252202413352
         ],
         "xaxis": "x",
         "y": [
          -1265,
          -1265,
          -1280,
          -1280
         ],
         "yaxis": "y"
        },
        {
         "hoverinfo": "text",
         "marker": {
          "color": "rgb(0,116,217)"
         },
         "mode": "lines",
         "type": "scatter",
         "x": [
          0,
          1.066462544696015,
          1.066462544696015,
          0
         ],
         "xaxis": "x",
         "y": [
          -1305,
          -1305,
          -1315,
          -1315
         ],
         "yaxis": "y"
        },
        {
         "hoverinfo": "text",
         "marker": {
          "color": "rgb(0,116,217)"
         },
         "mode": "lines",
         "type": "scatter",
         "x": [
          0,
          1.170121758814494,
          1.170121758814494,
          1.066462544696015
         ],
         "xaxis": "x",
         "y": [
          -1295,
          -1295,
          -1310,
          -1310
         ],
         "yaxis": "y"
        },
        {
         "hoverinfo": "text",
         "marker": {
          "color": "rgb(0,116,217)"
         },
         "mode": "lines",
         "type": "scatter",
         "x": [
          0,
          1.2543692408712177,
          1.2543692408712177,
          0
         ],
         "xaxis": "x",
         "y": [
          -1325,
          -1325,
          -1335,
          -1335
         ],
         "yaxis": "y"
        },
        {
         "hoverinfo": "text",
         "marker": {
          "color": "rgb(0,116,217)"
         },
         "mode": "lines",
         "type": "scatter",
         "x": [
          1.170121758814494,
          1.298474411180199,
          1.298474411180199,
          1.2543692408712177
         ],
         "xaxis": "x",
         "y": [
          -1302.5,
          -1302.5,
          -1330,
          -1330
         ],
         "yaxis": "y"
        },
        {
         "hoverinfo": "text",
         "marker": {
          "color": "rgb(0,116,217)"
         },
         "mode": "lines",
         "type": "scatter",
         "x": [
          1.1694342090645444,
          1.467247299793423,
          1.467247299793423,
          1.298474411180199
         ],
         "xaxis": "x",
         "y": [
          -1272.5,
          -1272.5,
          -1316.25,
          -1316.25
         ],
         "yaxis": "y"
        },
        {
         "hoverinfo": "text",
         "marker": {
          "color": "rgb(0,116,217)"
         },
         "mode": "lines",
         "type": "scatter",
         "x": [
          1.2199994885345506,
          1.5274004630767553,
          1.5274004630767553,
          1.467247299793423
         ],
         "xaxis": "x",
         "y": [
          -1247.5,
          -1247.5,
          -1294.375,
          -1294.375
         ],
         "yaxis": "y"
        },
        {
         "hoverinfo": "text",
         "marker": {
          "color": "rgb(0,116,217)"
         },
         "mode": "lines",
         "type": "scatter",
         "x": [
          0,
          1.1850002095994248,
          1.1850002095994248,
          0
         ],
         "xaxis": "x",
         "y": [
          -1345,
          -1345,
          -1355,
          -1355
         ],
         "yaxis": "y"
        },
        {
         "hoverinfo": "text",
         "marker": {
          "color": "rgb(0,116,217)"
         },
         "mode": "lines",
         "type": "scatter",
         "x": [
          1.5274004630767553,
          1.7220254483384672,
          1.7220254483384672,
          1.1850002095994248
         ],
         "xaxis": "x",
         "y": [
          -1270.9375,
          -1270.9375,
          -1350,
          -1350
         ],
         "yaxis": "y"
        },
        {
         "hoverinfo": "text",
         "marker": {
          "color": "rgb(0,116,217)"
         },
         "mode": "lines",
         "type": "scatter",
         "x": [
          1.4887972185991993,
          2.5565044401667265,
          2.5565044401667265,
          1.7220254483384672
         ],
         "xaxis": "x",
         "y": [
          -1175.3125,
          -1175.3125,
          -1310.46875,
          -1310.46875
         ],
         "yaxis": "y"
        },
        {
         "hoverinfo": "text",
         "marker": {
          "color": "rgb(0,116,217)"
         },
         "mode": "lines",
         "type": "scatter",
         "x": [
          0,
          1.292643354201916,
          1.292643354201916,
          0
         ],
         "xaxis": "x",
         "y": [
          -1365,
          -1365,
          -1375,
          -1375
         ],
         "yaxis": "y"
        },
        {
         "hoverinfo": "text",
         "marker": {
          "color": "rgb(0,116,217)"
         },
         "mode": "lines",
         "type": "scatter",
         "x": [
          0,
          1.2079719162304523,
          1.2079719162304523,
          0
         ],
         "xaxis": "x",
         "y": [
          -1385,
          -1385,
          -1395,
          -1395
         ],
         "yaxis": "y"
        },
        {
         "hoverinfo": "text",
         "marker": {
          "color": "rgb(0,116,217)"
         },
         "mode": "lines",
         "type": "scatter",
         "x": [
          1.2079719162304523,
          1.321689429872832,
          1.321689429872832,
          0
         ],
         "xaxis": "x",
         "y": [
          -1390,
          -1390,
          -1405,
          -1405
         ],
         "yaxis": "y"
        },
        {
         "hoverinfo": "text",
         "marker": {
          "color": "rgb(0,116,217)"
         },
         "mode": "lines",
         "type": "scatter",
         "x": [
          1.292643354201916,
          1.364654397079667,
          1.364654397079667,
          1.321689429872832
         ],
         "xaxis": "x",
         "y": [
          -1370,
          -1370,
          -1397.5,
          -1397.5
         ],
         "yaxis": "y"
        },
        {
         "hoverinfo": "text",
         "marker": {
          "color": "rgb(0,116,217)"
         },
         "mode": "lines",
         "type": "scatter",
         "x": [
          0,
          1.142939886902556,
          1.142939886902556,
          0
         ],
         "xaxis": "x",
         "y": [
          -1415,
          -1415,
          -1425,
          -1425
         ],
         "yaxis": "y"
        },
        {
         "hoverinfo": "text",
         "marker": {
          "color": "rgb(0,116,217)"
         },
         "mode": "lines",
         "type": "scatter",
         "x": [
          1.142939886902556,
          1.2856919205907988,
          1.2856919205907988,
          0
         ],
         "xaxis": "x",
         "y": [
          -1420,
          -1420,
          -1435,
          -1435
         ],
         "yaxis": "y"
        },
        {
         "hoverinfo": "text",
         "marker": {
          "color": "rgb(0,116,217)"
         },
         "mode": "lines",
         "type": "scatter",
         "x": [
          1.364654397079667,
          1.4053061514716432,
          1.4053061514716432,
          1.2856919205907988
         ],
         "xaxis": "x",
         "y": [
          -1383.75,
          -1383.75,
          -1427.5,
          -1427.5
         ],
         "yaxis": "y"
        },
        {
         "hoverinfo": "text",
         "marker": {
          "color": "rgb(0,116,217)"
         },
         "mode": "lines",
         "type": "scatter",
         "x": [
          0,
          1.2381239890051028,
          1.2381239890051028,
          0
         ],
         "xaxis": "x",
         "y": [
          -1445,
          -1445,
          -1455,
          -1455
         ],
         "yaxis": "y"
        },
        {
         "hoverinfo": "text",
         "marker": {
          "color": "rgb(0,116,217)"
         },
         "mode": "lines",
         "type": "scatter",
         "x": [
          0,
          1.1010503201925865,
          1.1010503201925865,
          0
         ],
         "xaxis": "x",
         "y": [
          -1465,
          -1465,
          -1475,
          -1475
         ],
         "yaxis": "y"
        },
        {
         "hoverinfo": "text",
         "marker": {
          "color": "rgb(0,116,217)"
         },
         "mode": "lines",
         "type": "scatter",
         "x": [
          0,
          1.2333115877420369,
          1.2333115877420369,
          0
         ],
         "xaxis": "x",
         "y": [
          -1485,
          -1485,
          -1495,
          -1495
         ],
         "yaxis": "y"
        },
        {
         "hoverinfo": "text",
         "marker": {
          "color": "rgb(0,116,217)"
         },
         "mode": "lines",
         "type": "scatter",
         "x": [
          1.1010503201925865,
          1.2955482108404635,
          1.2955482108404635,
          1.2333115877420369
         ],
         "xaxis": "x",
         "y": [
          -1470,
          -1470,
          -1490,
          -1490
         ],
         "yaxis": "y"
        },
        {
         "hoverinfo": "text",
         "marker": {
          "color": "rgb(0,116,217)"
         },
         "mode": "lines",
         "type": "scatter",
         "x": [
          1.2381239890051028,
          1.331375988458234,
          1.331375988458234,
          1.2955482108404635
         ],
         "xaxis": "x",
         "y": [
          -1450,
          -1450,
          -1480,
          -1480
         ],
         "yaxis": "y"
        },
        {
         "hoverinfo": "text",
         "marker": {
          "color": "rgb(0,116,217)"
         },
         "mode": "lines",
         "type": "scatter",
         "x": [
          0,
          1.1509706572590646,
          1.1509706572590646,
          0
         ],
         "xaxis": "x",
         "y": [
          -1505,
          -1505,
          -1515,
          -1515
         ],
         "yaxis": "y"
        },
        {
         "hoverinfo": "text",
         "marker": {
          "color": "rgb(0,116,217)"
         },
         "mode": "lines",
         "type": "scatter",
         "x": [
          1.331375988458234,
          1.4241297769393972,
          1.4241297769393972,
          1.1509706572590646
         ],
         "xaxis": "x",
         "y": [
          -1465,
          -1465,
          -1510,
          -1510
         ],
         "yaxis": "y"
        },
        {
         "hoverinfo": "text",
         "marker": {
          "color": "rgb(0,116,217)"
         },
         "mode": "lines",
         "type": "scatter",
         "x": [
          0,
          1.1914527409408096,
          1.1914527409408096,
          0
         ],
         "xaxis": "x",
         "y": [
          -1525,
          -1525,
          -1535,
          -1535
         ],
         "yaxis": "y"
        },
        {
         "hoverinfo": "text",
         "marker": {
          "color": "rgb(0,116,217)"
         },
         "mode": "lines",
         "type": "scatter",
         "x": [
          1.4241297769393972,
          1.5009592857842646,
          1.5009592857842646,
          1.1914527409408096
         ],
         "xaxis": "x",
         "y": [
          -1487.5,
          -1487.5,
          -1530,
          -1530
         ],
         "yaxis": "y"
        },
        {
         "hoverinfo": "text",
         "marker": {
          "color": "rgb(0,116,217)"
         },
         "mode": "lines",
         "type": "scatter",
         "x": [
          1.4053061514716432,
          1.7581711767900003,
          1.7581711767900003,
          1.5009592857842646
         ],
         "xaxis": "x",
         "y": [
          -1405.625,
          -1405.625,
          -1508.75,
          -1508.75
         ],
         "yaxis": "y"
        },
        {
         "hoverinfo": "text",
         "marker": {
          "color": "rgb(0,116,217)"
         },
         "mode": "lines",
         "type": "scatter",
         "x": [
          0,
          1.1497740964566712,
          1.1497740964566712,
          0
         ],
         "xaxis": "x",
         "y": [
          -1555,
          -1555,
          -1565,
          -1565
         ],
         "yaxis": "y"
        },
        {
         "hoverinfo": "text",
         "marker": {
          "color": "rgb(0,116,217)"
         },
         "mode": "lines",
         "type": "scatter",
         "x": [
          0,
          1.293922304625612,
          1.293922304625612,
          1.1497740964566712
         ],
         "xaxis": "x",
         "y": [
          -1545,
          -1545,
          -1560,
          -1560
         ],
         "yaxis": "y"
        },
        {
         "hoverinfo": "text",
         "marker": {
          "color": "rgb(0,116,217)"
         },
         "mode": "lines",
         "type": "scatter",
         "x": [
          0,
          1.151622888014292,
          1.151622888014292,
          0
         ],
         "xaxis": "x",
         "y": [
          -1575,
          -1575,
          -1585,
          -1585
         ],
         "yaxis": "y"
        },
        {
         "hoverinfo": "text",
         "marker": {
          "color": "rgb(0,116,217)"
         },
         "mode": "lines",
         "type": "scatter",
         "x": [
          0,
          1.114203777163902,
          1.114203777163902,
          0
         ],
         "xaxis": "x",
         "y": [
          -1595,
          -1595,
          -1605,
          -1605
         ],
         "yaxis": "y"
        },
        {
         "hoverinfo": "text",
         "marker": {
          "color": "rgb(0,116,217)"
         },
         "mode": "lines",
         "type": "scatter",
         "x": [
          0,
          1.3363961683591599,
          1.3363961683591599,
          0
         ],
         "xaxis": "x",
         "y": [
          -1615,
          -1615,
          -1625,
          -1625
         ],
         "yaxis": "y"
        },
        {
         "hoverinfo": "text",
         "marker": {
          "color": "rgb(0,116,217)"
         },
         "mode": "lines",
         "type": "scatter",
         "x": [
          0,
          1.312984618399586,
          1.312984618399586,
          0
         ],
         "xaxis": "x",
         "y": [
          -1635,
          -1635,
          -1645,
          -1645
         ],
         "yaxis": "y"
        },
        {
         "hoverinfo": "text",
         "marker": {
          "color": "rgb(0,116,217)"
         },
         "mode": "lines",
         "type": "scatter",
         "x": [
          1.3363961683591599,
          1.3608291628487401,
          1.3608291628487401,
          1.312984618399586
         ],
         "xaxis": "x",
         "y": [
          -1620,
          -1620,
          -1640,
          -1640
         ],
         "yaxis": "y"
        },
        {
         "hoverinfo": "text",
         "marker": {
          "color": "rgb(0,116,217)"
         },
         "mode": "lines",
         "type": "scatter",
         "x": [
          1.3608291628487401,
          1.3640886148731173,
          1.3640886148731173,
          0
         ],
         "xaxis": "x",
         "y": [
          -1630,
          -1630,
          -1655,
          -1655
         ],
         "yaxis": "y"
        },
        {
         "hoverinfo": "text",
         "marker": {
          "color": "rgb(0,116,217)"
         },
         "mode": "lines",
         "type": "scatter",
         "x": [
          1.114203777163902,
          1.5360950509754387,
          1.5360950509754387,
          1.3640886148731173
         ],
         "xaxis": "x",
         "y": [
          -1600,
          -1600,
          -1642.5,
          -1642.5
         ],
         "yaxis": "y"
        },
        {
         "hoverinfo": "text",
         "marker": {
          "color": "rgb(0,116,217)"
         },
         "mode": "lines",
         "type": "scatter",
         "x": [
          1.151622888014292,
          1.5896750572903533,
          1.5896750572903533,
          1.5360950509754387
         ],
         "xaxis": "x",
         "y": [
          -1580,
          -1580,
          -1621.25,
          -1621.25
         ],
         "yaxis": "y"
        },
        {
         "hoverinfo": "text",
         "marker": {
          "color": "rgb(0,116,217)"
         },
         "mode": "lines",
         "type": "scatter",
         "x": [
          0,
          1.2668343516626428,
          1.2668343516626428,
          0
         ],
         "xaxis": "x",
         "y": [
          -1665,
          -1665,
          -1675,
          -1675
         ],
         "yaxis": "y"
        },
        {
         "hoverinfo": "text",
         "marker": {
          "color": "rgb(0,116,217)"
         },
         "mode": "lines",
         "type": "scatter",
         "x": [
          1.2668343516626428,
          1.3884166911342943,
          1.3884166911342943,
          0
         ],
         "xaxis": "x",
         "y": [
          -1670,
          -1670,
          -1685,
          -1685
         ],
         "yaxis": "y"
        },
        {
         "hoverinfo": "text",
         "marker": {
          "color": "rgb(0,116,217)"
         },
         "mode": "lines",
         "type": "scatter",
         "x": [
          1.5896750572903533,
          1.6273994641735212,
          1.6273994641735212,
          1.3884166911342943
         ],
         "xaxis": "x",
         "y": [
          -1600.625,
          -1600.625,
          -1677.5,
          -1677.5
         ],
         "yaxis": "y"
        },
        {
         "hoverinfo": "text",
         "marker": {
          "color": "rgb(0,116,217)"
         },
         "mode": "lines",
         "type": "scatter",
         "x": [
          1.293922304625612,
          1.7111232938903271,
          1.7111232938903271,
          1.6273994641735212
         ],
         "xaxis": "x",
         "y": [
          -1552.5,
          -1552.5,
          -1639.0625,
          -1639.0625
         ],
         "yaxis": "y"
        },
        {
         "hoverinfo": "text",
         "marker": {
          "color": "rgb(0,116,217)"
         },
         "mode": "lines",
         "type": "scatter",
         "x": [
          0,
          1.416814753125216,
          1.416814753125216,
          0
         ],
         "xaxis": "x",
         "y": [
          -1695,
          -1695,
          -1705,
          -1705
         ],
         "yaxis": "y"
        },
        {
         "hoverinfo": "text",
         "marker": {
          "color": "rgb(0,116,217)"
         },
         "mode": "lines",
         "type": "scatter",
         "x": [
          0,
          1.2073991798505557,
          1.2073991798505557,
          0
         ],
         "xaxis": "x",
         "y": [
          -1715,
          -1715,
          -1725,
          -1725
         ],
         "yaxis": "y"
        },
        {
         "hoverinfo": "text",
         "marker": {
          "color": "rgb(0,116,217)"
         },
         "mode": "lines",
         "type": "scatter",
         "x": [
          0,
          1.3124279680564948,
          1.3124279680564948,
          0
         ],
         "xaxis": "x",
         "y": [
          -1745,
          -1745,
          -1755,
          -1755
         ],
         "yaxis": "y"
        },
        {
         "hoverinfo": "text",
         "marker": {
          "color": "rgb(0,116,217)"
         },
         "mode": "lines",
         "type": "scatter",
         "x": [
          0,
          1.32535904958233,
          1.32535904958233,
          1.3124279680564948
         ],
         "xaxis": "x",
         "y": [
          -1735,
          -1735,
          -1750,
          -1750
         ],
         "yaxis": "y"
        },
        {
         "hoverinfo": "text",
         "marker": {
          "color": "rgb(0,116,217)"
         },
         "mode": "lines",
         "type": "scatter",
         "x": [
          1.32535904958233,
          1.3787720726338684,
          1.3787720726338684,
          0
         ],
         "xaxis": "x",
         "y": [
          -1742.5,
          -1742.5,
          -1765,
          -1765
         ],
         "yaxis": "y"
        },
        {
         "hoverinfo": "text",
         "marker": {
          "color": "rgb(0,116,217)"
         },
         "mode": "lines",
         "type": "scatter",
         "x": [
          1.2073991798505557,
          1.4560727353548402,
          1.4560727353548402,
          1.3787720726338684
         ],
         "xaxis": "x",
         "y": [
          -1720,
          -1720,
          -1753.75,
          -1753.75
         ],
         "yaxis": "y"
        },
        {
         "hoverinfo": "text",
         "marker": {
          "color": "rgb(0,116,217)"
         },
         "mode": "lines",
         "type": "scatter",
         "x": [
          1.416814753125216,
          1.5394282549771254,
          1.5394282549771254,
          1.4560727353548402
         ],
         "xaxis": "x",
         "y": [
          -1700,
          -1700,
          -1736.875,
          -1736.875
         ],
         "yaxis": "y"
        },
        {
         "hoverinfo": "text",
         "marker": {
          "color": "rgb(0,116,217)"
         },
         "mode": "lines",
         "type": "scatter",
         "x": [
          0,
          1.3425061714070712,
          1.3425061714070712,
          0
         ],
         "xaxis": "x",
         "y": [
          -1775,
          -1775,
          -1785,
          -1785
         ],
         "yaxis": "y"
        },
        {
         "hoverinfo": "text",
         "marker": {
          "color": "rgb(0,116,217)"
         },
         "mode": "lines",
         "type": "scatter",
         "x": [
          0,
          1.2256223559296742,
          1.2256223559296742,
          0
         ],
         "xaxis": "x",
         "y": [
          -1795,
          -1795,
          -1805,
          -1805
         ],
         "yaxis": "y"
        },
        {
         "hoverinfo": "text",
         "marker": {
          "color": "rgb(0,116,217)"
         },
         "mode": "lines",
         "type": "scatter",
         "x": [
          1.3425061714070712,
          1.3999191851950195,
          1.3999191851950195,
          1.2256223559296742
         ],
         "xaxis": "x",
         "y": [
          -1780,
          -1780,
          -1800,
          -1800
         ],
         "yaxis": "y"
        },
        {
         "hoverinfo": "text",
         "marker": {
          "color": "rgb(0,116,217)"
         },
         "mode": "lines",
         "type": "scatter",
         "x": [
          0,
          1.1269514136552563,
          1.1269514136552563,
          0
         ],
         "xaxis": "x",
         "y": [
          -1815,
          -1815,
          -1825,
          -1825
         ],
         "yaxis": "y"
        },
        {
         "hoverinfo": "text",
         "marker": {
          "color": "rgb(0,116,217)"
         },
         "mode": "lines",
         "type": "scatter",
         "x": [
          1.3999191851950195,
          1.5653911220898515,
          1.5653911220898515,
          1.1269514136552563
         ],
         "xaxis": "x",
         "y": [
          -1790,
          -1790,
          -1820,
          -1820
         ],
         "yaxis": "y"
        },
        {
         "hoverinfo": "text",
         "marker": {
          "color": "rgb(35,205,205)"
         },
         "mode": "lines",
         "type": "scatter",
         "x": [
          0,
          0.8198076627407844,
          0.8198076627407844,
          0
         ],
         "xaxis": "x",
         "y": [
          -1835,
          -1835,
          -1845,
          -1845
         ],
         "yaxis": "y"
        },
        {
         "hoverinfo": "text",
         "marker": {
          "color": "rgb(0,116,217)"
         },
         "mode": "lines",
         "type": "scatter",
         "x": [
          1.5653911220898515,
          1.7929868237014042,
          1.7929868237014042,
          0.8198076627407844
         ],
         "xaxis": "x",
         "y": [
          -1805,
          -1805,
          -1840,
          -1840
         ],
         "yaxis": "y"
        },
        {
         "hoverinfo": "text",
         "marker": {
          "color": "rgb(0,116,217)"
         },
         "mode": "lines",
         "type": "scatter",
         "x": [
          1.5394282549771254,
          1.9372944768121143,
          1.9372944768121143,
          1.7929868237014042
         ],
         "xaxis": "x",
         "y": [
          -1718.4375,
          -1718.4375,
          -1822.5,
          -1822.5
         ],
         "yaxis": "y"
        },
        {
         "hoverinfo": "text",
         "marker": {
          "color": "rgb(0,116,217)"
         },
         "mode": "lines",
         "type": "scatter",
         "x": [
          1.7111232938903271,
          1.953858599678541,
          1.953858599678541,
          1.9372944768121143
         ],
         "xaxis": "x",
         "y": [
          -1595.78125,
          -1595.78125,
          -1770.46875,
          -1770.46875
         ],
         "yaxis": "y"
        },
        {
         "hoverinfo": "text",
         "marker": {
          "color": "rgb(0,116,217)"
         },
         "mode": "lines",
         "type": "scatter",
         "x": [
          1.7581711767900003,
          2.5370525391413152,
          2.5370525391413152,
          1.953858599678541
         ],
         "xaxis": "x",
         "y": [
          -1457.1875,
          -1457.1875,
          -1683.125,
          -1683.125
         ],
         "yaxis": "y"
        },
        {
         "hoverinfo": "text",
         "marker": {
          "color": "rgb(0,116,217)"
         },
         "mode": "lines",
         "type": "scatter",
         "x": [
          0,
          1.201230378099204,
          1.201230378099204,
          0
         ],
         "xaxis": "x",
         "y": [
          -1855,
          -1855,
          -1865,
          -1865
         ],
         "yaxis": "y"
        },
        {
         "hoverinfo": "text",
         "marker": {
          "color": "rgb(0,116,217)"
         },
         "mode": "lines",
         "type": "scatter",
         "x": [
          0,
          1.2501924470786727,
          1.2501924470786727,
          0
         ],
         "xaxis": "x",
         "y": [
          -1875,
          -1875,
          -1885,
          -1885
         ],
         "yaxis": "y"
        },
        {
         "hoverinfo": "text",
         "marker": {
          "color": "rgb(0,116,217)"
         },
         "mode": "lines",
         "type": "scatter",
         "x": [
          1.2501924470786727,
          1.2826567465816818,
          1.2826567465816818,
          0
         ],
         "xaxis": "x",
         "y": [
          -1880,
          -1880,
          -1895,
          -1895
         ],
         "yaxis": "y"
        },
        {
         "hoverinfo": "text",
         "marker": {
          "color": "rgb(0,116,217)"
         },
         "mode": "lines",
         "type": "scatter",
         "x": [
          1.201230378099204,
          1.3295344092820034,
          1.3295344092820034,
          1.2826567465816818
         ],
         "xaxis": "x",
         "y": [
          -1860,
          -1860,
          -1887.5,
          -1887.5
         ],
         "yaxis": "y"
        },
        {
         "hoverinfo": "text",
         "marker": {
          "color": "rgb(0,116,217)"
         },
         "mode": "lines",
         "type": "scatter",
         "x": [
          0,
          1.1728440188114855,
          1.1728440188114855,
          0
         ],
         "xaxis": "x",
         "y": [
          -1915,
          -1915,
          -1925,
          -1925
         ],
         "yaxis": "y"
        },
        {
         "hoverinfo": "text",
         "marker": {
          "color": "rgb(0,116,217)"
         },
         "mode": "lines",
         "type": "scatter",
         "x": [
          0,
          1.262083548090526,
          1.262083548090526,
          1.1728440188114855
         ],
         "xaxis": "x",
         "y": [
          -1905,
          -1905,
          -1920,
          -1920
         ],
         "yaxis": "y"
        },
        {
         "hoverinfo": "text",
         "marker": {
          "color": "rgb(0,116,217)"
         },
         "mode": "lines",
         "type": "scatter",
         "x": [
          0,
          1.2522266449902477,
          1.2522266449902477,
          0
         ],
         "xaxis": "x",
         "y": [
          -1935,
          -1935,
          -1945,
          -1945
         ],
         "yaxis": "y"
        },
        {
         "hoverinfo": "text",
         "marker": {
          "color": "rgb(0,116,217)"
         },
         "mode": "lines",
         "type": "scatter",
         "x": [
          1.262083548090526,
          1.3953410610486527,
          1.3953410610486527,
          1.2522266449902477
         ],
         "xaxis": "x",
         "y": [
          -1912.5,
          -1912.5,
          -1940,
          -1940
         ],
         "yaxis": "y"
        },
        {
         "hoverinfo": "text",
         "marker": {
          "color": "rgb(0,116,217)"
         },
         "mode": "lines",
         "type": "scatter",
         "x": [
          1.3295344092820034,
          1.471277765229703,
          1.471277765229703,
          1.3953410610486527
         ],
         "xaxis": "x",
         "y": [
          -1873.75,
          -1873.75,
          -1926.25,
          -1926.25
         ],
         "yaxis": "y"
        },
        {
         "hoverinfo": "text",
         "marker": {
          "color": "rgb(0,116,217)"
         },
         "mode": "lines",
         "type": "scatter",
         "x": [
          0,
          1.2290282181192247,
          1.2290282181192247,
          0
         ],
         "xaxis": "x",
         "y": [
          -1955,
          -1955,
          -1965,
          -1965
         ],
         "yaxis": "y"
        },
        {
         "hoverinfo": "text",
         "marker": {
          "color": "rgb(0,116,217)"
         },
         "mode": "lines",
         "type": "scatter",
         "x": [
          0,
          1.1867321777180675,
          1.1867321777180675,
          0
         ],
         "xaxis": "x",
         "y": [
          -1975,
          -1975,
          -1985,
          -1985
         ],
         "yaxis": "y"
        },
        {
         "hoverinfo": "text",
         "marker": {
          "color": "rgb(0,116,217)"
         },
         "mode": "lines",
         "type": "scatter",
         "x": [
          1.2290282181192247,
          1.3131878411111197,
          1.3131878411111197,
          1.1867321777180675
         ],
         "xaxis": "x",
         "y": [
          -1960,
          -1960,
          -1980,
          -1980
         ],
         "yaxis": "y"
        },
        {
         "hoverinfo": "text",
         "marker": {
          "color": "rgb(0,116,217)"
         },
         "mode": "lines",
         "type": "scatter",
         "x": [
          0,
          1.1941667370009814,
          1.1941667370009814,
          0
         ],
         "xaxis": "x",
         "y": [
          -2005,
          -2005,
          -2015,
          -2015
         ],
         "yaxis": "y"
        },
        {
         "hoverinfo": "text",
         "marker": {
          "color": "rgb(0,116,217)"
         },
         "mode": "lines",
         "type": "scatter",
         "x": [
          0,
          1.2597453412156179,
          1.2597453412156179,
          1.1941667370009814
         ],
         "xaxis": "x",
         "y": [
          -1995,
          -1995,
          -2010,
          -2010
         ],
         "yaxis": "y"
        },
        {
         "hoverinfo": "text",
         "marker": {
          "color": "rgb(0,116,217)"
         },
         "mode": "lines",
         "type": "scatter",
         "x": [
          0,
          1.2472123963748076,
          1.2472123963748076,
          0
         ],
         "xaxis": "x",
         "y": [
          -2025,
          -2025,
          -2035,
          -2035
         ],
         "yaxis": "y"
        },
        {
         "hoverinfo": "text",
         "marker": {
          "color": "rgb(0,116,217)"
         },
         "mode": "lines",
         "type": "scatter",
         "x": [
          1.2597453412156179,
          1.3325597217948613,
          1.3325597217948613,
          1.2472123963748076
         ],
         "xaxis": "x",
         "y": [
          -2002.5,
          -2002.5,
          -2030,
          -2030
         ],
         "yaxis": "y"
        },
        {
         "hoverinfo": "text",
         "marker": {
          "color": "rgb(0,116,217)"
         },
         "mode": "lines",
         "type": "scatter",
         "x": [
          1.3131878411111197,
          1.6979614568435342,
          1.6979614568435342,
          1.3325597217948613
         ],
         "xaxis": "x",
         "y": [
          -1970,
          -1970,
          -2016.25,
          -2016.25
         ],
         "yaxis": "y"
        },
        {
         "hoverinfo": "text",
         "marker": {
          "color": "rgb(0,116,217)"
         },
         "mode": "lines",
         "type": "scatter",
         "x": [
          1.471277765229703,
          2.0907617131804948,
          2.0907617131804948,
          1.6979614568435342
         ],
         "xaxis": "x",
         "y": [
          -1900,
          -1900,
          -1993.125,
          -1993.125
         ],
         "yaxis": "y"
        },
        {
         "hoverinfo": "text",
         "marker": {
          "color": "rgb(0,116,217)"
         },
         "mode": "lines",
         "type": "scatter",
         "x": [
          0,
          1.281811241482711,
          1.281811241482711,
          0
         ],
         "xaxis": "x",
         "y": [
          -2055,
          -2055,
          -2065,
          -2065
         ],
         "yaxis": "y"
        },
        {
         "hoverinfo": "text",
         "marker": {
          "color": "rgb(0,116,217)"
         },
         "mode": "lines",
         "type": "scatter",
         "x": [
          0,
          1.2899903048711325,
          1.2899903048711325,
          1.281811241482711
         ],
         "xaxis": "x",
         "y": [
          -2045,
          -2045,
          -2060,
          -2060
         ],
         "yaxis": "y"
        },
        {
         "hoverinfo": "text",
         "marker": {
          "color": "rgb(0,116,217)"
         },
         "mode": "lines",
         "type": "scatter",
         "x": [
          0,
          1.1617327585930552,
          1.1617327585930552,
          0
         ],
         "xaxis": "x",
         "y": [
          -2075,
          -2075,
          -2085,
          -2085
         ],
         "yaxis": "y"
        },
        {
         "hoverinfo": "text",
         "marker": {
          "color": "rgb(0,116,217)"
         },
         "mode": "lines",
         "type": "scatter",
         "x": [
          1.1617327585930552,
          1.2887253999776125,
          1.2887253999776125,
          0
         ],
         "xaxis": "x",
         "y": [
          -2080,
          -2080,
          -2095,
          -2095
         ],
         "yaxis": "y"
        },
        {
         "hoverinfo": "text",
         "marker": {
          "color": "rgb(0,116,217)"
         },
         "mode": "lines",
         "type": "scatter",
         "x": [
          1.2899903048711325,
          1.4275199591464167,
          1.4275199591464167,
          1.2887253999776125
         ],
         "xaxis": "x",
         "y": [
          -2052.5,
          -2052.5,
          -2087.5,
          -2087.5
         ],
         "yaxis": "y"
        },
        {
         "hoverinfo": "text",
         "marker": {
          "color": "rgb(133,20,75)"
         },
         "mode": "lines",
         "type": "scatter",
         "x": [
          0,
          0.9877047246410539,
          0.9877047246410539,
          0
         ],
         "xaxis": "x",
         "y": [
          -2105,
          -2105,
          -2115,
          -2115
         ],
         "yaxis": "y"
        },
        {
         "hoverinfo": "text",
         "marker": {
          "color": "rgb(0,116,217)"
         },
         "mode": "lines",
         "type": "scatter",
         "x": [
          0,
          1.0465515578091704,
          1.0465515578091704,
          0
         ],
         "xaxis": "x",
         "y": [
          -2125,
          -2125,
          -2135,
          -2135
         ],
         "yaxis": "y"
        },
        {
         "hoverinfo": "text",
         "marker": {
          "color": "rgb(0,116,217)"
         },
         "mode": "lines",
         "type": "scatter",
         "x": [
          0.9877047246410539,
          1.2553330919097805,
          1.2553330919097805,
          1.0465515578091704
         ],
         "xaxis": "x",
         "y": [
          -2110,
          -2110,
          -2130,
          -2130
         ],
         "yaxis": "y"
        },
        {
         "hoverinfo": "text",
         "marker": {
          "color": "rgb(0,116,217)"
         },
         "mode": "lines",
         "type": "scatter",
         "x": [
          1.4275199591464167,
          1.5927562289279746,
          1.5927562289279746,
          1.2553330919097805
         ],
         "xaxis": "x",
         "y": [
          -2070,
          -2070,
          -2120,
          -2120
         ],
         "yaxis": "y"
        },
        {
         "hoverinfo": "text",
         "marker": {
          "color": "rgb(0,116,217)"
         },
         "mode": "lines",
         "type": "scatter",
         "x": [
          2.0907617131804948,
          2.485893782487555,
          2.485893782487555,
          1.5927562289279746
         ],
         "xaxis": "x",
         "y": [
          -1946.5625,
          -1946.5625,
          -2095,
          -2095
         ],
         "yaxis": "y"
        },
        {
         "hoverinfo": "text",
         "marker": {
          "color": "rgb(0,116,217)"
         },
         "mode": "lines",
         "type": "scatter",
         "x": [
          0,
          1.2502254104350372,
          1.2502254104350372,
          0
         ],
         "xaxis": "x",
         "y": [
          -2145,
          -2145,
          -2155,
          -2155
         ],
         "yaxis": "y"
        },
        {
         "hoverinfo": "text",
         "marker": {
          "color": "rgb(255,220,0)"
         },
         "mode": "lines",
         "type": "scatter",
         "x": [
          0,
          0.7080046068686163,
          0.7080046068686163,
          0
         ],
         "xaxis": "x",
         "y": [
          -2165,
          -2165,
          -2175,
          -2175
         ],
         "yaxis": "y"
        },
        {
         "hoverinfo": "text",
         "marker": {
          "color": "rgb(0,116,217)"
         },
         "mode": "lines",
         "type": "scatter",
         "x": [
          0,
          1.1496819539425414,
          1.1496819539425414,
          0
         ],
         "xaxis": "x",
         "y": [
          -2185,
          -2185,
          -2195,
          -2195
         ],
         "yaxis": "y"
        },
        {
         "hoverinfo": "text",
         "marker": {
          "color": "rgb(0,116,217)"
         },
         "mode": "lines",
         "type": "scatter",
         "x": [
          0.7080046068686163,
          1.460962806982259,
          1.460962806982259,
          1.1496819539425414
         ],
         "xaxis": "x",
         "y": [
          -2170,
          -2170,
          -2190,
          -2190
         ],
         "yaxis": "y"
        },
        {
         "hoverinfo": "text",
         "marker": {
          "color": "rgb(0,116,217)"
         },
         "mode": "lines",
         "type": "scatter",
         "x": [
          1.2502254104350372,
          1.5534651368728962,
          1.5534651368728962,
          1.460962806982259
         ],
         "xaxis": "x",
         "y": [
          -2150,
          -2150,
          -2180,
          -2180
         ],
         "yaxis": "y"
        },
        {
         "hoverinfo": "text",
         "marker": {
          "color": "rgb(0,116,217)"
         },
         "mode": "lines",
         "type": "scatter",
         "x": [
          2.485893782487555,
          2.6054032294066363,
          2.6054032294066363,
          1.5534651368728962
         ],
         "xaxis": "x",
         "y": [
          -2020.78125,
          -2020.78125,
          -2165,
          -2165
         ],
         "yaxis": "y"
        },
        {
         "hoverinfo": "text",
         "marker": {
          "color": "rgb(0,116,217)"
         },
         "mode": "lines",
         "type": "scatter",
         "x": [
          2.5370525391413152,
          3.2291708732391173,
          3.2291708732391173,
          2.6054032294066363
         ],
         "xaxis": "x",
         "y": [
          -1570.15625,
          -1570.15625,
          -2092.890625,
          -2092.890625
         ],
         "yaxis": "y"
        },
        {
         "hoverinfo": "text",
         "marker": {
          "color": "rgb(0,116,217)"
         },
         "mode": "lines",
         "type": "scatter",
         "x": [
          2.5565044401667265,
          3.3072159258771223,
          3.3072159258771223,
          3.2291708732391173
         ],
         "xaxis": "x",
         "y": [
          -1242.890625,
          -1242.890625,
          -1831.5234375,
          -1831.5234375
         ],
         "yaxis": "y"
        },
        {
         "hoverinfo": "text",
         "marker": {
          "color": "rgb(0,116,217)"
         },
         "mode": "lines",
         "type": "scatter",
         "x": [
          0,
          1.0989747395644678,
          1.0989747395644678,
          0
         ],
         "xaxis": "x",
         "y": [
          -2215,
          -2215,
          -2225,
          -2225
         ],
         "yaxis": "y"
        },
        {
         "hoverinfo": "text",
         "marker": {
          "color": "rgb(0,116,217)"
         },
         "mode": "lines",
         "type": "scatter",
         "x": [
          0,
          1.2208048530524445,
          1.2208048530524445,
          1.0989747395644678
         ],
         "xaxis": "x",
         "y": [
          -2205,
          -2205,
          -2220,
          -2220
         ],
         "yaxis": "y"
        },
        {
         "hoverinfo": "text",
         "marker": {
          "color": "rgb(0,116,217)"
         },
         "mode": "lines",
         "type": "scatter",
         "x": [
          0,
          1.1439760513339536,
          1.1439760513339536,
          0
         ],
         "xaxis": "x",
         "y": [
          -2245,
          -2245,
          -2255,
          -2255
         ],
         "yaxis": "y"
        },
        {
         "hoverinfo": "text",
         "marker": {
          "color": "rgb(0,116,217)"
         },
         "mode": "lines",
         "type": "scatter",
         "x": [
          0,
          1.295179248230893,
          1.295179248230893,
          1.1439760513339536
         ],
         "xaxis": "x",
         "y": [
          -2235,
          -2235,
          -2250,
          -2250
         ],
         "yaxis": "y"
        },
        {
         "hoverinfo": "text",
         "marker": {
          "color": "rgb(0,116,217)"
         },
         "mode": "lines",
         "type": "scatter",
         "x": [
          1.2208048530524445,
          1.3441459604527082,
          1.3441459604527082,
          1.295179248230893
         ],
         "xaxis": "x",
         "y": [
          -2212.5,
          -2212.5,
          -2242.5,
          -2242.5
         ],
         "yaxis": "y"
        },
        {
         "hoverinfo": "text",
         "marker": {
          "color": "rgb(0,116,217)"
         },
         "mode": "lines",
         "type": "scatter",
         "x": [
          0,
          1.104064933174552,
          1.104064933174552,
          0
         ],
         "xaxis": "x",
         "y": [
          -2265,
          -2265,
          -2275,
          -2275
         ],
         "yaxis": "y"
        },
        {
         "hoverinfo": "text",
         "marker": {
          "color": "rgb(0,116,217)"
         },
         "mode": "lines",
         "type": "scatter",
         "x": [
          1.104064933174552,
          1.2214518275735948,
          1.2214518275735948,
          0
         ],
         "xaxis": "x",
         "y": [
          -2270,
          -2270,
          -2285,
          -2285
         ],
         "yaxis": "y"
        },
        {
         "hoverinfo": "text",
         "marker": {
          "color": "rgb(0,116,217)"
         },
         "mode": "lines",
         "type": "scatter",
         "x": [
          1.3441459604527082,
          1.506906091961196,
          1.506906091961196,
          1.2214518275735948
         ],
         "xaxis": "x",
         "y": [
          -2227.5,
          -2227.5,
          -2277.5,
          -2277.5
         ],
         "yaxis": "y"
        },
        {
         "hoverinfo": "text",
         "marker": {
          "color": "rgb(40,35,35)"
         },
         "mode": "lines",
         "type": "scatter",
         "x": [
          0,
          0.9989937196207671,
          0.9989937196207671,
          0
         ],
         "xaxis": "x",
         "y": [
          -2295,
          -2295,
          -2305,
          -2305
         ],
         "yaxis": "y"
        },
        {
         "hoverinfo": "text",
         "marker": {
          "color": "rgb(61,153,112)"
         },
         "mode": "lines",
         "type": "scatter",
         "x": [
          0,
          0.8605437816573351,
          0.8605437816573351,
          0
         ],
         "xaxis": "x",
         "y": [
          -2315,
          -2315,
          -2325,
          -2325
         ],
         "yaxis": "y"
        },
        {
         "hoverinfo": "text",
         "marker": {
          "color": "rgb(0,116,217)"
         },
         "mode": "lines",
         "type": "scatter",
         "x": [
          0.9989937196207671,
          1.1191760901464514,
          1.1191760901464514,
          0.8605437816573351
         ],
         "xaxis": "x",
         "y": [
          -2300,
          -2300,
          -2320,
          -2320
         ],
         "yaxis": "y"
        },
        {
         "hoverinfo": "text",
         "marker": {
          "color": "rgb(0,116,217)"
         },
         "mode": "lines",
         "type": "scatter",
         "x": [
          1.506906091961196,
          1.9008377358979502,
          1.9008377358979502,
          1.1191760901464514
         ],
         "xaxis": "x",
         "y": [
          -2252.5,
          -2252.5,
          -2310,
          -2310
         ],
         "yaxis": "y"
        },
        {
         "hoverinfo": "text",
         "marker": {
          "color": "rgb(0,116,217)"
         },
         "mode": "lines",
         "type": "scatter",
         "x": [
          0,
          1.0426561350102137,
          1.0426561350102137,
          0
         ],
         "xaxis": "x",
         "y": [
          -2335,
          -2335,
          -2345,
          -2345
         ],
         "yaxis": "y"
        },
        {
         "hoverinfo": "text",
         "marker": {
          "color": "rgb(255,65,54)"
         },
         "mode": "lines",
         "type": "scatter",
         "x": [
          0,
          0.996655936944324,
          0.996655936944324,
          0
         ],
         "xaxis": "x",
         "y": [
          -2355,
          -2355,
          -2365,
          -2365
         ],
         "yaxis": "y"
        },
        {
         "hoverinfo": "text",
         "marker": {
          "color": "rgb(0,116,217)"
         },
         "mode": "lines",
         "type": "scatter",
         "x": [
          1.0426561350102137,
          1.1866304618136694,
          1.1866304618136694,
          0.996655936944324
         ],
         "xaxis": "x",
         "y": [
          -2340,
          -2340,
          -2360,
          -2360
         ],
         "yaxis": "y"
        },
        {
         "hoverinfo": "text",
         "marker": {
          "color": "rgb(0,116,217)"
         },
         "mode": "lines",
         "type": "scatter",
         "x": [
          0,
          1.1929059133941515,
          1.1929059133941515,
          0
         ],
         "xaxis": "x",
         "y": [
          -2385,
          -2385,
          -2395,
          -2395
         ],
         "yaxis": "y"
        },
        {
         "hoverinfo": "text",
         "marker": {
          "color": "rgb(0,116,217)"
         },
         "mode": "lines",
         "type": "scatter",
         "x": [
          0,
          1.2560235603996388,
          1.2560235603996388,
          1.1929059133941515
         ],
         "xaxis": "x",
         "y": [
          -2375,
          -2375,
          -2390,
          -2390
         ],
         "yaxis": "y"
        },
        {
         "hoverinfo": "text",
         "marker": {
          "color": "rgb(0,116,217)"
         },
         "mode": "lines",
         "type": "scatter",
         "x": [
          0,
          1.0389721796712907,
          1.0389721796712907,
          0
         ],
         "xaxis": "x",
         "y": [
          -2405,
          -2405,
          -2415,
          -2415
         ],
         "yaxis": "y"
        },
        {
         "hoverinfo": "text",
         "marker": {
          "color": "rgb(0,116,217)"
         },
         "mode": "lines",
         "type": "scatter",
         "x": [
          1.2560235603996388,
          1.392177016355947,
          1.392177016355947,
          1.0389721796712907
         ],
         "xaxis": "x",
         "y": [
          -2382.5,
          -2382.5,
          -2410,
          -2410
         ],
         "yaxis": "y"
        },
        {
         "hoverinfo": "text",
         "marker": {
          "color": "rgb(0,116,217)"
         },
         "mode": "lines",
         "type": "scatter",
         "x": [
          0,
          1.1476290684671657,
          1.1476290684671657,
          0
         ],
         "xaxis": "x",
         "y": [
          -2435,
          -2435,
          -2445,
          -2445
         ],
         "yaxis": "y"
        },
        {
         "hoverinfo": "text",
         "marker": {
          "color": "rgb(0,116,217)"
         },
         "mode": "lines",
         "type": "scatter",
         "x": [
          0,
          1.1688640048297358,
          1.1688640048297358,
          1.1476290684671657
         ],
         "xaxis": "x",
         "y": [
          -2425,
          -2425,
          -2440,
          -2440
         ],
         "yaxis": "y"
        },
        {
         "hoverinfo": "text",
         "marker": {
          "color": "rgb(0,116,217)"
         },
         "mode": "lines",
         "type": "scatter",
         "x": [
          0,
          1.078546305193972,
          1.078546305193972,
          0
         ],
         "xaxis": "x",
         "y": [
          -2455,
          -2455,
          -2465,
          -2465
         ],
         "yaxis": "y"
        },
        {
         "hoverinfo": "text",
         "marker": {
          "color": "rgb(0,116,217)"
         },
         "mode": "lines",
         "type": "scatter",
         "x": [
          1.1688640048297358,
          1.3017288486699792,
          1.3017288486699792,
          1.078546305193972
         ],
         "xaxis": "x",
         "y": [
          -2432.5,
          -2432.5,
          -2460,
          -2460
         ],
         "yaxis": "y"
        },
        {
         "hoverinfo": "text",
         "marker": {
          "color": "rgb(0,116,217)"
         },
         "mode": "lines",
         "type": "scatter",
         "x": [
          1.392177016355947,
          1.4421266946401317,
          1.4421266946401317,
          1.3017288486699792
         ],
         "xaxis": "x",
         "y": [
          -2396.25,
          -2396.25,
          -2446.25,
          -2446.25
         ],
         "yaxis": "y"
        },
        {
         "hoverinfo": "text",
         "marker": {
          "color": "rgb(0,116,217)"
         },
         "mode": "lines",
         "type": "scatter",
         "x": [
          1.1866304618136694,
          1.8061651967769528,
          1.8061651967769528,
          1.4421266946401317
         ],
         "xaxis": "x",
         "y": [
          -2350,
          -2350,
          -2421.25,
          -2421.25
         ],
         "yaxis": "y"
        },
        {
         "hoverinfo": "text",
         "marker": {
          "color": "rgb(0,116,217)"
         },
         "mode": "lines",
         "type": "scatter",
         "x": [
          1.9008377358979502,
          2.3566509755819762,
          2.3566509755819762,
          1.8061651967769528
         ],
         "xaxis": "x",
         "y": [
          -2281.25,
          -2281.25,
          -2385.625,
          -2385.625
         ],
         "yaxis": "y"
        },
        {
         "hoverinfo": "text",
         "marker": {
          "color": "rgb(0,116,217)"
         },
         "mode": "lines",
         "type": "scatter",
         "x": [
          3.3072159258771223,
          4.751466715872991,
          4.751466715872991,
          2.3566509755819762
         ],
         "xaxis": "x",
         "y": [
          -1537.20703125,
          -1537.20703125,
          -2333.4375,
          -2333.4375
         ],
         "yaxis": "y"
        },
        {
         "hoverinfo": "text",
         "marker": {
          "color": "rgb(0,116,217)"
         },
         "mode": "lines",
         "type": "scatter",
         "x": [
          2.858426130946414,
          5.153653506299958,
          5.153653506299958,
          4.751466715872991
         ],
         "xaxis": "x",
         "y": [
          -926.4453125,
          -926.4453125,
          -1935.322265625,
          -1935.322265625
         ],
         "yaxis": "y"
        },
        {
         "hoverinfo": "text",
         "marker": {
          "color": "rgb(0,116,217)"
         },
         "mode": "lines",
         "type": "scatter",
         "x": [
          0,
          1.3530348232403497,
          1.3530348232403497,
          0
         ],
         "xaxis": "x",
         "y": [
          -2475,
          -2475,
          -2485,
          -2485
         ],
         "yaxis": "y"
        },
        {
         "hoverinfo": "text",
         "marker": {
          "color": "rgb(0,116,217)"
         },
         "mode": "lines",
         "type": "scatter",
         "x": [
          1.3530348232403497,
          1.3843165776053612,
          1.3843165776053612,
          0
         ],
         "xaxis": "x",
         "y": [
          -2480,
          -2480,
          -2495,
          -2495
         ],
         "yaxis": "y"
        },
        {
         "hoverinfo": "text",
         "marker": {
          "color": "rgb(0,116,217)"
         },
         "mode": "lines",
         "type": "scatter",
         "x": [
          0,
          1.2799905777185672,
          1.2799905777185672,
          0
         ],
         "xaxis": "x",
         "y": [
          -2505,
          -2505,
          -2515,
          -2515
         ],
         "yaxis": "y"
        },
        {
         "hoverinfo": "text",
         "marker": {
          "color": "rgb(0,116,217)"
         },
         "mode": "lines",
         "type": "scatter",
         "x": [
          1.3843165776053612,
          1.4721591348723655,
          1.4721591348723655,
          1.2799905777185672
         ],
         "xaxis": "x",
         "y": [
          -2487.5,
          -2487.5,
          -2510,
          -2510
         ],
         "yaxis": "y"
        },
        {
         "hoverinfo": "text",
         "marker": {
          "color": "rgb(0,116,217)"
         },
         "mode": "lines",
         "type": "scatter",
         "x": [
          0,
          1.048668761833171,
          1.048668761833171,
          0
         ],
         "xaxis": "x",
         "y": [
          -2525,
          -2525,
          -2535,
          -2535
         ],
         "yaxis": "y"
        },
        {
         "hoverinfo": "text",
         "marker": {
          "color": "rgb(0,116,217)"
         },
         "mode": "lines",
         "type": "scatter",
         "x": [
          0,
          1.2180991295714567,
          1.2180991295714567,
          0
         ],
         "xaxis": "x",
         "y": [
          -2545,
          -2545,
          -2555,
          -2555
         ],
         "yaxis": "y"
        },
        {
         "hoverinfo": "text",
         "marker": {
          "color": "rgb(0,116,217)"
         },
         "mode": "lines",
         "type": "scatter",
         "x": [
          1.2180991295714567,
          1.2800602442501234,
          1.2800602442501234,
          0
         ],
         "xaxis": "x",
         "y": [
          -2550,
          -2550,
          -2565,
          -2565
         ],
         "yaxis": "y"
        },
        {
         "hoverinfo": "text",
         "marker": {
          "color": "rgb(0,116,217)"
         },
         "mode": "lines",
         "type": "scatter",
         "x": [
          0,
          1.3268053698593016,
          1.3268053698593016,
          0
         ],
         "xaxis": "x",
         "y": [
          -2575,
          -2575,
          -2585,
          -2585
         ],
         "yaxis": "y"
        },
        {
         "hoverinfo": "text",
         "marker": {
          "color": "rgb(0,116,217)"
         },
         "mode": "lines",
         "type": "scatter",
         "x": [
          0,
          1.3240713958820456,
          1.3240713958820456,
          0
         ],
         "xaxis": "x",
         "y": [
          -2595,
          -2595,
          -2605,
          -2605
         ],
         "yaxis": "y"
        },
        {
         "hoverinfo": "text",
         "marker": {
          "color": "rgb(0,116,217)"
         },
         "mode": "lines",
         "type": "scatter",
         "x": [
          1.3268053698593016,
          1.410551420968568,
          1.410551420968568,
          1.3240713958820456
         ],
         "xaxis": "x",
         "y": [
          -2580,
          -2580,
          -2600,
          -2600
         ],
         "yaxis": "y"
        },
        {
         "hoverinfo": "text",
         "marker": {
          "color": "rgb(0,116,217)"
         },
         "mode": "lines",
         "type": "scatter",
         "x": [
          1.2800602442501234,
          1.522768867309033,
          1.522768867309033,
          1.410551420968568
         ],
         "xaxis": "x",
         "y": [
          -2557.5,
          -2557.5,
          -2590,
          -2590
         ],
         "yaxis": "y"
        },
        {
         "hoverinfo": "text",
         "marker": {
          "color": "rgb(0,116,217)"
         },
         "mode": "lines",
         "type": "scatter",
         "x": [
          1.048668761833171,
          1.5826652159230044,
          1.5826652159230044,
          1.522768867309033
         ],
         "xaxis": "x",
         "y": [
          -2530,
          -2530,
          -2573.75,
          -2573.75
         ],
         "yaxis": "y"
        },
        {
         "hoverinfo": "text",
         "marker": {
          "color": "rgb(0,116,217)"
         },
         "mode": "lines",
         "type": "scatter",
         "x": [
          1.4721591348723655,
          1.6980583839735113,
          1.6980583839735113,
          1.5826652159230044
         ],
         "xaxis": "x",
         "y": [
          -2498.75,
          -2498.75,
          -2551.875,
          -2551.875
         ],
         "yaxis": "y"
        },
        {
         "hoverinfo": "text",
         "marker": {
          "color": "rgb(0,116,217)"
         },
         "mode": "lines",
         "type": "scatter",
         "x": [
          0,
          1.5010352220801275,
          1.5010352220801275,
          0
         ],
         "xaxis": "x",
         "y": [
          -2615,
          -2615,
          -2625,
          -2625
         ],
         "yaxis": "y"
        },
        {
         "hoverinfo": "text",
         "marker": {
          "color": "rgb(0,116,217)"
         },
         "mode": "lines",
         "type": "scatter",
         "x": [
          0,
          1.3333485290515497,
          1.3333485290515497,
          0
         ],
         "xaxis": "x",
         "y": [
          -2635,
          -2635,
          -2645,
          -2645
         ],
         "yaxis": "y"
        },
        {
         "hoverinfo": "text",
         "marker": {
          "color": "rgb(0,116,217)"
         },
         "mode": "lines",
         "type": "scatter",
         "x": [
          1.5010352220801275,
          1.67244459511626,
          1.67244459511626,
          1.3333485290515497
         ],
         "xaxis": "x",
         "y": [
          -2620,
          -2620,
          -2640,
          -2640
         ],
         "yaxis": "y"
        },
        {
         "hoverinfo": "text",
         "marker": {
          "color": "rgb(0,116,217)"
         },
         "mode": "lines",
         "type": "scatter",
         "x": [
          0,
          1.3968040420529166,
          1.3968040420529166,
          0
         ],
         "xaxis": "x",
         "y": [
          -2655,
          -2655,
          -2665,
          -2665
         ],
         "yaxis": "y"
        },
        {
         "hoverinfo": "text",
         "marker": {
          "color": "rgb(0,116,217)"
         },
         "mode": "lines",
         "type": "scatter",
         "x": [
          0,
          1.3297077576009004,
          1.3297077576009004,
          0
         ],
         "xaxis": "x",
         "y": [
          -2675,
          -2675,
          -2685,
          -2685
         ],
         "yaxis": "y"
        },
        {
         "hoverinfo": "text",
         "marker": {
          "color": "rgb(0,116,217)"
         },
         "mode": "lines",
         "type": "scatter",
         "x": [
          1.3297077576009004,
          1.385835773254962,
          1.385835773254962,
          0
         ],
         "xaxis": "x",
         "y": [
          -2680,
          -2680,
          -2695,
          -2695
         ],
         "yaxis": "y"
        },
        {
         "hoverinfo": "text",
         "marker": {
          "color": "rgb(0,116,217)"
         },
         "mode": "lines",
         "type": "scatter",
         "x": [
          1.3968040420529166,
          1.4447937189102213,
          1.4447937189102213,
          1.385835773254962
         ],
         "xaxis": "x",
         "y": [
          -2660,
          -2660,
          -2687.5,
          -2687.5
         ],
         "yaxis": "y"
        },
        {
         "hoverinfo": "text",
         "marker": {
          "color": "rgb(0,116,217)"
         },
         "mode": "lines",
         "type": "scatter",
         "x": [
          0,
          1.2600765494226451,
          1.2600765494226451,
          0
         ],
         "xaxis": "x",
         "y": [
          -2705,
          -2705,
          -2715,
          -2715
         ],
         "yaxis": "y"
        },
        {
         "hoverinfo": "text",
         "marker": {
          "color": "rgb(0,116,217)"
         },
         "mode": "lines",
         "type": "scatter",
         "x": [
          0,
          1.4071821104155533,
          1.4071821104155533,
          0
         ],
         "xaxis": "x",
         "y": [
          -2725,
          -2725,
          -2735,
          -2735
         ],
         "yaxis": "y"
        },
        {
         "hoverinfo": "text",
         "marker": {
          "color": "rgb(0,116,217)"
         },
         "mode": "lines",
         "type": "scatter",
         "x": [
          0,
          1.3257262114127493,
          1.3257262114127493,
          0
         ],
         "xaxis": "x",
         "y": [
          -2745,
          -2745,
          -2755,
          -2755
         ],
         "yaxis": "y"
        },
        {
         "hoverinfo": "text",
         "marker": {
          "color": "rgb(0,116,217)"
         },
         "mode": "lines",
         "type": "scatter",
         "x": [
          1.3257262114127493,
          1.3872910039760944,
          1.3872910039760944,
          0
         ],
         "xaxis": "x",
         "y": [
          -2750,
          -2750,
          -2765,
          -2765
         ],
         "yaxis": "y"
        },
        {
         "hoverinfo": "text",
         "marker": {
          "color": "rgb(0,116,217)"
         },
         "mode": "lines",
         "type": "scatter",
         "x": [
          1.4071821104155533,
          1.4469846510124236,
          1.4469846510124236,
          1.3872910039760944
         ],
         "xaxis": "x",
         "y": [
          -2730,
          -2730,
          -2757.5,
          -2757.5
         ],
         "yaxis": "y"
        },
        {
         "hoverinfo": "text",
         "marker": {
          "color": "rgb(0,116,217)"
         },
         "mode": "lines",
         "type": "scatter",
         "x": [
          0,
          1.3660099905155065,
          1.3660099905155065,
          0
         ],
         "xaxis": "x",
         "y": [
          -2775,
          -2775,
          -2785,
          -2785
         ],
         "yaxis": "y"
        },
        {
         "hoverinfo": "text",
         "marker": {
          "color": "rgb(0,116,217)"
         },
         "mode": "lines",
         "type": "scatter",
         "x": [
          1.4469846510124236,
          1.488584997769146,
          1.488584997769146,
          1.3660099905155065
         ],
         "xaxis": "x",
         "y": [
          -2743.75,
          -2743.75,
          -2780,
          -2780
         ],
         "yaxis": "y"
        },
        {
         "hoverinfo": "text",
         "marker": {
          "color": "rgb(0,116,217)"
         },
         "mode": "lines",
         "type": "scatter",
         "x": [
          1.2600765494226451,
          1.552146956907128,
          1.552146956907128,
          1.488584997769146
         ],
         "xaxis": "x",
         "y": [
          -2710,
          -2710,
          -2761.875,
          -2761.875
         ],
         "yaxis": "y"
        },
        {
         "hoverinfo": "text",
         "marker": {
          "color": "rgb(0,116,217)"
         },
         "mode": "lines",
         "type": "scatter",
         "x": [
          1.4447937189102213,
          1.6039763865640568,
          1.6039763865640568,
          1.552146956907128
         ],
         "xaxis": "x",
         "y": [
          -2673.75,
          -2673.75,
          -2735.9375,
          -2735.9375
         ],
         "yaxis": "y"
        },
        {
         "hoverinfo": "text",
         "marker": {
          "color": "rgb(0,116,217)"
         },
         "mode": "lines",
         "type": "scatter",
         "x": [
          1.67244459511626,
          1.7946941095190672,
          1.7946941095190672,
          1.6039763865640568
         ],
         "xaxis": "x",
         "y": [
          -2630,
          -2630,
          -2704.84375,
          -2704.84375
         ],
         "yaxis": "y"
        },
        {
         "hoverinfo": "text",
         "marker": {
          "color": "rgb(35,205,205)"
         },
         "mode": "lines",
         "type": "scatter",
         "x": [
          0,
          0.8813045536010803,
          0.8813045536010803,
          0
         ],
         "xaxis": "x",
         "y": [
          -2795,
          -2795,
          -2805,
          -2805
         ],
         "yaxis": "y"
        },
        {
         "hoverinfo": "text",
         "marker": {
          "color": "rgb(0,116,217)"
         },
         "mode": "lines",
         "type": "scatter",
         "x": [
          1.7946941095190672,
          1.9423069426829183,
          1.9423069426829183,
          0.8813045536010803
         ],
         "xaxis": "x",
         "y": [
          -2667.421875,
          -2667.421875,
          -2800,
          -2800
         ],
         "yaxis": "y"
        },
        {
         "hoverinfo": "text",
         "marker": {
          "color": "rgb(0,116,217)"
         },
         "mode": "lines",
         "type": "scatter",
         "x": [
          1.6980583839735113,
          2.444611037787265,
          2.444611037787265,
          1.9423069426829183
         ],
         "xaxis": "x",
         "y": [
          -2525.3125,
          -2525.3125,
          -2733.7109375,
          -2733.7109375
         ],
         "yaxis": "y"
        },
        {
         "hoverinfo": "text",
         "marker": {
          "color": "rgb(0,116,217)"
         },
         "mode": "lines",
         "type": "scatter",
         "x": [
          0,
          1.277153585515021,
          1.277153585515021,
          0
         ],
         "xaxis": "x",
         "y": [
          -2815,
          -2815,
          -2825,
          -2825
         ],
         "yaxis": "y"
        },
        {
         "hoverinfo": "text",
         "marker": {
          "color": "rgb(0,116,217)"
         },
         "mode": "lines",
         "type": "scatter",
         "x": [
          0,
          1.2609933434269558,
          1.2609933434269558,
          0
         ],
         "xaxis": "x",
         "y": [
          -2835,
          -2835,
          -2845,
          -2845
         ],
         "yaxis": "y"
        },
        {
         "hoverinfo": "text",
         "marker": {
          "color": "rgb(0,116,217)"
         },
         "mode": "lines",
         "type": "scatter",
         "x": [
          1.277153585515021,
          1.4343090857487721,
          1.4343090857487721,
          1.2609933434269558
         ],
         "xaxis": "x",
         "y": [
          -2820,
          -2820,
          -2840,
          -2840
         ],
         "yaxis": "y"
        },
        {
         "hoverinfo": "text",
         "marker": {
          "color": "rgb(0,116,217)"
         },
         "mode": "lines",
         "type": "scatter",
         "x": [
          0,
          1.2691485662048863,
          1.2691485662048863,
          0
         ],
         "xaxis": "x",
         "y": [
          -2855,
          -2855,
          -2865,
          -2865
         ],
         "yaxis": "y"
        },
        {
         "hoverinfo": "text",
         "marker": {
          "color": "rgb(0,116,217)"
         },
         "mode": "lines",
         "type": "scatter",
         "x": [
          0,
          1.2397153528431617,
          1.2397153528431617,
          0
         ],
         "xaxis": "x",
         "y": [
          -2875,
          -2875,
          -2885,
          -2885
         ],
         "yaxis": "y"
        },
        {
         "hoverinfo": "text",
         "marker": {
          "color": "rgb(0,116,217)"
         },
         "mode": "lines",
         "type": "scatter",
         "x": [
          1.2691485662048863,
          1.3309983099083205,
          1.3309983099083205,
          1.2397153528431617
         ],
         "xaxis": "x",
         "y": [
          -2860,
          -2860,
          -2880,
          -2880
         ],
         "yaxis": "y"
        },
        {
         "hoverinfo": "text",
         "marker": {
          "color": "rgb(0,116,217)"
         },
         "mode": "lines",
         "type": "scatter",
         "x": [
          1.4343090857487721,
          1.4982015075287372,
          1.4982015075287372,
          1.3309983099083205
         ],
         "xaxis": "x",
         "y": [
          -2830,
          -2830,
          -2870,
          -2870
         ],
         "yaxis": "y"
        },
        {
         "hoverinfo": "text",
         "marker": {
          "color": "rgb(0,116,217)"
         },
         "mode": "lines",
         "type": "scatter",
         "x": [
          0,
          1.1650370948113231,
          1.1650370948113231,
          0
         ],
         "xaxis": "x",
         "y": [
          -2895,
          -2895,
          -2905,
          -2905
         ],
         "yaxis": "y"
        },
        {
         "hoverinfo": "text",
         "marker": {
          "color": "rgb(0,116,217)"
         },
         "mode": "lines",
         "type": "scatter",
         "x": [
          0,
          1.3004561454813939,
          1.3004561454813939,
          0
         ],
         "xaxis": "x",
         "y": [
          -2915,
          -2915,
          -2925,
          -2925
         ],
         "yaxis": "y"
        },
        {
         "hoverinfo": "text",
         "marker": {
          "color": "rgb(0,116,217)"
         },
         "mode": "lines",
         "type": "scatter",
         "x": [
          1.1650370948113231,
          1.392180126146871,
          1.392180126146871,
          1.3004561454813939
         ],
         "xaxis": "x",
         "y": [
          -2900,
          -2900,
          -2920,
          -2920
         ],
         "yaxis": "y"
        },
        {
         "hoverinfo": "text",
         "marker": {
          "color": "rgb(0,116,217)"
         },
         "mode": "lines",
         "type": "scatter",
         "x": [
          0,
          1.2702596272945554,
          1.2702596272945554,
          0
         ],
         "xaxis": "x",
         "y": [
          -2935,
          -2935,
          -2945,
          -2945
         ],
         "yaxis": "y"
        },
        {
         "hoverinfo": "text",
         "marker": {
          "color": "rgb(0,116,217)"
         },
         "mode": "lines",
         "type": "scatter",
         "x": [
          1.392180126146871,
          1.454570800868177,
          1.454570800868177,
          1.2702596272945554
         ],
         "xaxis": "x",
         "y": [
          -2910,
          -2910,
          -2940,
          -2940
         ],
         "yaxis": "y"
        },
        {
         "hoverinfo": "text",
         "marker": {
          "color": "rgb(0,116,217)"
         },
         "mode": "lines",
         "type": "scatter",
         "x": [
          1.4982015075287372,
          1.7234103564177599,
          1.7234103564177599,
          1.454570800868177
         ],
         "xaxis": "x",
         "y": [
          -2850,
          -2850,
          -2925,
          -2925
         ],
         "yaxis": "y"
        },
        {
         "hoverinfo": "text",
         "marker": {
          "color": "rgb(0,116,217)"
         },
         "mode": "lines",
         "type": "scatter",
         "x": [
          0,
          1.3394501328024466,
          1.3394501328024466,
          0
         ],
         "xaxis": "x",
         "y": [
          -2955,
          -2955,
          -2965,
          -2965
         ],
         "yaxis": "y"
        },
        {
         "hoverinfo": "text",
         "marker": {
          "color": "rgb(0,116,217)"
         },
         "mode": "lines",
         "type": "scatter",
         "x": [
          0,
          1.3343783342665259,
          1.3343783342665259,
          0
         ],
         "xaxis": "x",
         "y": [
          -2975,
          -2975,
          -2985,
          -2985
         ],
         "yaxis": "y"
        },
        {
         "hoverinfo": "text",
         "marker": {
          "color": "rgb(0,116,217)"
         },
         "mode": "lines",
         "type": "scatter",
         "x": [
          0,
          1.2474416301368523,
          1.2474416301368523,
          0
         ],
         "xaxis": "x",
         "y": [
          -2995,
          -2995,
          -3005,
          -3005
         ],
         "yaxis": "y"
        },
        {
         "hoverinfo": "text",
         "marker": {
          "color": "rgb(0,116,217)"
         },
         "mode": "lines",
         "type": "scatter",
         "x": [
          1.3343783342665259,
          1.398677172664672,
          1.398677172664672,
          1.2474416301368523
         ],
         "xaxis": "x",
         "y": [
          -2980,
          -2980,
          -3000,
          -3000
         ],
         "yaxis": "y"
        },
        {
         "hoverinfo": "text",
         "marker": {
          "color": "rgb(0,116,217)"
         },
         "mode": "lines",
         "type": "scatter",
         "x": [
          1.3394501328024466,
          1.4437117511701147,
          1.4437117511701147,
          1.398677172664672
         ],
         "xaxis": "x",
         "y": [
          -2960,
          -2960,
          -2990,
          -2990
         ],
         "yaxis": "y"
        },
        {
         "hoverinfo": "text",
         "marker": {
          "color": "rgb(0,116,217)"
         },
         "mode": "lines",
         "type": "scatter",
         "x": [
          0,
          1.3191181607299938,
          1.3191181607299938,
          0
         ],
         "xaxis": "x",
         "y": [
          -3015,
          -3015,
          -3025,
          -3025
         ],
         "yaxis": "y"
        },
        {
         "hoverinfo": "text",
         "marker": {
          "color": "rgb(0,116,217)"
         },
         "mode": "lines",
         "type": "scatter",
         "x": [
          0,
          1.336525345628797,
          1.336525345628797,
          0
         ],
         "xaxis": "x",
         "y": [
          -3045,
          -3045,
          -3055,
          -3055
         ],
         "yaxis": "y"
        },
        {
         "hoverinfo": "text",
         "marker": {
          "color": "rgb(0,116,217)"
         },
         "mode": "lines",
         "type": "scatter",
         "x": [
          1.336525345628797,
          1.3711784405738856,
          1.3711784405738856,
          0
         ],
         "xaxis": "x",
         "y": [
          -3050,
          -3050,
          -3065,
          -3065
         ],
         "yaxis": "y"
        },
        {
         "hoverinfo": "text",
         "marker": {
          "color": "rgb(0,116,217)"
         },
         "mode": "lines",
         "type": "scatter",
         "x": [
          0,
          1.4290149425527379,
          1.4290149425527379,
          1.3711784405738856
         ],
         "xaxis": "x",
         "y": [
          -3035,
          -3035,
          -3057.5,
          -3057.5
         ],
         "yaxis": "y"
        },
        {
         "hoverinfo": "text",
         "marker": {
          "color": "rgb(0,116,217)"
         },
         "mode": "lines",
         "type": "scatter",
         "x": [
          0,
          1.3470887435396577,
          1.3470887435396577,
          0
         ],
         "xaxis": "x",
         "y": [
          -3075,
          -3075,
          -3085,
          -3085
         ],
         "yaxis": "y"
        },
        {
         "hoverinfo": "text",
         "marker": {
          "color": "rgb(0,116,217)"
         },
         "mode": "lines",
         "type": "scatter",
         "x": [
          1.4290149425527379,
          1.4476612929030033,
          1.4476612929030033,
          1.3470887435396577
         ],
         "xaxis": "x",
         "y": [
          -3046.25,
          -3046.25,
          -3080,
          -3080
         ],
         "yaxis": "y"
        },
        {
         "hoverinfo": "text",
         "marker": {
          "color": "rgb(0,116,217)"
         },
         "mode": "lines",
         "type": "scatter",
         "x": [
          1.3191181607299938,
          1.4910063702079337,
          1.4910063702079337,
          1.4476612929030033
         ],
         "xaxis": "x",
         "y": [
          -3020,
          -3020,
          -3063.125,
          -3063.125
         ],
         "yaxis": "y"
        },
        {
         "hoverinfo": "text",
         "marker": {
          "color": "rgb(0,116,217)"
         },
         "mode": "lines",
         "type": "scatter",
         "x": [
          1.4437117511701147,
          1.54549703488224,
          1.54549703488224,
          1.4910063702079337
         ],
         "xaxis": "x",
         "y": [
          -2975,
          -2975,
          -3041.5625,
          -3041.5625
         ],
         "yaxis": "y"
        },
        {
         "hoverinfo": "text",
         "marker": {
          "color": "rgb(0,116,217)"
         },
         "mode": "lines",
         "type": "scatter",
         "x": [
          1.7234103564177599,
          1.8574187085659615,
          1.8574187085659615,
          1.54549703488224
         ],
         "xaxis": "x",
         "y": [
          -2887.5,
          -2887.5,
          -3008.28125,
          -3008.28125
         ],
         "yaxis": "y"
        },
        {
         "hoverinfo": "text",
         "marker": {
          "color": "rgb(0,116,217)"
         },
         "mode": "lines",
         "type": "scatter",
         "x": [
          0,
          1.2180913649511613,
          1.2180913649511613,
          0
         ],
         "xaxis": "x",
         "y": [
          -3095,
          -3095,
          -3105,
          -3105
         ],
         "yaxis": "y"
        },
        {
         "hoverinfo": "text",
         "marker": {
          "color": "rgb(0,116,217)"
         },
         "mode": "lines",
         "type": "scatter",
         "x": [
          0,
          1.2986629296931917,
          1.2986629296931917,
          0
         ],
         "xaxis": "x",
         "y": [
          -3115,
          -3115,
          -3125,
          -3125
         ],
         "yaxis": "y"
        },
        {
         "hoverinfo": "text",
         "marker": {
          "color": "rgb(0,116,217)"
         },
         "mode": "lines",
         "type": "scatter",
         "x": [
          0,
          1.3500123114214413,
          1.3500123114214413,
          0
         ],
         "xaxis": "x",
         "y": [
          -3135,
          -3135,
          -3145,
          -3145
         ],
         "yaxis": "y"
        },
        {
         "hoverinfo": "text",
         "marker": {
          "color": "rgb(0,116,217)"
         },
         "mode": "lines",
         "type": "scatter",
         "x": [
          1.2986629296931917,
          1.419947082574836,
          1.419947082574836,
          1.3500123114214413
         ],
         "xaxis": "x",
         "y": [
          -3120,
          -3120,
          -3140,
          -3140
         ],
         "yaxis": "y"
        },
        {
         "hoverinfo": "text",
         "marker": {
          "color": "rgb(0,116,217)"
         },
         "mode": "lines",
         "type": "scatter",
         "x": [
          1.2180913649511613,
          1.499009615876942,
          1.499009615876942,
          1.419947082574836
         ],
         "xaxis": "x",
         "y": [
          -3100,
          -3100,
          -3130,
          -3130
         ],
         "yaxis": "y"
        },
        {
         "hoverinfo": "text",
         "marker": {
          "color": "rgb(0,116,217)"
         },
         "mode": "lines",
         "type": "scatter",
         "x": [
          0,
          1.3269039645304486,
          1.3269039645304486,
          0
         ],
         "xaxis": "x",
         "y": [
          -3155,
          -3155,
          -3165,
          -3165
         ],
         "yaxis": "y"
        },
        {
         "hoverinfo": "text",
         "marker": {
          "color": "rgb(0,116,217)"
         },
         "mode": "lines",
         "type": "scatter",
         "x": [
          0,
          1.2966430223449505,
          1.2966430223449505,
          0
         ],
         "xaxis": "x",
         "y": [
          -3175,
          -3175,
          -3185,
          -3185
         ],
         "yaxis": "y"
        },
        {
         "hoverinfo": "text",
         "marker": {
          "color": "rgb(0,116,217)"
         },
         "mode": "lines",
         "type": "scatter",
         "x": [
          1.3269039645304486,
          1.4101715636182157,
          1.4101715636182157,
          1.2966430223449505
         ],
         "xaxis": "x",
         "y": [
          -3160,
          -3160,
          -3180,
          -3180
         ],
         "yaxis": "y"
        },
        {
         "hoverinfo": "text",
         "marker": {
          "color": "rgb(0,116,217)"
         },
         "mode": "lines",
         "type": "scatter",
         "x": [
          0,
          1.3463296986482418,
          1.3463296986482418,
          0
         ],
         "xaxis": "x",
         "y": [
          -3205,
          -3205,
          -3215,
          -3215
         ],
         "yaxis": "y"
        },
        {
         "hoverinfo": "text",
         "marker": {
          "color": "rgb(0,116,217)"
         },
         "mode": "lines",
         "type": "scatter",
         "x": [
          0,
          1.4539540209139994,
          1.4539540209139994,
          1.3463296986482418
         ],
         "xaxis": "x",
         "y": [
          -3195,
          -3195,
          -3210,
          -3210
         ],
         "yaxis": "y"
        },
        {
         "hoverinfo": "text",
         "marker": {
          "color": "rgb(0,116,217)"
         },
         "mode": "lines",
         "type": "scatter",
         "x": [
          1.4101715636182157,
          1.520042449581737,
          1.520042449581737,
          1.4539540209139994
         ],
         "xaxis": "x",
         "y": [
          -3170,
          -3170,
          -3202.5,
          -3202.5
         ],
         "yaxis": "y"
        },
        {
         "hoverinfo": "text",
         "marker": {
          "color": "rgb(0,116,217)"
         },
         "mode": "lines",
         "type": "scatter",
         "x": [
          1.499009615876942,
          1.5773896717024791,
          1.5773896717024791,
          1.520042449581737
         ],
         "xaxis": "x",
         "y": [
          -3115,
          -3115,
          -3186.25,
          -3186.25
         ],
         "yaxis": "y"
        },
        {
         "hoverinfo": "text",
         "marker": {
          "color": "rgb(0,116,217)"
         },
         "mode": "lines",
         "type": "scatter",
         "x": [
          0,
          1.2054961849409371,
          1.2054961849409371,
          0
         ],
         "xaxis": "x",
         "y": [
          -3225,
          -3225,
          -3235,
          -3235
         ],
         "yaxis": "y"
        },
        {
         "hoverinfo": "text",
         "marker": {
          "color": "rgb(0,116,217)"
         },
         "mode": "lines",
         "type": "scatter",
         "x": [
          0,
          1.2436936413140194,
          1.2436936413140194,
          0
         ],
         "xaxis": "x",
         "y": [
          -3245,
          -3245,
          -3255,
          -3255
         ],
         "yaxis": "y"
        },
        {
         "hoverinfo": "text",
         "marker": {
          "color": "rgb(0,116,217)"
         },
         "mode": "lines",
         "type": "scatter",
         "x": [
          1.2054961849409371,
          1.389367929241998,
          1.389367929241998,
          1.2436936413140194
         ],
         "xaxis": "x",
         "y": [
          -3230,
          -3230,
          -3250,
          -3250
         ],
         "yaxis": "y"
        },
        {
         "hoverinfo": "text",
         "marker": {
          "color": "rgb(0,116,217)"
         },
         "mode": "lines",
         "type": "scatter",
         "x": [
          0,
          1.3357107614840844,
          1.3357107614840844,
          0
         ],
         "xaxis": "x",
         "y": [
          -3265,
          -3265,
          -3275,
          -3275
         ],
         "yaxis": "y"
        },
        {
         "hoverinfo": "text",
         "marker": {
          "color": "rgb(0,116,217)"
         },
         "mode": "lines",
         "type": "scatter",
         "x": [
          0,
          1.273495208847998,
          1.273495208847998,
          0
         ],
         "xaxis": "x",
         "y": [
          -3295,
          -3295,
          -3305,
          -3305
         ],
         "yaxis": "y"
        },
        {
         "hoverinfo": "text",
         "marker": {
          "color": "rgb(0,116,217)"
         },
         "mode": "lines",
         "type": "scatter",
         "x": [
          0,
          1.3430045624364262,
          1.3430045624364262,
          1.273495208847998
         ],
         "xaxis": "x",
         "y": [
          -3285,
          -3285,
          -3300,
          -3300
         ],
         "yaxis": "y"
        },
        {
         "hoverinfo": "text",
         "marker": {
          "color": "rgb(0,116,217)"
         },
         "mode": "lines",
         "type": "scatter",
         "x": [
          1.3357107614840844,
          1.5003471459158488,
          1.5003471459158488,
          1.3430045624364262
         ],
         "xaxis": "x",
         "y": [
          -3270,
          -3270,
          -3292.5,
          -3292.5
         ],
         "yaxis": "y"
        },
        {
         "hoverinfo": "text",
         "marker": {
          "color": "rgb(0,116,217)"
         },
         "mode": "lines",
         "type": "scatter",
         "x": [
          1.389367929241998,
          1.6494261869258617,
          1.6494261869258617,
          1.5003471459158488
         ],
         "xaxis": "x",
         "y": [
          -3240,
          -3240,
          -3281.25,
          -3281.25
         ],
         "yaxis": "y"
        },
        {
         "hoverinfo": "text",
         "marker": {
          "color": "rgb(0,116,217)"
         },
         "mode": "lines",
         "type": "scatter",
         "x": [
          1.5773896717024791,
          1.6755057911787021,
          1.6755057911787021,
          1.6494261869258617
         ],
         "xaxis": "x",
         "y": [
          -3150.625,
          -3150.625,
          -3260.625,
          -3260.625
         ],
         "yaxis": "y"
        },
        {
         "hoverinfo": "text",
         "marker": {
          "color": "rgb(0,116,217)"
         },
         "mode": "lines",
         "type": "scatter",
         "x": [
          0,
          1.2786552434217713,
          1.2786552434217713,
          0
         ],
         "xaxis": "x",
         "y": [
          -3315,
          -3315,
          -3325,
          -3325
         ],
         "yaxis": "y"
        },
        {
         "hoverinfo": "text",
         "marker": {
          "color": "rgb(0,116,217)"
         },
         "mode": "lines",
         "type": "scatter",
         "x": [
          0,
          1.0851988041339387,
          1.0851988041339387,
          0
         ],
         "xaxis": "x",
         "y": [
          -3335,
          -3335,
          -3345,
          -3345
         ],
         "yaxis": "y"
        },
        {
         "hoverinfo": "text",
         "marker": {
          "color": "rgb(0,116,217)"
         },
         "mode": "lines",
         "type": "scatter",
         "x": [
          1.2786552434217713,
          1.4175644450194673,
          1.4175644450194673,
          1.0851988041339387
         ],
         "xaxis": "x",
         "y": [
          -3320,
          -3320,
          -3340,
          -3340
         ],
         "yaxis": "y"
        },
        {
         "hoverinfo": "text",
         "marker": {
          "color": "rgb(0,116,217)"
         },
         "mode": "lines",
         "type": "scatter",
         "x": [
          1.6755057911787021,
          1.793553312257814,
          1.793553312257814,
          1.4175644450194673
         ],
         "xaxis": "x",
         "y": [
          -3205.625,
          -3205.625,
          -3330,
          -3330
         ],
         "yaxis": "y"
        },
        {
         "hoverinfo": "text",
         "marker": {
          "color": "rgb(0,116,217)"
         },
         "mode": "lines",
         "type": "scatter",
         "x": [
          1.8574187085659615,
          2.1943349691020626,
          2.1943349691020626,
          1.793553312257814
         ],
         "xaxis": "x",
         "y": [
          -2947.890625,
          -2947.890625,
          -3267.8125,
          -3267.8125
         ],
         "yaxis": "y"
        },
        {
         "hoverinfo": "text",
         "marker": {
          "color": "rgb(0,116,217)"
         },
         "mode": "lines",
         "type": "scatter",
         "x": [
          0,
          1.1466113715074018,
          1.1466113715074018,
          0
         ],
         "xaxis": "x",
         "y": [
          -3355,
          -3355,
          -3365,
          -3365
         ],
         "yaxis": "y"
        },
        {
         "hoverinfo": "text",
         "marker": {
          "color": "rgb(0,116,217)"
         },
         "mode": "lines",
         "type": "scatter",
         "x": [
          0,
          1.3251688011188525,
          1.3251688011188525,
          0
         ],
         "xaxis": "x",
         "y": [
          -3375,
          -3375,
          -3385,
          -3385
         ],
         "yaxis": "y"
        },
        {
         "hoverinfo": "text",
         "marker": {
          "color": "rgb(0,116,217)"
         },
         "mode": "lines",
         "type": "scatter",
         "x": [
          1.3251688011188525,
          1.3684307010954326,
          1.3684307010954326,
          0
         ],
         "xaxis": "x",
         "y": [
          -3380,
          -3380,
          -3395,
          -3395
         ],
         "yaxis": "y"
        },
        {
         "hoverinfo": "text",
         "marker": {
          "color": "rgb(0,116,217)"
         },
         "mode": "lines",
         "type": "scatter",
         "x": [
          1.1466113715074018,
          1.4571881362292223,
          1.4571881362292223,
          1.3684307010954326
         ],
         "xaxis": "x",
         "y": [
          -3360,
          -3360,
          -3387.5,
          -3387.5
         ],
         "yaxis": "y"
        },
        {
         "hoverinfo": "text",
         "marker": {
          "color": "rgb(0,116,217)"
         },
         "mode": "lines",
         "type": "scatter",
         "x": [
          0,
          1.1304412200222365,
          1.1304412200222365,
          0
         ],
         "xaxis": "x",
         "y": [
          -3405,
          -3405,
          -3415,
          -3415
         ],
         "yaxis": "y"
        },
        {
         "hoverinfo": "text",
         "marker": {
          "color": "rgb(0,116,217)"
         },
         "mode": "lines",
         "type": "scatter",
         "x": [
          0,
          1.1250563015273722,
          1.1250563015273722,
          0
         ],
         "xaxis": "x",
         "y": [
          -3425,
          -3425,
          -3435,
          -3435
         ],
         "yaxis": "y"
        },
        {
         "hoverinfo": "text",
         "marker": {
          "color": "rgb(0,116,217)"
         },
         "mode": "lines",
         "type": "scatter",
         "x": [
          1.1304412200222365,
          1.4077342956765353,
          1.4077342956765353,
          1.1250563015273722
         ],
         "xaxis": "x",
         "y": [
          -3410,
          -3410,
          -3430,
          -3430
         ],
         "yaxis": "y"
        },
        {
         "hoverinfo": "text",
         "marker": {
          "color": "rgb(0,116,217)"
         },
         "mode": "lines",
         "type": "scatter",
         "x": [
          1.4571881362292223,
          1.5867872756987396,
          1.5867872756987396,
          1.4077342956765353
         ],
         "xaxis": "x",
         "y": [
          -3373.75,
          -3373.75,
          -3420,
          -3420
         ],
         "yaxis": "y"
        },
        {
         "hoverinfo": "text",
         "marker": {
          "color": "rgb(61,153,112)"
         },
         "mode": "lines",
         "type": "scatter",
         "x": [
          0,
          0.8965685958198784,
          0.8965685958198784,
          0
         ],
         "xaxis": "x",
         "y": [
          -3445,
          -3445,
          -3455,
          -3455
         ],
         "yaxis": "y"
        },
        {
         "hoverinfo": "text",
         "marker": {
          "color": "rgb(0,116,217)"
         },
         "mode": "lines",
         "type": "scatter",
         "x": [
          0,
          1.2226616114898468,
          1.2226616114898468,
          0
         ],
         "xaxis": "x",
         "y": [
          -3465,
          -3465,
          -3475,
          -3475
         ],
         "yaxis": "y"
        },
        {
         "hoverinfo": "text",
         "marker": {
          "color": "rgb(0,116,217)"
         },
         "mode": "lines",
         "type": "scatter",
         "x": [
          1.2226616114898468,
          1.2797033870603667,
          1.2797033870603667,
          0
         ],
         "xaxis": "x",
         "y": [
          -3470,
          -3470,
          -3485,
          -3485
         ],
         "yaxis": "y"
        },
        {
         "hoverinfo": "text",
         "marker": {
          "color": "rgb(0,116,217)"
         },
         "mode": "lines",
         "type": "scatter",
         "x": [
          0,
          1.2396559438464083,
          1.2396559438464083,
          0
         ],
         "xaxis": "x",
         "y": [
          -3495,
          -3495,
          -3505,
          -3505
         ],
         "yaxis": "y"
        },
        {
         "hoverinfo": "text",
         "marker": {
          "color": "rgb(0,116,217)"
         },
         "mode": "lines",
         "type": "scatter",
         "x": [
          0,
          1.1958549499311986,
          1.1958549499311986,
          0
         ],
         "xaxis": "x",
         "y": [
          -3515,
          -3515,
          -3525,
          -3525
         ],
         "yaxis": "y"
        },
        {
         "hoverinfo": "text",
         "marker": {
          "color": "rgb(0,116,217)"
         },
         "mode": "lines",
         "type": "scatter",
         "x": [
          1.1958549499311986,
          1.3410582386047971,
          1.3410582386047971,
          0
         ],
         "xaxis": "x",
         "y": [
          -3520,
          -3520,
          -3535,
          -3535
         ],
         "yaxis": "y"
        },
        {
         "hoverinfo": "text",
         "marker": {
          "color": "rgb(0,116,217)"
         },
         "mode": "lines",
         "type": "scatter",
         "x": [
          1.2396559438464083,
          1.4146786078471039,
          1.4146786078471039,
          1.3410582386047971
         ],
         "xaxis": "x",
         "y": [
          -3500,
          -3500,
          -3527.5,
          -3527.5
         ],
         "yaxis": "y"
        },
        {
         "hoverinfo": "text",
         "marker": {
          "color": "rgb(0,116,217)"
         },
         "mode": "lines",
         "type": "scatter",
         "x": [
          0,
          1.2027849926160534,
          1.2027849926160534,
          0
         ],
         "xaxis": "x",
         "y": [
          -3545,
          -3545,
          -3555,
          -3555
         ],
         "yaxis": "y"
        },
        {
         "hoverinfo": "text",
         "marker": {
          "color": "rgb(0,116,217)"
         },
         "mode": "lines",
         "type": "scatter",
         "x": [
          1.2027849926160534,
          1.33318225822795,
          1.33318225822795,
          0
         ],
         "xaxis": "x",
         "y": [
          -3550,
          -3550,
          -3565,
          -3565
         ],
         "yaxis": "y"
        },
        {
         "hoverinfo": "text",
         "marker": {
          "color": "rgb(0,116,217)"
         },
         "mode": "lines",
         "type": "scatter",
         "x": [
          1.4146786078471039,
          1.4834798078718667,
          1.4834798078718667,
          1.33318225822795
         ],
         "xaxis": "x",
         "y": [
          -3513.75,
          -3513.75,
          -3557.5,
          -3557.5
         ],
         "yaxis": "y"
        },
        {
         "hoverinfo": "text",
         "marker": {
          "color": "rgb(0,116,217)"
         },
         "mode": "lines",
         "type": "scatter",
         "x": [
          1.2797033870603667,
          1.5758462251426537,
          1.5758462251426537,
          1.4834798078718667
         ],
         "xaxis": "x",
         "y": [
          -3477.5,
          -3477.5,
          -3535.625,
          -3535.625
         ],
         "yaxis": "y"
        },
        {
         "hoverinfo": "text",
         "marker": {
          "color": "rgb(0,116,217)"
         },
         "mode": "lines",
         "type": "scatter",
         "x": [
          0.8965685958198784,
          1.696748616020249,
          1.696748616020249,
          1.5758462251426537
         ],
         "xaxis": "x",
         "y": [
          -3450,
          -3450,
          -3506.5625,
          -3506.5625
         ],
         "yaxis": "y"
        },
        {
         "hoverinfo": "text",
         "marker": {
          "color": "rgb(255,65,54)"
         },
         "mode": "lines",
         "type": "scatter",
         "x": [
          0,
          0.8011325923665398,
          0.8011325923665398,
          0
         ],
         "xaxis": "x",
         "y": [
          -3575,
          -3575,
          -3585,
          -3585
         ],
         "yaxis": "y"
        },
        {
         "hoverinfo": "text",
         "marker": {
          "color": "rgb(0,116,217)"
         },
         "mode": "lines",
         "type": "scatter",
         "x": [
          1.696748616020249,
          1.9029486593552163,
          1.9029486593552163,
          0.8011325923665398
         ],
         "xaxis": "x",
         "y": [
          -3478.28125,
          -3478.28125,
          -3580,
          -3580
         ],
         "yaxis": "y"
        },
        {
         "hoverinfo": "text",
         "marker": {
          "color": "rgb(0,116,217)"
         },
         "mode": "lines",
         "type": "scatter",
         "x": [
          1.5867872756987396,
          1.9889281925559432,
          1.9889281925559432,
          1.9029486593552163
         ],
         "xaxis": "x",
         "y": [
          -3396.875,
          -3396.875,
          -3529.140625,
          -3529.140625
         ],
         "yaxis": "y"
        },
        {
         "hoverinfo": "text",
         "marker": {
          "color": "rgb(0,116,217)"
         },
         "mode": "lines",
         "type": "scatter",
         "x": [
          2.1943349691020626,
          2.7743857678377677,
          2.7743857678377677,
          1.9889281925559432
         ],
         "xaxis": "x",
         "y": [
          -3107.8515625,
          -3107.8515625,
          -3463.0078125,
          -3463.0078125
         ],
         "yaxis": "y"
        },
        {
         "hoverinfo": "text",
         "marker": {
          "color": "rgb(0,116,217)"
         },
         "mode": "lines",
         "type": "scatter",
         "x": [
          2.444611037787265,
          3.3512796474472255,
          3.3512796474472255,
          2.7743857678377677
         ],
         "xaxis": "x",
         "y": [
          -2629.51171875,
          -2629.51171875,
          -3285.4296875,
          -3285.4296875
         ],
         "yaxis": "y"
        },
        {
         "hoverinfo": "text",
         "marker": {
          "color": "rgb(0,116,217)"
         },
         "mode": "lines",
         "type": "scatter",
         "x": [
          5.153653506299958,
          6.529429755055908,
          6.529429755055908,
          3.3512796474472255
         ],
         "xaxis": "x",
         "y": [
          -1430.8837890625,
          -1430.8837890625,
          -2957.470703125,
          -2957.470703125
         ],
         "yaxis": "y"
        },
        {
         "hoverinfo": "text",
         "marker": {
          "color": "rgb(0,116,217)"
         },
         "mode": "lines",
         "type": "scatter",
         "x": [
          4.271331198479741,
          11.919387499960925,
          11.919387499960925,
          6.529429755055908
         ],
         "xaxis": "x",
         "y": [
          -327.138671875,
          -327.138671875,
          -2194.17724609375,
          -2194.17724609375
         ],
         "yaxis": "y"
        }
       ],
       "layout": {
        "autosize": false,
        "height": 5585,
        "hoverlabel": {
         "bgcolor": "white",
         "font": {
          "family": "Rockwell",
          "size": 16
         }
        },
        "hovermode": "closest",
        "plot_bgcolor": "#ECEFF1",
        "showlegend": false,
        "template": {
         "data": {
          "bar": [
           {
            "error_x": {
             "color": "#2a3f5f"
            },
            "error_y": {
             "color": "#2a3f5f"
            },
            "marker": {
             "line": {
              "color": "white",
              "width": 0.5
             },
             "pattern": {
              "fillmode": "overlay",
              "size": 10,
              "solidity": 0.2
             }
            },
            "type": "bar"
           }
          ],
          "barpolar": [
           {
            "marker": {
             "line": {
              "color": "white",
              "width": 0.5
             },
             "pattern": {
              "fillmode": "overlay",
              "size": 10,
              "solidity": 0.2
             }
            },
            "type": "barpolar"
           }
          ],
          "carpet": [
           {
            "aaxis": {
             "endlinecolor": "#2a3f5f",
             "gridcolor": "#C8D4E3",
             "linecolor": "#C8D4E3",
             "minorgridcolor": "#C8D4E3",
             "startlinecolor": "#2a3f5f"
            },
            "baxis": {
             "endlinecolor": "#2a3f5f",
             "gridcolor": "#C8D4E3",
             "linecolor": "#C8D4E3",
             "minorgridcolor": "#C8D4E3",
             "startlinecolor": "#2a3f5f"
            },
            "type": "carpet"
           }
          ],
          "choropleth": [
           {
            "colorbar": {
             "outlinewidth": 0,
             "ticks": ""
            },
            "type": "choropleth"
           }
          ],
          "contour": [
           {
            "colorbar": {
             "outlinewidth": 0,
             "ticks": ""
            },
            "colorscale": [
             [
              0,
              "#0d0887"
             ],
             [
              0.1111111111111111,
              "#46039f"
             ],
             [
              0.2222222222222222,
              "#7201a8"
             ],
             [
              0.3333333333333333,
              "#9c179e"
             ],
             [
              0.4444444444444444,
              "#bd3786"
             ],
             [
              0.5555555555555556,
              "#d8576b"
             ],
             [
              0.6666666666666666,
              "#ed7953"
             ],
             [
              0.7777777777777778,
              "#fb9f3a"
             ],
             [
              0.8888888888888888,
              "#fdca26"
             ],
             [
              1,
              "#f0f921"
             ]
            ],
            "type": "contour"
           }
          ],
          "contourcarpet": [
           {
            "colorbar": {
             "outlinewidth": 0,
             "ticks": ""
            },
            "type": "contourcarpet"
           }
          ],
          "heatmap": [
           {
            "colorbar": {
             "outlinewidth": 0,
             "ticks": ""
            },
            "colorscale": [
             [
              0,
              "#0d0887"
             ],
             [
              0.1111111111111111,
              "#46039f"
             ],
             [
              0.2222222222222222,
              "#7201a8"
             ],
             [
              0.3333333333333333,
              "#9c179e"
             ],
             [
              0.4444444444444444,
              "#bd3786"
             ],
             [
              0.5555555555555556,
              "#d8576b"
             ],
             [
              0.6666666666666666,
              "#ed7953"
             ],
             [
              0.7777777777777778,
              "#fb9f3a"
             ],
             [
              0.8888888888888888,
              "#fdca26"
             ],
             [
              1,
              "#f0f921"
             ]
            ],
            "type": "heatmap"
           }
          ],
          "heatmapgl": [
           {
            "colorbar": {
             "outlinewidth": 0,
             "ticks": ""
            },
            "colorscale": [
             [
              0,
              "#0d0887"
             ],
             [
              0.1111111111111111,
              "#46039f"
             ],
             [
              0.2222222222222222,
              "#7201a8"
             ],
             [
              0.3333333333333333,
              "#9c179e"
             ],
             [
              0.4444444444444444,
              "#bd3786"
             ],
             [
              0.5555555555555556,
              "#d8576b"
             ],
             [
              0.6666666666666666,
              "#ed7953"
             ],
             [
              0.7777777777777778,
              "#fb9f3a"
             ],
             [
              0.8888888888888888,
              "#fdca26"
             ],
             [
              1,
              "#f0f921"
             ]
            ],
            "type": "heatmapgl"
           }
          ],
          "histogram": [
           {
            "marker": {
             "pattern": {
              "fillmode": "overlay",
              "size": 10,
              "solidity": 0.2
             }
            },
            "type": "histogram"
           }
          ],
          "histogram2d": [
           {
            "colorbar": {
             "outlinewidth": 0,
             "ticks": ""
            },
            "colorscale": [
             [
              0,
              "#0d0887"
             ],
             [
              0.1111111111111111,
              "#46039f"
             ],
             [
              0.2222222222222222,
              "#7201a8"
             ],
             [
              0.3333333333333333,
              "#9c179e"
             ],
             [
              0.4444444444444444,
              "#bd3786"
             ],
             [
              0.5555555555555556,
              "#d8576b"
             ],
             [
              0.6666666666666666,
              "#ed7953"
             ],
             [
              0.7777777777777778,
              "#fb9f3a"
             ],
             [
              0.8888888888888888,
              "#fdca26"
             ],
             [
              1,
              "#f0f921"
             ]
            ],
            "type": "histogram2d"
           }
          ],
          "histogram2dcontour": [
           {
            "colorbar": {
             "outlinewidth": 0,
             "ticks": ""
            },
            "colorscale": [
             [
              0,
              "#0d0887"
             ],
             [
              0.1111111111111111,
              "#46039f"
             ],
             [
              0.2222222222222222,
              "#7201a8"
             ],
             [
              0.3333333333333333,
              "#9c179e"
             ],
             [
              0.4444444444444444,
              "#bd3786"
             ],
             [
              0.5555555555555556,
              "#d8576b"
             ],
             [
              0.6666666666666666,
              "#ed7953"
             ],
             [
              0.7777777777777778,
              "#fb9f3a"
             ],
             [
              0.8888888888888888,
              "#fdca26"
             ],
             [
              1,
              "#f0f921"
             ]
            ],
            "type": "histogram2dcontour"
           }
          ],
          "mesh3d": [
           {
            "colorbar": {
             "outlinewidth": 0,
             "ticks": ""
            },
            "type": "mesh3d"
           }
          ],
          "parcoords": [
           {
            "line": {
             "colorbar": {
              "outlinewidth": 0,
              "ticks": ""
             }
            },
            "type": "parcoords"
           }
          ],
          "pie": [
           {
            "automargin": true,
            "type": "pie"
           }
          ],
          "scatter": [
           {
            "fillpattern": {
             "fillmode": "overlay",
             "size": 10,
             "solidity": 0.2
            },
            "type": "scatter"
           }
          ],
          "scatter3d": [
           {
            "line": {
             "colorbar": {
              "outlinewidth": 0,
              "ticks": ""
             }
            },
            "marker": {
             "colorbar": {
              "outlinewidth": 0,
              "ticks": ""
             }
            },
            "type": "scatter3d"
           }
          ],
          "scattercarpet": [
           {
            "marker": {
             "colorbar": {
              "outlinewidth": 0,
              "ticks": ""
             }
            },
            "type": "scattercarpet"
           }
          ],
          "scattergeo": [
           {
            "marker": {
             "colorbar": {
              "outlinewidth": 0,
              "ticks": ""
             }
            },
            "type": "scattergeo"
           }
          ],
          "scattergl": [
           {
            "marker": {
             "colorbar": {
              "outlinewidth": 0,
              "ticks": ""
             }
            },
            "type": "scattergl"
           }
          ],
          "scattermapbox": [
           {
            "marker": {
             "colorbar": {
              "outlinewidth": 0,
              "ticks": ""
             }
            },
            "type": "scattermapbox"
           }
          ],
          "scatterpolar": [
           {
            "marker": {
             "colorbar": {
              "outlinewidth": 0,
              "ticks": ""
             }
            },
            "type": "scatterpolar"
           }
          ],
          "scatterpolargl": [
           {
            "marker": {
             "colorbar": {
              "outlinewidth": 0,
              "ticks": ""
             }
            },
            "type": "scatterpolargl"
           }
          ],
          "scatterternary": [
           {
            "marker": {
             "colorbar": {
              "outlinewidth": 0,
              "ticks": ""
             }
            },
            "type": "scatterternary"
           }
          ],
          "surface": [
           {
            "colorbar": {
             "outlinewidth": 0,
             "ticks": ""
            },
            "colorscale": [
             [
              0,
              "#0d0887"
             ],
             [
              0.1111111111111111,
              "#46039f"
             ],
             [
              0.2222222222222222,
              "#7201a8"
             ],
             [
              0.3333333333333333,
              "#9c179e"
             ],
             [
              0.4444444444444444,
              "#bd3786"
             ],
             [
              0.5555555555555556,
              "#d8576b"
             ],
             [
              0.6666666666666666,
              "#ed7953"
             ],
             [
              0.7777777777777778,
              "#fb9f3a"
             ],
             [
              0.8888888888888888,
              "#fdca26"
             ],
             [
              1,
              "#f0f921"
             ]
            ],
            "type": "surface"
           }
          ],
          "table": [
           {
            "cells": {
             "fill": {
              "color": "#EBF0F8"
             },
             "line": {
              "color": "white"
             }
            },
            "header": {
             "fill": {
              "color": "#C8D4E3"
             },
             "line": {
              "color": "white"
             }
            },
            "type": "table"
           }
          ]
         },
         "layout": {
          "annotationdefaults": {
           "arrowcolor": "#2a3f5f",
           "arrowhead": 0,
           "arrowwidth": 1
          },
          "autotypenumbers": "strict",
          "coloraxis": {
           "colorbar": {
            "outlinewidth": 0,
            "ticks": ""
           }
          },
          "colorscale": {
           "diverging": [
            [
             0,
             "#8e0152"
            ],
            [
             0.1,
             "#c51b7d"
            ],
            [
             0.2,
             "#de77ae"
            ],
            [
             0.3,
             "#f1b6da"
            ],
            [
             0.4,
             "#fde0ef"
            ],
            [
             0.5,
             "#f7f7f7"
            ],
            [
             0.6,
             "#e6f5d0"
            ],
            [
             0.7,
             "#b8e186"
            ],
            [
             0.8,
             "#7fbc41"
            ],
            [
             0.9,
             "#4d9221"
            ],
            [
             1,
             "#276419"
            ]
           ],
           "sequential": [
            [
             0,
             "#0d0887"
            ],
            [
             0.1111111111111111,
             "#46039f"
            ],
            [
             0.2222222222222222,
             "#7201a8"
            ],
            [
             0.3333333333333333,
             "#9c179e"
            ],
            [
             0.4444444444444444,
             "#bd3786"
            ],
            [
             0.5555555555555556,
             "#d8576b"
            ],
            [
             0.6666666666666666,
             "#ed7953"
            ],
            [
             0.7777777777777778,
             "#fb9f3a"
            ],
            [
             0.8888888888888888,
             "#fdca26"
            ],
            [
             1,
             "#f0f921"
            ]
           ],
           "sequentialminus": [
            [
             0,
             "#0d0887"
            ],
            [
             0.1111111111111111,
             "#46039f"
            ],
            [
             0.2222222222222222,
             "#7201a8"
            ],
            [
             0.3333333333333333,
             "#9c179e"
            ],
            [
             0.4444444444444444,
             "#bd3786"
            ],
            [
             0.5555555555555556,
             "#d8576b"
            ],
            [
             0.6666666666666666,
             "#ed7953"
            ],
            [
             0.7777777777777778,
             "#fb9f3a"
            ],
            [
             0.8888888888888888,
             "#fdca26"
            ],
            [
             1,
             "#f0f921"
            ]
           ]
          },
          "colorway": [
           "#636efa",
           "#EF553B",
           "#00cc96",
           "#ab63fa",
           "#FFA15A",
           "#19d3f3",
           "#FF6692",
           "#B6E880",
           "#FF97FF",
           "#FECB52"
          ],
          "font": {
           "color": "#2a3f5f"
          },
          "geo": {
           "bgcolor": "white",
           "lakecolor": "white",
           "landcolor": "white",
           "showlakes": true,
           "showland": true,
           "subunitcolor": "#C8D4E3"
          },
          "hoverlabel": {
           "align": "left"
          },
          "hovermode": "closest",
          "mapbox": {
           "style": "light"
          },
          "paper_bgcolor": "white",
          "plot_bgcolor": "white",
          "polar": {
           "angularaxis": {
            "gridcolor": "#EBF0F8",
            "linecolor": "#EBF0F8",
            "ticks": ""
           },
           "bgcolor": "white",
           "radialaxis": {
            "gridcolor": "#EBF0F8",
            "linecolor": "#EBF0F8",
            "ticks": ""
           }
          },
          "scene": {
           "xaxis": {
            "backgroundcolor": "white",
            "gridcolor": "#DFE8F3",
            "gridwidth": 2,
            "linecolor": "#EBF0F8",
            "showbackground": true,
            "ticks": "",
            "zerolinecolor": "#EBF0F8"
           },
           "yaxis": {
            "backgroundcolor": "white",
            "gridcolor": "#DFE8F3",
            "gridwidth": 2,
            "linecolor": "#EBF0F8",
            "showbackground": true,
            "ticks": "",
            "zerolinecolor": "#EBF0F8"
           },
           "zaxis": {
            "backgroundcolor": "white",
            "gridcolor": "#DFE8F3",
            "gridwidth": 2,
            "linecolor": "#EBF0F8",
            "showbackground": true,
            "ticks": "",
            "zerolinecolor": "#EBF0F8"
           }
          },
          "shapedefaults": {
           "line": {
            "color": "#2a3f5f"
           }
          },
          "ternary": {
           "aaxis": {
            "gridcolor": "#DFE8F3",
            "linecolor": "#A2B1C6",
            "ticks": ""
           },
           "baxis": {
            "gridcolor": "#DFE8F3",
            "linecolor": "#A2B1C6",
            "ticks": ""
           },
           "bgcolor": "white",
           "caxis": {
            "gridcolor": "#DFE8F3",
            "linecolor": "#A2B1C6",
            "ticks": ""
           }
          },
          "title": {
           "x": 0.05
          },
          "xaxis": {
           "automargin": true,
           "gridcolor": "#EBF0F8",
           "linecolor": "#EBF0F8",
           "ticks": "",
           "title": {
            "standoff": 15
           },
           "zerolinecolor": "#EBF0F8",
           "zerolinewidth": 2
          },
          "yaxis": {
           "automargin": true,
           "gridcolor": "#EBF0F8",
           "linecolor": "#EBF0F8",
           "ticks": "",
           "title": {
            "standoff": 15
           },
           "zerolinecolor": "#EBF0F8",
           "zerolinewidth": 2
          }
         }
        },
        "title": {
         "font": {
          "color": "Black",
          "size": 22
         },
         "text": "<b>Hierarchical Clustering",
         "x": 0.5,
         "xanchor": "center",
         "yanchor": "top"
        },
        "width": 1000,
        "xaxis": {
         "mirror": "allticks",
         "rangemode": "tozero",
         "showgrid": false,
         "showline": true,
         "showticklabels": true,
         "ticks": "outside",
         "type": "linear",
         "zeroline": false
        },
        "yaxis": {
         "mirror": "allticks",
         "range": [
          -3590,
          0
         ],
         "rangemode": "tozero",
         "showgrid": false,
         "showline": true,
         "showticklabels": true,
         "tickmode": "array",
         "ticks": "outside",
         "ticktext": [
          "267_jehovah_elohim_lord",
          "176_ra_satan_god",
          "273_god_creates_omnipotence",
          "72_love_petchgvg47gvgtekcom...",
          "259_sin_hate_love",
          "44_mary_her_she",
          "98_baptism_sin_aaron",
          "162_holy_trinity_father",
          "216_sabbath_worship_law",
          "308_jesus_guilt_light",
          "221_god_jesus_malcolm",
          "312_god_evil_serbian",
          "240_faith_saved_romans",
          "338_god_love_shall",
          "25_hell_eternal_god",
          "91_marriage_married_marry",
          "239_church_churches_crossro...",
          "51_mormon_mormons_lds",
          "120_cult_cults_freemasonry",
          "353_fbi_bd_atf",
          "190_roby_robychopinudeledu_...",
          "58_batf_warrant_waco",
          "112_reno_waco_federal",
          "21_fire_fbi_atf",
          "262_koresh_koreshs_children",
          "11_jews_zionism_jewish",
          "82_israeli_israel_soldiers",
          "49_arab_israel_jews",
          "52_gaza_israel_palestinian",
          "50_lebanese_israel_lebanon",
          "288_depression_dariceyoyocc...",
          "23_gay_men_kinsey",
          "28_clayton_cramer_crameropt...",
          "158_punishment_penalty_death",
          "60_morality_moral_animals",
          "27_objective_morality_moral",
          "219_context_meritt_jim",
          "18_islam_rushdie_islamic",
          "102_theism_fanatism_belief",
          "290_exist_existence_universe",
          "57_science_methodology_scie...",
          "123_centaur_proton_energy",
          "356_mining_ssf_funds",
          "36_moon_billion_prize",
          "10_sky_space_vandalizing",
          "154_space_mars_life",
          "122_kuwait_saudi_iraq",
          "108_king_black_kyle",
          "170_abortion_abortions_choice",
          "84_insurance_health_private",
          "61_tax_taxes_income",
          "48_government_libertarians_...",
          "19_muslims_serbs_bosnian",
          "107_stephanopoulos_myers_pr...",
          "78_armenians_azerbaijan_were",
          "29_behind_traffic_bike",
          "12_bike_bikes_motorcycle",
          "26_homosexuality_homosexual...",
          "64_christianity_christian_l...",
          "76_truth_arrogance_absolutes",
          "3_atheists_atheism_god",
          "2_jesus_bible_scripture",
          "0_gun_guns_firearms",
          "9_forged_posts_your",
          "1_address_mailing_email",
          "47_nsa_cryptosystems_encryp...",
          "125_clipper_crypto_phones",
          "17_clipper_phone_key",
          "214_encryption_clipper_chip",
          "183_encryption_privacy_gove...",
          "159_algorithm_clipper_secret",
          "153_escrow_agencies_key",
          "138_ide_bus_controller",
          "33_scsi_ide_scsi2",
          "223_floppy_drive_boot",
          "34_drive_drives_controller",
          "69_drive_floptical_drives",
          "243_ram_amiga_meg",
          "124_motherboard_486_intel",
          "315_gateway_vasudev_murthy",
          "121_speed_x86_680x0",
          "101_mhz_dx50_486dx250",
          "103_mhz_clock_iisi",
          "81_cpu_fan_heat",
          "118_610_centris_lciii",
          "20_simms_simm_vram",
          "77_mac_disks_800k",
          "54_sound_midi_stereo",
          "65_cdrom_toshiba_cd300",
          "279_quadra_scsi_cartridge",
          "113_tape_backup_adaptec",
          "334_tape_vcr_copy",
          "39_games_sega_genesis",
          "37_cds_sale_cd",
          "4_amp_sale_sony",
          "86_sale_list_ca",
          "6_printer_deskjet_hp",
          "139_duo_230_beeps",
          "55_powerbook_duo_portable",
          "41_modem_modems_courier",
          "63_serial_modem_rs232",
          "66_board_pin_ethernet",
          "7_drivers_diamond_card",
          "100_card_orchid_p9000",
          "87_monitor_screen_problem",
          "45_monitor_vga_monitors",
          "111_nanao_nec_monitors",
          "94_monitors_hours_24",
          "22_widget_motif_window",
          "8_os2_microsoft_nt",
          "15_dos_allocation_windows",
          "38_memory_swap_windows",
          "46_copy_protected_protection",
          "332_motorcycling_gentlemen_...",
          "251_windy_wind_ride",
          "106_wave_bikers_squids",
          "287_drinking_riding_drink",
          "208_dwi_driving_liquor",
          "191_officers_cop_xxxx",
          "70_helmet_helmets_shoei",
          "179_pillion_riding_advice",
          "80_countersteering_bike_cou...",
          "59_dog_dogs_springer",
          "269_tires_tire_fluids",
          "74_oil_drain_changing",
          "174_odometer_sensor_mileage",
          "71_car_toyota_miles",
          "114_car_toyota_cruiser",
          "145_car_dealer_price",
          "53_shift_shifting_manual",
          "92_mustang_ford_camaro",
          "134_130_rush_speed",
          "30_radar_detector_detectors",
          "31_bmw_moa_list",
          "128_insurance_car_rates",
          "205_geico_insurance_claim",
          "303_jb_placebo_rr",
          "209_kidney_stones_calcium",
          "211_thyroid_depression_prozac",
          "173_chromium_weight_fat",
          "181_seizures_corn_seizure",
          "226_polio_disease_syndrome",
          "207_lyme_disease_quack",
          "213_crohns_ibd_inflammation",
          "228_ear_earwax_ears",
          "192_needles_homeopathy_acup...",
          "135_migraine_pain_migraines",
          "119_hernia_pain_ultrasound",
          "79_candida_yeast_systemic",
          "116_skin_shots_allergy",
          "133_171292_101292_hiv",
          "280_cancer_breast_booklet",
          "331_haldol_elderly_lithium",
          "93_drugs_drug_cocaine",
          "297_initiative_wiretapping_...",
          "171_clinton_bush_clipper",
          "345_overreacting_bums_han",
          "320_deadly_lowabiding_rocks",
          "289_rocks_overpass_kids",
          "144_barbecued_carcinogenic_...",
          "43_msg_food_sensitivity",
          "305_hacker_ethic_hackers",
          "335_selective_service_borden",
          "253_parsli_quisling_norway",
          "351_letter_lobby_letters",
          "319_fifth_keyphrase_amendment",
          "149_stove_electric_napalm",
          "199_gas_tear_cs",
          "250_reno_janet_madman",
          "156_koresh_backing_biblical",
          "336_sword_malcolm_mormons",
          "218_rosicrucian_amorc_orders",
          "275_mithras_oto_reuss",
          "324_easter_resurrection_cel...",
          "337_pope_schism_church",
          "325_tongues_language_tounges",
          "340_silence_moment_prayer",
          "304_adl_bullock_gerard",
          "274_yassin_deir_irgun",
          "232_mosques_jerusalem_mosque",
          "196_israeli_israel_biased",
          "272_uva_partying_schools",
          "165_freedom_beyer_speech",
          "90_greek_greece_greeks",
          "14_armenian_turkish_armenians",
          "117_phone_line_number",
          "260_wire_wiring_ground",
          "137_scope_scopes_oscilloscope",
          "357_voltage_current_output",
          "167_uv_subliminal_tv",
          "152_ir_detector_cycle",
          "186_distance_receiver_measure",
          "296_cable_tv_tvi",
          "175_ham_surges_alternator",
          "142_tempest_monitor_emissions",
          "109_water_habitable_atmosph...",
          "283_ether_planets_twist",
          "160_theory_universe_larsons",
          "56_gamma_bursters_oort",
          "266_satellite_satellites_drag",
          "110_command_galileo_spacecr...",
          "42_hst_mission_servicing",
          "129_space_launch_nasa",
          "241_station_redesign_option",
          "169_ftp_pctcp_nonibm",
          "193_images_geosphere_image",
          "271_processing_image_dicta93",
          "83_3d_library_grafsys",
          "245_3do_real3d_list",
          "115_split_newsgroup_group",
          "210_graphics_ray_image",
          "178_image_processing_analysis",
          "24_jpeg_gif_image",
          "99_xv_bit_image",
          "97_celp_speech_compression",
          "104_des_scicrypt_key",
          "294_des_keys_keyseach",
          "177_des_key_bits",
          "254_chip_key_kp",
          "346_s1_s2_serial",
          "182_sox_red_bosox",
          "141_tigers_pitching_houston",
          "126_phillies_phils_1964",
          "258_cubs_americas_braves",
          "140_torre_hitter_lankford",
          "285_lankford_injury_ray",
          "127_gant_hirschbeck_umpire",
          "147_games_baseball_game",
          "202_baseball_bolick_umpires",
          "151_lopez_catchers_aaa",
          "187_yankee_boggs_yanks",
          "35_morris_jays_team",
          "105_runs_clutch_rbis",
          "40_leafs_game_wings",
          "5_espn_game_games",
          "164_pens_caps_penguins",
          "89_sabres_buffalo_fuhr",
          "284_don_cherry_coach",
          "264_ulf_drozinski_players",
          "295_jagr_francis_stat",
          "146_europeans_nhl_players",
          "230_nhl_milwaukee_minnesota",
          "306_rangers_keenan_messier",
          "286_biggest_disappointment_...",
          "307_jets_canucks_winnipeg",
          "131_murray_wings_gm",
          "188_sharks_season_grade",
          "278_bonds_williams_batting",
          "217_dl_harkey_dolven",
          "322_uniforms_marlins_reds",
          "75_jewish_baseball_players",
          "318_hall_fame_kingman",
          "233_hrivnak_gtd597aprismgat...",
          "172_mask_goalie_gtd597apris...",
          "67_finland_sweden_czech",
          "16_550_25_gm",
          "198_blues_hawks_joseph",
          "327_octopus_ice_detroit",
          "300_skate_carol_malarchuk",
          "229_captain_traded_captains",
          "323_oilers_pocklington_nort...",
          "355_mattingly_don_drm6640te...",
          "184_maxaxaxaxaxaxaxaxaxaxax...",
          "185_db_mov_blbh",
          "339_ampere_amp_db",
          "238_pregnency_biology_teacher",
          "348_antihistamine_hismanal_...",
          "166_solvent_adhesive_ducttape",
          "265_diesels_diesel_fuel",
          "255_cooling_towers_nuclear",
          "352_vhs_kou_1100",
          "330_movies_bikes_csundh30ur...",
          "311_vmax_handling_ba7116326...",
          "344_sunset_sunrise_wetstein",
          "350_het_een_de",
          "244_comet_jupiter_gehrels",
          "321_smiley_object_kuiper",
          "200_lens_camera_nikon",
          "136_1st_wolverine_comics",
          "224_wheelie_shaftdrive_whee...",
          "235_wheelies_shaft_chain",
          "95_v4_v6_v8",
          "203_mr2_engine_mr2s",
          "282_gauge_gauges_cigarette",
          "301_lights_dumbest_stalk",
          "234_convertible_wife_contin...",
          "277_vw_passat_mercedes",
          "328_car_safety_saftey",
          "248_saturn_dealer_profit",
          "157_wax_scratches_plastic",
          "220_chain_wax_maxima",
          "263_lock_locks_cobra",
          "293_bryce_touring_bike",
          "298_exhaust_carbs_intake",
          "343_r12_air_substitutes",
          "247_pat_accessdigexnet_expr...",
          "341_wrench_srb_thiokol",
          "180_accelerations_accelerat...",
          "257_level_software_wingert",
          "256_orion_film_prototype",
          "314_temperature_interstella...",
          "342_date_clock_dos",
          "68_battery_batteries_concrete",
          "302_cruel_keith_constitution",
          "236_circumcision_cons_pros",
          "237_eye_dominance_prk",
          "88_photography_krillean_kir...",
          "215_42_tiff_philosophical",
          "231_xv_escaped_donation",
          "309_luminosity_colour_hue",
          "194_leds_blue_boards",
          "329_varma_seema_converter",
          "317_mixer_circuits_fm",
          "261_nyc_electronic_heathkit...",
          "212_dialing_phones_tone",
          "333_fax_modem_supra",
          "168_scanner_scanners_logitech",
          "227_joystick_joysticks_arcade",
          "155_irq_interrupt_port",
          "316_eisa_isa_bus",
          "163_pds_nubus_lc",
          "252_duo_dock_apple",
          "161_photoshop_adobe_unixxmo...",
          "349_autotrace_illustrator_p...",
          "85_sphere_points_den",
          "96_polygon_polygons_routine",
          "310_8051_68hc16_assemblers",
          "270_dxf_iff_format",
          "358_gopher_phigs_search",
          "354_visualization_graphics_...",
          "206_neural_chemistry_molecu...",
          "268_sale_lekoff_articdi70co...",
          "132_summer_sublet_japanese",
          "130_ticket_airline_hotel",
          "201_tickets_105pm_735pm",
          "299_widgets_gadgets_widget",
          "195_motif_linux_athena",
          "143_keyboard_numlock_keys",
          "222_cursor_xterm_blinking",
          "326_xputimage_shared_server",
          "32_error_libxmulibxmuso_sym...",
          "249_xdm_server_00",
          "62_colormap_visual_color",
          "13_window_manager_button",
          "73_fonts_font_truetype",
          "291_font_fonts_alavi",
          "281_pif_dos_windows",
          "242_w4wg_network_windows",
          "148_slip_ashok_packet",
          "150_postscript_ghostscript_...",
          "313_print_printer_file",
          "204_icons_icon_program",
          "189_workspace_updating_mana...",
          "347_licensed_2a42dubinskivm...",
          "276_logo_wincom_startup",
          "292_tga_rle_povray",
          "246_cview_temp_directory",
          "197_mouse_driver_windows",
          "225_mouse_jumpy_motion"
         ],
         "tickvals": [
          -5,
          -15,
          -25,
          -35,
          -45,
          -55,
          -65,
          -75,
          -85,
          -95,
          -105,
          -115,
          -125,
          -135,
          -145,
          -155,
          -165,
          -175,
          -185,
          -195,
          -205,
          -215,
          -225,
          -235,
          -245,
          -255,
          -265,
          -275,
          -285,
          -295,
          -305,
          -315,
          -325,
          -335,
          -345,
          -355,
          -365,
          -375,
          -385,
          -395,
          -405,
          -415,
          -425,
          -435,
          -445,
          -455,
          -465,
          -475,
          -485,
          -495,
          -505,
          -515,
          -525,
          -535,
          -545,
          -555,
          -565,
          -575,
          -585,
          -595,
          -605,
          -615,
          -625,
          -635,
          -645,
          -655,
          -665,
          -675,
          -685,
          -695,
          -705,
          -715,
          -725,
          -735,
          -745,
          -755,
          -765,
          -775,
          -785,
          -795,
          -805,
          -815,
          -825,
          -835,
          -845,
          -855,
          -865,
          -875,
          -885,
          -895,
          -905,
          -915,
          -925,
          -935,
          -945,
          -955,
          -965,
          -975,
          -985,
          -995,
          -1005,
          -1015,
          -1025,
          -1035,
          -1045,
          -1055,
          -1065,
          -1075,
          -1085,
          -1095,
          -1105,
          -1115,
          -1125,
          -1135,
          -1145,
          -1155,
          -1165,
          -1175,
          -1185,
          -1195,
          -1205,
          -1215,
          -1225,
          -1235,
          -1245,
          -1255,
          -1265,
          -1275,
          -1285,
          -1295,
          -1305,
          -1315,
          -1325,
          -1335,
          -1345,
          -1355,
          -1365,
          -1375,
          -1385,
          -1395,
          -1405,
          -1415,
          -1425,
          -1435,
          -1445,
          -1455,
          -1465,
          -1475,
          -1485,
          -1495,
          -1505,
          -1515,
          -1525,
          -1535,
          -1545,
          -1555,
          -1565,
          -1575,
          -1585,
          -1595,
          -1605,
          -1615,
          -1625,
          -1635,
          -1645,
          -1655,
          -1665,
          -1675,
          -1685,
          -1695,
          -1705,
          -1715,
          -1725,
          -1735,
          -1745,
          -1755,
          -1765,
          -1775,
          -1785,
          -1795,
          -1805,
          -1815,
          -1825,
          -1835,
          -1845,
          -1855,
          -1865,
          -1875,
          -1885,
          -1895,
          -1905,
          -1915,
          -1925,
          -1935,
          -1945,
          -1955,
          -1965,
          -1975,
          -1985,
          -1995,
          -2005,
          -2015,
          -2025,
          -2035,
          -2045,
          -2055,
          -2065,
          -2075,
          -2085,
          -2095,
          -2105,
          -2115,
          -2125,
          -2135,
          -2145,
          -2155,
          -2165,
          -2175,
          -2185,
          -2195,
          -2205,
          -2215,
          -2225,
          -2235,
          -2245,
          -2255,
          -2265,
          -2275,
          -2285,
          -2295,
          -2305,
          -2315,
          -2325,
          -2335,
          -2345,
          -2355,
          -2365,
          -2375,
          -2385,
          -2395,
          -2405,
          -2415,
          -2425,
          -2435,
          -2445,
          -2455,
          -2465,
          -2475,
          -2485,
          -2495,
          -2505,
          -2515,
          -2525,
          -2535,
          -2545,
          -2555,
          -2565,
          -2575,
          -2585,
          -2595,
          -2605,
          -2615,
          -2625,
          -2635,
          -2645,
          -2655,
          -2665,
          -2675,
          -2685,
          -2695,
          -2705,
          -2715,
          -2725,
          -2735,
          -2745,
          -2755,
          -2765,
          -2775,
          -2785,
          -2795,
          -2805,
          -2815,
          -2825,
          -2835,
          -2845,
          -2855,
          -2865,
          -2875,
          -2885,
          -2895,
          -2905,
          -2915,
          -2925,
          -2935,
          -2945,
          -2955,
          -2965,
          -2975,
          -2985,
          -2995,
          -3005,
          -3015,
          -3025,
          -3035,
          -3045,
          -3055,
          -3065,
          -3075,
          -3085,
          -3095,
          -3105,
          -3115,
          -3125,
          -3135,
          -3145,
          -3155,
          -3165,
          -3175,
          -3185,
          -3195,
          -3205,
          -3215,
          -3225,
          -3235,
          -3245,
          -3255,
          -3265,
          -3275,
          -3285,
          -3295,
          -3305,
          -3315,
          -3325,
          -3335,
          -3345,
          -3355,
          -3365,
          -3375,
          -3385,
          -3395,
          -3405,
          -3415,
          -3425,
          -3435,
          -3445,
          -3455,
          -3465,
          -3475,
          -3485,
          -3495,
          -3505,
          -3515,
          -3525,
          -3535,
          -3545,
          -3555,
          -3565,
          -3575,
          -3585
         ],
         "type": "linear",
         "zeroline": false
        }
       }
      }
     },
     "metadata": {},
     "output_type": "display_data"
    }
   ],
   "source": [
    "model.visualize_hierarchy()"
   ]
  },
  {
   "cell_type": "code",
   "execution_count": 8,
   "metadata": {},
   "outputs": [
    {
     "data": {
      "image/png": "[encoded data removed]",
      "text/plain": [
       "<Figure size 1500x1500 with 1 Axes>"
      ]
     },
     "metadata": {},
     "output_type": "display_data"
    }
   ],
   "source": [
    "import numpy as np\n",
    "import pandas as pd\n",
    "from umap import UMAP\n",
    "from sklearn.datasets import fetch_20newsgroups\n",
    "\n",
    "import matplotlib\n",
    "import matplotlib.pyplot as plt\n",
    "\n",
    "%matplotlib inline\n",
    "\n",
    "# Prepare data for plotting\n",
    "embeddings = model._extract_embeddings(docs, method=\"document\")\n",
    "umap_model = UMAP(n_neighbors=10, n_components=2, min_dist=0.0, metric='cosine').fit(embeddings)\n",
    "df = pd.DataFrame(umap_model.embedding_, columns=[\"x\", \"y\"])\n",
    "df[\"topic\"] = topics\n",
    "\n",
    "# Plot parameters\n",
    "top_n = 10\n",
    "fontsize = 12\n",
    "\n",
    "# Slice data\n",
    "to_plot = df.copy()\n",
    "to_plot[df.topic >= top_n] = -1\n",
    "outliers = to_plot.loc[to_plot.topic == -1]\n",
    "non_outliers = to_plot.loc[to_plot.topic != -1]\n",
    "\n",
    "# Visualize topics\n",
    "cmap = matplotlib.colors.ListedColormap(['#FF5722', # Red\n",
    "                                         '#03A9F4', # Blue\n",
    "                                         '#4CAF50', # Green\n",
    "                                         '#80CBC4', # FFEB3B\n",
    "                                         '#673AB7', # Purple\n",
    "                                         '#795548', # Brown\n",
    "                                         '#E91E63', # Pink\n",
    "                                         '#212121', # Black\n",
    "                                         '#00BCD4', # Light Blue\n",
    "                                         '#CDDC39', # Yellow/Red\n",
    "                                         '#AED581', # Light Green\n",
    "                                         '#FFE082', # Light Orange\n",
    "                                         '#BCAAA4', # Light Brown\n",
    "                                         '#B39DDB', # Light Purple\n",
    "                                         '#F48FB1', # Light Pink\n",
    "                                         ])\n",
    "\n",
    "# Visualize outliers + inliers\n",
    "fig, ax = plt.subplots(figsize=(15, 15))\n",
    "scatter_outliers = ax.scatter(outliers['x'], outliers['y'], c=\"#E0E0E0\", s=1, alpha=.3)\n",
    "scatter = ax.scatter(non_outliers['x'], non_outliers['y'], c=non_outliers['topic'], s=1, alpha=.3, cmap=cmap)\n",
    "\n",
    "# Add topic names to clusters\n",
    "centroids = to_plot.groupby(\"topic\").mean().reset_index().iloc[1:]\n",
    "for row in centroids.iterrows():\n",
    "    topic = int(row[1].topic)\n",
    "    text = f\"{topic}: \" + \"_\".join([x[0] for x in model.get_topic(topic)[:3]])\n",
    "    ax.text(row[1].x, row[1].y*1.01, text, fontsize=fontsize, horizontalalignment='center')\n",
    "\n",
    "ax.text(0.99, 0.01, f\"BERTopic - Top {top_n} topics\", transform=ax.transAxes, horizontalalignment=\"right\", color=\"black\")\n",
    "plt.xticks([], [])\n",
    "plt.yticks([], [])\n",
    "plt.savefig(\"BERTopic_Example_Cluster_Plot.png\")\n",
    "plt.show()"
   ]
  },
  {
   "cell_type": "code",
   "execution_count": 10,
   "metadata": {},
   "outputs": [
    {
     "data": {
      "text/plain": [
       "18846"
      ]
     },
     "execution_count": 10,
     "metadata": {},
     "output_type": "execute_result"
    }
   ],
   "source": [
    "len(topics)"
   ]
  },
  {
   "cell_type": "code",
   "execution_count": null,
   "metadata": {},
   "outputs": [],
   "source": []
  }
 ],
 "metadata": {
  "kernelspec": {
   "display_name": "level1_py310",
   "language": "python",
   "name": "level1_py310"
  },
  "language_info": {
   "codemirror_mode": {
    "name": "ipython",
    "version": 3
   },
   "file_extension": ".py",
   "mimetype": "text/x-python",
   "name": "python",
   "nbconvert_exporter": "python",
   "pygments_lexer": "ipython3",
   "version": "3.10.1"
  },
  "orig_nbformat": 4,
  "vscode": {
   "interpreter": {
    "hash": "d89c39eb4a984fcf43ceca0b8c5be43979e9b8f7a2029ea8a54f4a0f5b2e7ef9"
   }
  }
 },
 "nbformat": 4,
 "nbformat_minor": 2
}
